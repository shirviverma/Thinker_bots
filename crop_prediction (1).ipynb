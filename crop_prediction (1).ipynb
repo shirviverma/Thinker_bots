{
  "cells": [
    {
      "cell_type": "code",
      "execution_count": 1,
      "metadata": {
        "colab": {
          "base_uri": "https://localhost:8080/"
        },
        "id": "wdKumsWgQ2Ck",
        "outputId": "a22b697a-25ab-4cc2-8383-c2437b79536b"
      },
      "outputs": [
        {
          "name": "stdout",
          "output_type": "stream",
          "text": [
            "Drive already mounted at /content/drive; to attempt to forcibly remount, call drive.mount(\"/content/drive\", force_remount=True).\n"
          ]
        }
      ],
      "source": [
        "#from google.colab import drive\n",
        "#drive.mount('/content/drive')"
      ]
    },
    {
      "cell_type": "code",
      "execution_count": 1,
      "metadata": {
        "id": "An57OepfR_QM"
      },
      "outputs": [],
      "source": [
        "AP = []\n",
        "MN = []\n"
      ]
    },
    {
      "cell_type": "code",
      "execution_count": 67,
      "metadata": {
        "id": "ZZIUqoT5R_Sr"
      },
      "outputs": [],
      "source": [
        "import pandas as pd\n",
        "import seaborn as sns \n",
        "import matplotlib.pyplot as plt\n",
        "import numpy as np\n",
        "import scipy.stats as stats\n",
        "from sklearn import preprocessing\n",
        "from sklearn.model_selection import train_test_split\n",
        "from imblearn.over_sampling import SMOTE\n",
        "from collections import Counter\n",
        "import pickle"
      ]
    },
    {
      "cell_type": "code",
      "execution_count": 3,
      "metadata": {
        "colab": {
          "base_uri": "https://localhost:8080/"
        },
        "id": "a35TUsVTR_VM",
        "outputId": "5c2eab74-5b36-4275-f329-b8fb59634e5f"
      },
      "outputs": [
        {
          "name": "stdout",
          "output_type": "stream",
          "text": [
            "Requirement already satisfied: catboost in c:\\python\\lib\\site-packages (1.0.6)\n",
            "Requirement already satisfied: graphviz in c:\\python\\lib\\site-packages (from catboost) (0.20.1)\n",
            "Requirement already satisfied: numpy>=1.16.0 in c:\\python\\lib\\site-packages (from catboost) (1.23.2)\n",
            "Requirement already satisfied: pandas>=0.24.0 in c:\\python\\lib\\site-packages (from catboost) (1.4.3)\n",
            "Requirement already satisfied: six in c:\\python\\lib\\site-packages (from catboost) (1.16.0)\n",
            "Requirement already satisfied: plotly in c:\\python\\lib\\site-packages (from catboost) (5.10.0)\n",
            "Requirement already satisfied: scipy in c:\\python\\lib\\site-packages (from catboost) (1.9.1)\n",
            "Requirement already satisfied: matplotlib in c:\\python\\lib\\site-packages (from catboost) (3.5.3)\n",
            "Requirement already satisfied: pytz>=2020.1 in c:\\python\\lib\\site-packages (from pandas>=0.24.0->catboost) (2022.2.1)\n",
            "Requirement already satisfied: python-dateutil>=2.8.1 in c:\\python\\lib\\site-packages (from pandas>=0.24.0->catboost) (2.8.2)\n",
            "Requirement already satisfied: packaging>=20.0 in c:\\python\\lib\\site-packages (from matplotlib->catboost) (21.3)\n",
            "Requirement already satisfied: cycler>=0.10 in c:\\python\\lib\\site-packages (from matplotlib->catboost) (0.11.0)\n",
            "Requirement already satisfied: pyparsing>=2.2.1 in c:\\python\\lib\\site-packages (from matplotlib->catboost) (3.0.9)\n",
            "Requirement already satisfied: pillow>=6.2.0 in c:\\python\\lib\\site-packages (from matplotlib->catboost) (9.2.0)\n",
            "Requirement already satisfied: fonttools>=4.22.0 in c:\\python\\lib\\site-packages (from matplotlib->catboost) (4.37.1)\n",
            "Requirement already satisfied: kiwisolver>=1.0.1 in c:\\python\\lib\\site-packages (from matplotlib->catboost) (1.4.4)\n",
            "Requirement already satisfied: tenacity>=6.2.0 in c:\\python\\lib\\site-packages (from plotly->catboost) (8.0.1)\n"
          ]
        },
        {
          "name": "stderr",
          "output_type": "stream",
          "text": [
            "WARNING: You are using pip version 21.2.3; however, version 22.2.2 is available.\n",
            "You should consider upgrading via the 'C:\\python\\python.exe -m pip install --upgrade pip' command.\n"
          ]
        }
      ],
      "source": [
        "!pip install catboost"
      ]
    },
    {
      "cell_type": "code",
      "execution_count": 4,
      "metadata": {
        "id": "NBHlGYZVR_Xd"
      },
      "outputs": [],
      "source": [
        "from sklearn.svm import SVC\n",
        "from sklearn.tree import DecisionTreeClassifier\n",
        "from sklearn.linear_model import LogisticRegression\n",
        "from sklearn.neighbors import KNeighborsClassifier\n",
        "from catboost import CatBoostClassifier\n",
        "from sklearn.naive_bayes import GaussianNB\n",
        "from xgboost import XGBClassifier\n",
        "import xgboost as xgb\n",
        "from sklearn.ensemble import RandomForestClassifier"
      ]
    },
    {
      "cell_type": "code",
      "execution_count": 5,
      "metadata": {
        "id": "jCtiQG6cR_Zm"
      },
      "outputs": [],
      "source": [
        "from sklearn.metrics import accuracy_score,confusion_matrix,classification_report\n",
        "from sklearn import metrics\n",
        "from sklearn.model_selection import cross_val_score"
      ]
    },
    {
      "cell_type": "code",
      "execution_count": 10,
      "metadata": {
        "colab": {
          "base_uri": "https://localhost:8080/",
          "height": 36
        },
        "id": "Rq8v_ykpR_cZ",
        "outputId": "d9f19265-6834-411f-d0d3-0eeb78a8b9bb"
      },
      "outputs": [
        {
          "data": {
            "text/plain": [
              "'c:\\\\Users\\\\Chetan\\\\Downloads'"
            ]
          },
          "execution_count": 10,
          "metadata": {},
          "output_type": "execute_result"
        }
      ],
      "source": [
        "pwd"
      ]
    },
    {
      "cell_type": "code",
      "execution_count": 15,
      "metadata": {
        "id": "69HqoFrPR_e2"
      },
      "outputs": [],
      "source": [
        "DF0 = pd.read_csv(\"C:\\HTM2022\\Crop_recommendation.csv\")"
      ]
    },
    {
      "cell_type": "code",
      "execution_count": 16,
      "metadata": {
        "colab": {
          "base_uri": "https://localhost:8080/",
          "height": 394
        },
        "id": "Q_IG7JIsR_hN",
        "outputId": "03e8fb0d-38e2-41b6-e077-38a41895d23b"
      },
      "outputs": [
        {
          "data": {
            "text/html": [
              "<div>\n",
              "<style scoped>\n",
              "    .dataframe tbody tr th:only-of-type {\n",
              "        vertical-align: middle;\n",
              "    }\n",
              "\n",
              "    .dataframe tbody tr th {\n",
              "        vertical-align: top;\n",
              "    }\n",
              "\n",
              "    .dataframe thead th {\n",
              "        text-align: right;\n",
              "    }\n",
              "</style>\n",
              "<table border=\"1\" class=\"dataframe\">\n",
              "  <thead>\n",
              "    <tr style=\"text-align: right;\">\n",
              "      <th></th>\n",
              "      <th>N</th>\n",
              "      <th>P</th>\n",
              "      <th>K</th>\n",
              "      <th>temperature</th>\n",
              "      <th>humidity</th>\n",
              "      <th>ph</th>\n",
              "      <th>rainfall</th>\n",
              "      <th>label</th>\n",
              "    </tr>\n",
              "  </thead>\n",
              "  <tbody>\n",
              "    <tr>\n",
              "      <th>0</th>\n",
              "      <td>90</td>\n",
              "      <td>42</td>\n",
              "      <td>43</td>\n",
              "      <td>20.879744</td>\n",
              "      <td>82.002744</td>\n",
              "      <td>6.502985</td>\n",
              "      <td>202.935536</td>\n",
              "      <td>rice</td>\n",
              "    </tr>\n",
              "    <tr>\n",
              "      <th>1</th>\n",
              "      <td>85</td>\n",
              "      <td>58</td>\n",
              "      <td>41</td>\n",
              "      <td>21.770462</td>\n",
              "      <td>80.319644</td>\n",
              "      <td>7.038096</td>\n",
              "      <td>226.655537</td>\n",
              "      <td>rice</td>\n",
              "    </tr>\n",
              "    <tr>\n",
              "      <th>2</th>\n",
              "      <td>60</td>\n",
              "      <td>55</td>\n",
              "      <td>44</td>\n",
              "      <td>23.004459</td>\n",
              "      <td>82.320763</td>\n",
              "      <td>7.840207</td>\n",
              "      <td>263.964248</td>\n",
              "      <td>rice</td>\n",
              "    </tr>\n",
              "    <tr>\n",
              "      <th>3</th>\n",
              "      <td>74</td>\n",
              "      <td>35</td>\n",
              "      <td>40</td>\n",
              "      <td>26.491096</td>\n",
              "      <td>80.158363</td>\n",
              "      <td>6.980401</td>\n",
              "      <td>242.864034</td>\n",
              "      <td>rice</td>\n",
              "    </tr>\n",
              "    <tr>\n",
              "      <th>4</th>\n",
              "      <td>78</td>\n",
              "      <td>42</td>\n",
              "      <td>42</td>\n",
              "      <td>20.130175</td>\n",
              "      <td>81.604873</td>\n",
              "      <td>7.628473</td>\n",
              "      <td>262.717340</td>\n",
              "      <td>rice</td>\n",
              "    </tr>\n",
              "    <tr>\n",
              "      <th>5</th>\n",
              "      <td>69</td>\n",
              "      <td>37</td>\n",
              "      <td>42</td>\n",
              "      <td>23.058049</td>\n",
              "      <td>83.370118</td>\n",
              "      <td>7.073454</td>\n",
              "      <td>251.055000</td>\n",
              "      <td>rice</td>\n",
              "    </tr>\n",
              "    <tr>\n",
              "      <th>6</th>\n",
              "      <td>69</td>\n",
              "      <td>55</td>\n",
              "      <td>38</td>\n",
              "      <td>22.708838</td>\n",
              "      <td>82.639414</td>\n",
              "      <td>5.700806</td>\n",
              "      <td>271.324860</td>\n",
              "      <td>rice</td>\n",
              "    </tr>\n",
              "    <tr>\n",
              "      <th>7</th>\n",
              "      <td>94</td>\n",
              "      <td>53</td>\n",
              "      <td>40</td>\n",
              "      <td>20.277744</td>\n",
              "      <td>82.894086</td>\n",
              "      <td>5.718627</td>\n",
              "      <td>241.974195</td>\n",
              "      <td>rice</td>\n",
              "    </tr>\n",
              "    <tr>\n",
              "      <th>8</th>\n",
              "      <td>89</td>\n",
              "      <td>54</td>\n",
              "      <td>38</td>\n",
              "      <td>24.515881</td>\n",
              "      <td>83.535216</td>\n",
              "      <td>6.685346</td>\n",
              "      <td>230.446236</td>\n",
              "      <td>rice</td>\n",
              "    </tr>\n",
              "    <tr>\n",
              "      <th>9</th>\n",
              "      <td>68</td>\n",
              "      <td>58</td>\n",
              "      <td>38</td>\n",
              "      <td>23.223974</td>\n",
              "      <td>83.033227</td>\n",
              "      <td>6.336254</td>\n",
              "      <td>221.209196</td>\n",
              "      <td>rice</td>\n",
              "    </tr>\n",
              "    <tr>\n",
              "      <th>10</th>\n",
              "      <td>91</td>\n",
              "      <td>53</td>\n",
              "      <td>40</td>\n",
              "      <td>26.527235</td>\n",
              "      <td>81.417538</td>\n",
              "      <td>5.386168</td>\n",
              "      <td>264.614870</td>\n",
              "      <td>rice</td>\n",
              "    </tr>\n",
              "  </tbody>\n",
              "</table>\n",
              "</div>"
            ],
            "text/plain": [
              "     N   P   K  temperature   humidity        ph    rainfall label\n",
              "0   90  42  43    20.879744  82.002744  6.502985  202.935536  rice\n",
              "1   85  58  41    21.770462  80.319644  7.038096  226.655537  rice\n",
              "2   60  55  44    23.004459  82.320763  7.840207  263.964248  rice\n",
              "3   74  35  40    26.491096  80.158363  6.980401  242.864034  rice\n",
              "4   78  42  42    20.130175  81.604873  7.628473  262.717340  rice\n",
              "5   69  37  42    23.058049  83.370118  7.073454  251.055000  rice\n",
              "6   69  55  38    22.708838  82.639414  5.700806  271.324860  rice\n",
              "7   94  53  40    20.277744  82.894086  5.718627  241.974195  rice\n",
              "8   89  54  38    24.515881  83.535216  6.685346  230.446236  rice\n",
              "9   68  58  38    23.223974  83.033227  6.336254  221.209196  rice\n",
              "10  91  53  40    26.527235  81.417538  5.386168  264.614870  rice"
            ]
          },
          "execution_count": 16,
          "metadata": {},
          "output_type": "execute_result"
        }
      ],
      "source": [
        "DF0.head(n=11)"
      ]
    },
    {
      "cell_type": "code",
      "execution_count": 17,
      "metadata": {
        "colab": {
          "base_uri": "https://localhost:8080/"
        },
        "id": "py1g3No1R_j_",
        "outputId": "e52a1faf-1fac-4c38-c251-62f304166da5"
      },
      "outputs": [
        {
          "name": "stdout",
          "output_type": "stream",
          "text": [
            "Numerical Features Count 7\n"
          ]
        }
      ],
      "source": [
        "NF = [a for a in DF0.columns if DF0[a].dtypes != 'O']\n",
        "print(\"Numerical Features Count {}\".format(len(NF)))"
      ]
    },
    {
      "cell_type": "code",
      "execution_count": 18,
      "metadata": {
        "colab": {
          "base_uri": "https://localhost:8080/"
        },
        "id": "bNIxaxIwR_mf",
        "outputId": "1eabf89f-d3f0-46d2-c5cb-f3c76b80ffc8"
      },
      "outputs": [
        {
          "name": "stdout",
          "output_type": "stream",
          "text": [
            "['N', 'P', 'K', 'temperature', 'humidity', 'ph', 'rainfall']\n"
          ]
        }
      ],
      "source": [
        "print(NF)"
      ]
    },
    {
      "cell_type": "code",
      "execution_count": 19,
      "metadata": {
        "colab": {
          "base_uri": "https://localhost:8080/"
        },
        "id": "xLStvivXR_o-",
        "outputId": "e5f77452-09e2-4149-d3e7-0cff5a5d6883"
      },
      "outputs": [
        {
          "data": {
            "text/plain": [
              "N              0.0\n",
              "P              0.0\n",
              "K              0.0\n",
              "temperature    0.0\n",
              "humidity       0.0\n",
              "ph             0.0\n",
              "rainfall       0.0\n",
              "label          0.0\n",
              "dtype: float64"
            ]
          },
          "execution_count": 19,
          "metadata": {},
          "output_type": "execute_result"
        }
      ],
      "source": [
        "DF0.isnull().sum()*100/len(DF0)"
      ]
    },
    {
      "cell_type": "code",
      "execution_count": 20,
      "metadata": {
        "id": "9AcxixQiR_ro"
      },
      "outputs": [],
      "source": [
        "def RandomSamplingImputation(DF0, variable):\n",
        "    DF0[variable]=DF0[variable]\n",
        "    random_sample=DF0[variable].dropna().sample(DF0[variable].isnull().sum(),random_state=0)\n",
        "    random_sample.index=DF0[DF0[variable].isnull()].index\n",
        "    DF0.loc[DF0[variable].isnull(),variable]=random_sample"
      ]
    },
    {
      "cell_type": "code",
      "execution_count": 21,
      "metadata": {
        "id": "BE6zIns1R_uH"
      },
      "outputs": [],
      "source": [
        "DF = [a for a in NF if len(DF0[a].unique())<25]\n",
        "CF = [a for a in NF if a not in DF]"
      ]
    },
    {
      "cell_type": "code",
      "execution_count": 22,
      "metadata": {
        "colab": {
          "base_uri": "https://localhost:8080/"
        },
        "id": "lTKpkwxfR_xg",
        "outputId": "e63e618e-759f-47b3-b4af-8aa748b06e1c"
      },
      "outputs": [
        {
          "name": "stdout",
          "output_type": "stream",
          "text": [
            "[]\n"
          ]
        }
      ],
      "source": [
        "print(DF)"
      ]
    },
    {
      "cell_type": "code",
      "execution_count": null,
      "metadata": {
        "colab": {
          "base_uri": "https://localhost:8080/"
        },
        "id": "L87AyuP7TOTL",
        "outputId": "6bbad965-3170-4fbf-8649-708fcfa23fee"
      },
      "outputs": [
        {
          "name": "stdout",
          "output_type": "stream",
          "text": [
            "['N', 'P', 'K', 'temperature', 'humidity', 'ph', 'rainfall']\n"
          ]
        }
      ],
      "source": [
        "print(CF)"
      ]
    },
    {
      "cell_type": "code",
      "execution_count": 23,
      "metadata": {
        "colab": {
          "base_uri": "https://localhost:8080/"
        },
        "id": "mF8wHTmHTOb8",
        "outputId": "a0d31f80-aad5-4a27-8bb3-d6f1993b1e0f"
      },
      "outputs": [
        {
          "data": {
            "text/plain": [
              "N              0.0\n",
              "P              0.0\n",
              "K              0.0\n",
              "temperature    0.0\n",
              "humidity       0.0\n",
              "ph             0.0\n",
              "rainfall       0.0\n",
              "label          0.0\n",
              "dtype: float64"
            ]
          },
          "execution_count": 23,
          "metadata": {},
          "output_type": "execute_result"
        }
      ],
      "source": [
        "DF0.isnull().sum()*100/len(DF0)"
      ]
    },
    {
      "cell_type": "code",
      "execution_count": 24,
      "metadata": {
        "id": "1CKFgMFyTV44"
      },
      "outputs": [],
      "source": [
        "for a in CF:\n",
        "    if(DF0[a].isnull().sum()*100/len(DF0))>0:\n",
        "        DF0[a] =DF0[a].fillna(DF0[a].median())"
      ]
    },
    {
      "cell_type": "code",
      "execution_count": 25,
      "metadata": {
        "colab": {
          "base_uri": "https://localhost:8080/"
        },
        "id": "hRvcTTexTV7Y",
        "outputId": "3e055586-0a69-4bbe-9deb-436df4c771ff"
      },
      "outputs": [
        {
          "data": {
            "text/plain": [
              "N              0.0\n",
              "P              0.0\n",
              "K              0.0\n",
              "temperature    0.0\n",
              "humidity       0.0\n",
              "ph             0.0\n",
              "rainfall       0.0\n",
              "label          0.0\n",
              "dtype: float64"
            ]
          },
          "execution_count": 25,
          "metadata": {},
          "output_type": "execute_result"
        }
      ],
      "source": [
        "DF0.isnull().sum()*100/len(DF0)"
      ]
    },
    {
      "cell_type": "code",
      "execution_count": 26,
      "metadata": {
        "id": "7vcTzFeLTV-v"
      },
      "outputs": [],
      "source": [
        "def Mode_Nan(DF0,variable):\n",
        "    mode=DF0[variable].value_counts().index[0]\n",
        "    DF0[variable].fillna(mode,inplace=True)"
      ]
    },
    {
      "cell_type": "code",
      "execution_count": 27,
      "metadata": {
        "colab": {
          "base_uri": "https://localhost:8080/"
        },
        "id": "Lk4WEqeLTlwS",
        "outputId": "259444fb-a591-408b-a26e-c7801368caba"
      },
      "outputs": [
        {
          "data": {
            "text/plain": [
              "N              0.0\n",
              "P              0.0\n",
              "K              0.0\n",
              "temperature    0.0\n",
              "humidity       0.0\n",
              "ph             0.0\n",
              "rainfall       0.0\n",
              "label          0.0\n",
              "dtype: float64"
            ]
          },
          "execution_count": 27,
          "metadata": {},
          "output_type": "execute_result"
        }
      ],
      "source": [
        "DF0.isnull().sum()*100/len(DF0)"
      ]
    },
    {
      "cell_type": "code",
      "execution_count": 28,
      "metadata": {
        "id": "-8LslxT8Tlyn"
      },
      "outputs": [],
      "source": [
        "Cf = [a for a in DF0.columns if a not in NF]"
      ]
    },
    {
      "cell_type": "code",
      "execution_count": 29,
      "metadata": {
        "colab": {
          "base_uri": "https://localhost:8080/"
        },
        "id": "CoA5LJJDTl0u",
        "outputId": "268a98c6-c188-482f-ecf7-6d135e0bedb9"
      },
      "outputs": [
        {
          "name": "stdout",
          "output_type": "stream",
          "text": [
            "['label']\n"
          ]
        }
      ],
      "source": [
        "print(Cf)"
      ]
    },
    {
      "cell_type": "code",
      "execution_count": null,
      "metadata": {
        "colab": {
          "base_uri": "https://localhost:8080/",
          "height": 1000
        },
        "id": "lQXuc9vkTl4H",
        "outputId": "4f29446a-3bab-4056-9741-7663cfa437e3"
      },
      "outputs": [
        {
          "name": "stderr",
          "output_type": "stream",
          "text": [
            "/usr/local/lib/python3.7/dist-packages/seaborn/_decorators.py:43: FutureWarning: Pass the following variable as a keyword arg: x. From version 0.12, the only valid positional argument will be `data`, and passing other arguments without an explicit keyword will result in an error or misinterpretation.\n",
            "  FutureWarning\n",
            "/usr/local/lib/python3.7/dist-packages/seaborn/_decorators.py:43: FutureWarning: Pass the following variable as a keyword arg: x. From version 0.12, the only valid positional argument will be `data`, and passing other arguments without an explicit keyword will result in an error or misinterpretation.\n",
            "  FutureWarning\n",
            "/usr/local/lib/python3.7/dist-packages/seaborn/_decorators.py:43: FutureWarning: Pass the following variable as a keyword arg: x. From version 0.12, the only valid positional argument will be `data`, and passing other arguments without an explicit keyword will result in an error or misinterpretation.\n",
            "  FutureWarning\n",
            "/usr/local/lib/python3.7/dist-packages/seaborn/_decorators.py:43: FutureWarning: Pass the following variable as a keyword arg: x. From version 0.12, the only valid positional argument will be `data`, and passing other arguments without an explicit keyword will result in an error or misinterpretation.\n",
            "  FutureWarning\n",
            "/usr/local/lib/python3.7/dist-packages/seaborn/_decorators.py:43: FutureWarning: Pass the following variable as a keyword arg: x. From version 0.12, the only valid positional argument will be `data`, and passing other arguments without an explicit keyword will result in an error or misinterpretation.\n",
            "  FutureWarning\n",
            "/usr/local/lib/python3.7/dist-packages/seaborn/_decorators.py:43: FutureWarning: Pass the following variable as a keyword arg: x. From version 0.12, the only valid positional argument will be `data`, and passing other arguments without an explicit keyword will result in an error or misinterpretation.\n",
            "  FutureWarning\n",
            "/usr/local/lib/python3.7/dist-packages/seaborn/_decorators.py:43: FutureWarning: Pass the following variable as a keyword arg: x. From version 0.12, the only valid positional argument will be `data`, and passing other arguments without an explicit keyword will result in an error or misinterpretation.\n",
            "  FutureWarning\n"
          ]
        },
        {
          "data": {
            "image/png": "[encoded data removed]",
            "text/plain": [
              "<Figure size 432x288 with 1 Axes>"
            ]
          },
          "metadata": {
            "needs_background": "light"
          },
          "output_type": "display_data"
        },
        {
          "data": {
            "image/png": "[encoded data removed]",
            "text/plain": [
              "<Figure size 1080x1080 with 1 Axes>"
            ]
          },
          "metadata": {
            "needs_background": "light"
          },
          "output_type": "display_data"
        },
        {
          "data": {
            "image/png": "[encoded data removed]",
            "text/plain": [
              "<Figure size 1080x1080 with 1 Axes>"
            ]
          },
          "metadata": {
            "needs_background": "light"
          },
          "output_type": "display_data"
        },
        {
          "data": {
            "image/png": "[encoded data removed]",
            "text/plain": [
              "<Figure size 1080x1080 with 1 Axes>"
            ]
          },
          "metadata": {
            "needs_background": "light"
          },
          "output_type": "display_data"
        },
        {
          "data": {
            "image/png": "[encoded data removed]",
            "text/plain": [
              "<Figure size 1080x1080 with 1 Axes>"
            ]
          },
          "metadata": {
            "needs_background": "light"
          },
          "output_type": "display_data"
        },
        {
          "data": {
            "image/png": "[encoded data removed]",
            "text/plain": [
              "<Figure size 1080x1080 with 1 Axes>"
            ]
          },
          "metadata": {
            "needs_background": "light"
          },
          "output_type": "display_data"
        },
        {
          "data": {
            "image/png": "[encoded data removed]",
            "text/plain": [
              "<Figure size 1080x1080 with 1 Axes>"
            ]
          },
          "metadata": {
            "needs_background": "light"
          },
          "output_type": "display_data"
        },
        {
          "data": {
            "text/plain": [
              "<Figure size 1080x1080 with 0 Axes>"
            ]
          },
          "metadata": {},
          "output_type": "display_data"
        }
      ],
      "source": [
        "for a in CF:\n",
        "    data=DF0.copy()\n",
        "    sns.boxplot(data[a])\n",
        "    plt.title(a)\n",
        "    plt.figure(figsize=(15,15))"
      ]
    },
    {
      "cell_type": "code",
      "execution_count": 30,
      "metadata": {
        "colab": {
          "base_uri": "https://localhost:8080/",
          "height": 394
        },
        "id": "RXXLv_L-Txxw",
        "outputId": "519592e9-13ab-49fd-e8ce-dfebab12f437"
      },
      "outputs": [
        {
          "data": {
            "text/html": [
              "<div>\n",
              "<style scoped>\n",
              "    .dataframe tbody tr th:only-of-type {\n",
              "        vertical-align: middle;\n",
              "    }\n",
              "\n",
              "    .dataframe tbody tr th {\n",
              "        vertical-align: top;\n",
              "    }\n",
              "\n",
              "    .dataframe thead th {\n",
              "        text-align: right;\n",
              "    }\n",
              "</style>\n",
              "<table border=\"1\" class=\"dataframe\">\n",
              "  <thead>\n",
              "    <tr style=\"text-align: right;\">\n",
              "      <th></th>\n",
              "      <th>N</th>\n",
              "      <th>P</th>\n",
              "      <th>K</th>\n",
              "      <th>temperature</th>\n",
              "      <th>humidity</th>\n",
              "      <th>ph</th>\n",
              "      <th>rainfall</th>\n",
              "      <th>label</th>\n",
              "    </tr>\n",
              "  </thead>\n",
              "  <tbody>\n",
              "    <tr>\n",
              "      <th>2189</th>\n",
              "      <td>99</td>\n",
              "      <td>16</td>\n",
              "      <td>30</td>\n",
              "      <td>23.526521</td>\n",
              "      <td>65.443409</td>\n",
              "      <td>6.392792</td>\n",
              "      <td>186.172820</td>\n",
              "      <td>coffee</td>\n",
              "    </tr>\n",
              "    <tr>\n",
              "      <th>2190</th>\n",
              "      <td>103</td>\n",
              "      <td>40</td>\n",
              "      <td>30</td>\n",
              "      <td>27.309018</td>\n",
              "      <td>55.196224</td>\n",
              "      <td>6.348316</td>\n",
              "      <td>141.483164</td>\n",
              "      <td>coffee</td>\n",
              "    </tr>\n",
              "    <tr>\n",
              "      <th>2191</th>\n",
              "      <td>118</td>\n",
              "      <td>31</td>\n",
              "      <td>34</td>\n",
              "      <td>27.548230</td>\n",
              "      <td>62.881792</td>\n",
              "      <td>6.123796</td>\n",
              "      <td>181.417081</td>\n",
              "      <td>coffee</td>\n",
              "    </tr>\n",
              "    <tr>\n",
              "      <th>2192</th>\n",
              "      <td>106</td>\n",
              "      <td>21</td>\n",
              "      <td>35</td>\n",
              "      <td>25.627355</td>\n",
              "      <td>57.041511</td>\n",
              "      <td>7.428524</td>\n",
              "      <td>188.550654</td>\n",
              "      <td>coffee</td>\n",
              "    </tr>\n",
              "    <tr>\n",
              "      <th>2193</th>\n",
              "      <td>116</td>\n",
              "      <td>38</td>\n",
              "      <td>34</td>\n",
              "      <td>23.292503</td>\n",
              "      <td>50.045570</td>\n",
              "      <td>6.020947</td>\n",
              "      <td>183.468585</td>\n",
              "      <td>coffee</td>\n",
              "    </tr>\n",
              "    <tr>\n",
              "      <th>2194</th>\n",
              "      <td>97</td>\n",
              "      <td>35</td>\n",
              "      <td>26</td>\n",
              "      <td>24.914610</td>\n",
              "      <td>53.741447</td>\n",
              "      <td>6.334610</td>\n",
              "      <td>166.254931</td>\n",
              "      <td>coffee</td>\n",
              "    </tr>\n",
              "    <tr>\n",
              "      <th>2195</th>\n",
              "      <td>107</td>\n",
              "      <td>34</td>\n",
              "      <td>32</td>\n",
              "      <td>26.774637</td>\n",
              "      <td>66.413269</td>\n",
              "      <td>6.780064</td>\n",
              "      <td>177.774507</td>\n",
              "      <td>coffee</td>\n",
              "    </tr>\n",
              "    <tr>\n",
              "      <th>2196</th>\n",
              "      <td>99</td>\n",
              "      <td>15</td>\n",
              "      <td>27</td>\n",
              "      <td>27.417112</td>\n",
              "      <td>56.636362</td>\n",
              "      <td>6.086922</td>\n",
              "      <td>127.924610</td>\n",
              "      <td>coffee</td>\n",
              "    </tr>\n",
              "    <tr>\n",
              "      <th>2197</th>\n",
              "      <td>118</td>\n",
              "      <td>33</td>\n",
              "      <td>30</td>\n",
              "      <td>24.131797</td>\n",
              "      <td>67.225123</td>\n",
              "      <td>6.362608</td>\n",
              "      <td>173.322839</td>\n",
              "      <td>coffee</td>\n",
              "    </tr>\n",
              "    <tr>\n",
              "      <th>2198</th>\n",
              "      <td>117</td>\n",
              "      <td>32</td>\n",
              "      <td>34</td>\n",
              "      <td>26.272418</td>\n",
              "      <td>52.127394</td>\n",
              "      <td>6.758793</td>\n",
              "      <td>127.175293</td>\n",
              "      <td>coffee</td>\n",
              "    </tr>\n",
              "    <tr>\n",
              "      <th>2199</th>\n",
              "      <td>104</td>\n",
              "      <td>18</td>\n",
              "      <td>30</td>\n",
              "      <td>23.603016</td>\n",
              "      <td>60.396475</td>\n",
              "      <td>6.779833</td>\n",
              "      <td>140.937041</td>\n",
              "      <td>coffee</td>\n",
              "    </tr>\n",
              "  </tbody>\n",
              "</table>\n",
              "</div>"
            ],
            "text/plain": [
              "        N   P   K  temperature   humidity        ph    rainfall   label\n",
              "2189   99  16  30    23.526521  65.443409  6.392792  186.172820  coffee\n",
              "2190  103  40  30    27.309018  55.196224  6.348316  141.483164  coffee\n",
              "2191  118  31  34    27.548230  62.881792  6.123796  181.417081  coffee\n",
              "2192  106  21  35    25.627355  57.041511  7.428524  188.550654  coffee\n",
              "2193  116  38  34    23.292503  50.045570  6.020947  183.468585  coffee\n",
              "2194   97  35  26    24.914610  53.741447  6.334610  166.254931  coffee\n",
              "2195  107  34  32    26.774637  66.413269  6.780064  177.774507  coffee\n",
              "2196   99  15  27    27.417112  56.636362  6.086922  127.924610  coffee\n",
              "2197  118  33  30    24.131797  67.225123  6.362608  173.322839  coffee\n",
              "2198  117  32  34    26.272418  52.127394  6.758793  127.175293  coffee\n",
              "2199  104  18  30    23.603016  60.396475  6.779833  140.937041  coffee"
            ]
          },
          "execution_count": 30,
          "metadata": {},
          "output_type": "execute_result"
        }
      ],
      "source": [
        "DF0.tail(n=11)"
      ]
    },
    {
      "cell_type": "code",
      "execution_count": 31,
      "metadata": {
        "colab": {
          "base_uri": "https://localhost:8080/"
        },
        "id": "XOYm280ETx0M",
        "outputId": "2faf5994-17e3-40e0-da81-c10bc5df9ed5"
      },
      "outputs": [
        {
          "data": {
            "text/plain": [
              "N              0.0\n",
              "P              0.0\n",
              "K              0.0\n",
              "temperature    0.0\n",
              "humidity       0.0\n",
              "ph             0.0\n",
              "rainfall       0.0\n",
              "label          0.0\n",
              "dtype: float64"
            ]
          },
          "execution_count": 31,
          "metadata": {},
          "output_type": "execute_result"
        }
      ],
      "source": [
        "DF0.isnull().sum()*100/len(DF0)"
      ]
    },
    {
      "cell_type": "code",
      "execution_count": 32,
      "metadata": {
        "colab": {
          "base_uri": "https://localhost:8080/"
        },
        "id": "fWkV6b5LTx2Z",
        "outputId": "ef35d37d-93e7-4545-94a2-3bb5a272f257"
      },
      "outputs": [
        {
          "data": {
            "text/plain": [
              "array(['rice', 'maize', 'chickpea', 'kidneybeans', 'pigeonpeas',\n",
              "       'mothbeans', 'mungbean', 'blackgram', 'lentil', 'pomegranate',\n",
              "       'banana', 'mango', 'grapes', 'watermelon', 'muskmelon', 'apple',\n",
              "       'orange', 'papaya', 'coconut', 'cotton', 'jute', 'coffee'],\n",
              "      dtype=object)"
            ]
          },
          "execution_count": 32,
          "metadata": {},
          "output_type": "execute_result"
        }
      ],
      "source": [
        "DF0['label'].unique()"
      ]
    },
    {
      "cell_type": "code",
      "execution_count": 33,
      "metadata": {
        "colab": {
          "base_uri": "https://localhost:8080/"
        },
        "id": "pW72nEaaTx5y",
        "outputId": "d38e2c2a-e3e0-4417-f88a-f0e2fb609b8f"
      },
      "outputs": [
        {
          "data": {
            "text/plain": [
              "rice           100\n",
              "maize          100\n",
              "jute           100\n",
              "cotton         100\n",
              "coconut        100\n",
              "papaya         100\n",
              "orange         100\n",
              "apple          100\n",
              "muskmelon      100\n",
              "watermelon     100\n",
              "grapes         100\n",
              "mango          100\n",
              "banana         100\n",
              "pomegranate    100\n",
              "lentil         100\n",
              "blackgram      100\n",
              "mungbean       100\n",
              "mothbeans      100\n",
              "pigeonpeas     100\n",
              "kidneybeans    100\n",
              "chickpea       100\n",
              "coffee         100\n",
              "Name: label, dtype: int64"
            ]
          },
          "execution_count": 33,
          "metadata": {},
          "output_type": "execute_result"
        }
      ],
      "source": [
        "DF0['label'].value_counts()"
      ]
    },
    {
      "cell_type": "code",
      "execution_count": null,
      "metadata": {
        "colab": {
          "base_uri": "https://localhost:8080/",
          "height": 1000
        },
        "id": "iEpXcZfCT9aB",
        "outputId": "31f0eb4d-179b-4b4c-a8c5-d320cb91eaea"
      },
      "outputs": [
        {
          "data": {
            "image/png": "[encoded data removed]",
            "text/plain": [
              "<Figure size 1440x1440 with 2 Axes>"
            ]
          },
          "metadata": {
            "needs_background": "light"
          },
          "output_type": "display_data"
        }
      ],
      "source": [
        "corrmat = DF0.corr(method = \"spearman\")\n",
        "plt.figure(figsize=(20,20))\n",
        "b=sns.heatmap(corrmat,annot=True)"
      ]
    },
    {
      "cell_type": "code",
      "execution_count": null,
      "metadata": {
        "colab": {
          "base_uri": "https://localhost:8080/",
          "height": 1000
        },
        "id": "93_lyw77T9cc",
        "outputId": "4d5f4ccf-6fb9-43d3-e82b-ff1080021aae"
      },
      "outputs": [
        {
          "name": "stderr",
          "output_type": "stream",
          "text": [
            "/usr/local/lib/python3.7/dist-packages/seaborn/distributions.py:2619: FutureWarning: `distplot` is a deprecated function and will be removed in a future version. Please adapt your code to use either `displot` (a figure-level function with similar flexibility) or `histplot` (an axes-level function for histograms).\n",
            "  warnings.warn(msg, FutureWarning)\n"
          ]
        },
        {
          "data": {
            "image/png": "[encoded data removed]",
            "text/plain": [
              "<Figure size 432x288 with 1 Axes>"
            ]
          },
          "metadata": {
            "needs_background": "light"
          },
          "output_type": "display_data"
        },
        {
          "data": {
            "text/plain": [
              "<Figure size 1080x1080 with 0 Axes>"
            ]
          },
          "metadata": {},
          "output_type": "display_data"
        },
        {
          "name": "stderr",
          "output_type": "stream",
          "text": [
            "/usr/local/lib/python3.7/dist-packages/seaborn/distributions.py:2619: FutureWarning: `distplot` is a deprecated function and will be removed in a future version. Please adapt your code to use either `displot` (a figure-level function with similar flexibility) or `histplot` (an axes-level function for histograms).\n",
            "  warnings.warn(msg, FutureWarning)\n"
          ]
        },
        {
          "data": {
            "image/png": "[encoded data removed]",
            "text/plain": [
              "<Figure size 432x288 with 1 Axes>"
            ]
          },
          "metadata": {
            "needs_background": "light"
          },
          "output_type": "display_data"
        },
        {
          "data": {
            "text/plain": [
              "<Figure size 1080x1080 with 0 Axes>"
            ]
          },
          "metadata": {},
          "output_type": "display_data"
        },
        {
          "name": "stderr",
          "output_type": "stream",
          "text": [
            "/usr/local/lib/python3.7/dist-packages/seaborn/distributions.py:2619: FutureWarning: `distplot` is a deprecated function and will be removed in a future version. Please adapt your code to use either `displot` (a figure-level function with similar flexibility) or `histplot` (an axes-level function for histograms).\n",
            "  warnings.warn(msg, FutureWarning)\n"
          ]
        },
        {
          "data": {
            "image/png": "[encoded data removed]",
            "text/plain": [
              "<Figure size 432x288 with 1 Axes>"
            ]
          },
          "metadata": {
            "needs_background": "light"
          },
          "output_type": "display_data"
        },
        {
          "data": {
            "text/plain": [
              "<Figure size 1080x1080 with 0 Axes>"
            ]
          },
          "metadata": {},
          "output_type": "display_data"
        },
        {
          "name": "stderr",
          "output_type": "stream",
          "text": [
            "/usr/local/lib/python3.7/dist-packages/seaborn/distributions.py:2619: FutureWarning: `distplot` is a deprecated function and will be removed in a future version. Please adapt your code to use either `displot` (a figure-level function with similar flexibility) or `histplot` (an axes-level function for histograms).\n",
            "  warnings.warn(msg, FutureWarning)\n"
          ]
        },
        {
          "data": {
            "image/png": "[encoded data removed]",
            "text/plain": [
              "<Figure size 432x288 with 1 Axes>"
            ]
          },
          "metadata": {
            "needs_background": "light"
          },
          "output_type": "display_data"
        },
        {
          "data": {
            "text/plain": [
              "<Figure size 1080x1080 with 0 Axes>"
            ]
          },
          "metadata": {},
          "output_type": "display_data"
        },
        {
          "name": "stderr",
          "output_type": "stream",
          "text": [
            "/usr/local/lib/python3.7/dist-packages/seaborn/distributions.py:2619: FutureWarning: `distplot` is a deprecated function and will be removed in a future version. Please adapt your code to use either `displot` (a figure-level function with similar flexibility) or `histplot` (an axes-level function for histograms).\n",
            "  warnings.warn(msg, FutureWarning)\n"
          ]
        },
        {
          "data": {
            "image/png": "[encoded data removed]",
            "text/plain": [
              "<Figure size 432x288 with 1 Axes>"
            ]
          },
          "metadata": {
            "needs_background": "light"
          },
          "output_type": "display_data"
        },
        {
          "data": {
            "text/plain": [
              "<Figure size 1080x1080 with 0 Axes>"
            ]
          },
          "metadata": {},
          "output_type": "display_data"
        },
        {
          "name": "stderr",
          "output_type": "stream",
          "text": [
            "/usr/local/lib/python3.7/dist-packages/seaborn/distributions.py:2619: FutureWarning: `distplot` is a deprecated function and will be removed in a future version. Please adapt your code to use either `displot` (a figure-level function with similar flexibility) or `histplot` (an axes-level function for histograms).\n",
            "  warnings.warn(msg, FutureWarning)\n"
          ]
        },
        {
          "data": {
            "image/png": "[encoded data removed]",
            "text/plain": [
              "<Figure size 432x288 with 1 Axes>"
            ]
          },
          "metadata": {
            "needs_background": "light"
          },
          "output_type": "display_data"
        },
        {
          "data": {
            "text/plain": [
              "<Figure size 1080x1080 with 0 Axes>"
            ]
          },
          "metadata": {},
          "output_type": "display_data"
        },
        {
          "name": "stderr",
          "output_type": "stream",
          "text": [
            "/usr/local/lib/python3.7/dist-packages/seaborn/distributions.py:2619: FutureWarning: `distplot` is a deprecated function and will be removed in a future version. Please adapt your code to use either `displot` (a figure-level function with similar flexibility) or `histplot` (an axes-level function for histograms).\n",
            "  warnings.warn(msg, FutureWarning)\n"
          ]
        },
        {
          "data": {
            "image/png": "[encoded data removed]",
            "text/plain": [
              "<Figure size 432x288 with 1 Axes>"
            ]
          },
          "metadata": {
            "needs_background": "light"
          },
          "output_type": "display_data"
        },
        {
          "data": {
            "text/plain": [
              "<Figure size 1080x1080 with 0 Axes>"
            ]
          },
          "metadata": {},
          "output_type": "display_data"
        }
      ],
      "source": [
        "for a in CF:\n",
        "    data=DF0.copy()\n",
        "    sns.distplot(DF0[a])\n",
        "    plt.xlabel(a)\n",
        "    plt.ylabel(\"Count\")\n",
        "    plt.title(a)\n",
        "    plt.figure(figsize=(15,15))\n",
        "    plt.show()"
      ]
    },
    {
      "cell_type": "code",
      "execution_count": null,
      "metadata": {
        "colab": {
          "base_uri": "https://localhost:8080/",
          "height": 1000
        },
        "id": "Jh6AYuwbT9f_",
        "outputId": "d79235f1-8fd7-4908-8a7c-ab642edcce44"
      },
      "outputs": [
        {
          "name": "stderr",
          "output_type": "stream",
          "text": [
            "/usr/local/lib/python3.7/dist-packages/seaborn/_decorators.py:43: FutureWarning: Pass the following variable as a keyword arg: x. From version 0.12, the only valid positional argument will be `data`, and passing other arguments without an explicit keyword will result in an error or misinterpretation.\n",
            "  FutureWarning\n",
            "/usr/local/lib/python3.7/dist-packages/seaborn/_decorators.py:43: FutureWarning: Pass the following variable as a keyword arg: x. From version 0.12, the only valid positional argument will be `data`, and passing other arguments without an explicit keyword will result in an error or misinterpretation.\n",
            "  FutureWarning\n",
            "/usr/local/lib/python3.7/dist-packages/seaborn/_decorators.py:43: FutureWarning: Pass the following variable as a keyword arg: x. From version 0.12, the only valid positional argument will be `data`, and passing other arguments without an explicit keyword will result in an error or misinterpretation.\n",
            "  FutureWarning\n",
            "/usr/local/lib/python3.7/dist-packages/seaborn/_decorators.py:43: FutureWarning: Pass the following variable as a keyword arg: x. From version 0.12, the only valid positional argument will be `data`, and passing other arguments without an explicit keyword will result in an error or misinterpretation.\n",
            "  FutureWarning\n",
            "/usr/local/lib/python3.7/dist-packages/seaborn/_decorators.py:43: FutureWarning: Pass the following variable as a keyword arg: x. From version 0.12, the only valid positional argument will be `data`, and passing other arguments without an explicit keyword will result in an error or misinterpretation.\n",
            "  FutureWarning\n",
            "/usr/local/lib/python3.7/dist-packages/seaborn/_decorators.py:43: FutureWarning: Pass the following variable as a keyword arg: x. From version 0.12, the only valid positional argument will be `data`, and passing other arguments without an explicit keyword will result in an error or misinterpretation.\n",
            "  FutureWarning\n",
            "/usr/local/lib/python3.7/dist-packages/seaborn/_decorators.py:43: FutureWarning: Pass the following variable as a keyword arg: x. From version 0.12, the only valid positional argument will be `data`, and passing other arguments without an explicit keyword will result in an error or misinterpretation.\n",
            "  FutureWarning\n"
          ]
        },
        {
          "data": {
            "image/png": "[encoded data removed]",
            "text/plain": [
              "<Figure size 432x288 with 1 Axes>"
            ]
          },
          "metadata": {
            "needs_background": "light"
          },
          "output_type": "display_data"
        },
        {
          "data": {
            "image/png": "[encoded data removed]",
            "text/plain": [
              "<Figure size 1080x1080 with 1 Axes>"
            ]
          },
          "metadata": {
            "needs_background": "light"
          },
          "output_type": "display_data"
        },
        {
          "data": {
            "image/png": "[encoded data removed]",
            "text/plain": [
              "<Figure size 1080x1080 with 1 Axes>"
            ]
          },
          "metadata": {
            "needs_background": "light"
          },
          "output_type": "display_data"
        },
        {
          "data": {
            "image/png": "[encoded data removed]",
            "text/plain": [
              "<Figure size 1080x1080 with 1 Axes>"
            ]
          },
          "metadata": {
            "needs_background": "light"
          },
          "output_type": "display_data"
        },
        {
          "data": {
            "image/png": "[encoded data removed]",
            "text/plain": [
              "<Figure size 1080x1080 with 1 Axes>"
            ]
          },
          "metadata": {
            "needs_background": "light"
          },
          "output_type": "display_data"
        },
        {
          "data": {
            "image/png": "[encoded data removed]",
            "text/plain": [
              "<Figure size 1080x1080 with 1 Axes>"
            ]
          },
          "metadata": {
            "needs_background": "light"
          },
          "output_type": "display_data"
        },
        {
          "data": {
            "image/png": "[encoded data removed]",
            "text/plain": [
              "<Figure size 1080x1080 with 1 Axes>"
            ]
          },
          "metadata": {
            "needs_background": "light"
          },
          "output_type": "display_data"
        },
        {
          "data": {
            "text/plain": [
              "<Figure size 1080x1080 with 0 Axes>"
            ]
          },
          "metadata": {},
          "output_type": "display_data"
        }
      ],
      "source": [
        "for a in CF:\n",
        "    data=DF0.copy()\n",
        "    sns.boxplot(data[a])\n",
        "    plt.title(a)\n",
        "    plt.figure(figsize=(15,15))"
      ]
    },
    {
      "cell_type": "code",
      "execution_count": null,
      "metadata": {
        "colab": {
          "base_uri": "https://localhost:8080/",
          "height": 1000
        },
        "id": "ZKW2bZ0JUInZ",
        "outputId": "805c5bab-71e5-462f-d7c0-444a67792000"
      },
      "outputs": [
        {
          "data": {
            "image/png": "[encoded data removed]",
            "text/plain": [
              "<Figure size 432x288 with 1 Axes>"
            ]
          },
          "metadata": {
            "needs_background": "light"
          },
          "output_type": "display_data"
        },
        {
          "data": {
            "image/png": "[encoded data removed]",
            "text/plain": [
              "<Figure size 432x288 with 1 Axes>"
            ]
          },
          "metadata": {
            "needs_background": "light"
          },
          "output_type": "display_data"
        },
        {
          "data": {
            "image/png": "[encoded data removed]",
            "text/plain": [
              "<Figure size 432x288 with 1 Axes>"
            ]
          },
          "metadata": {
            "needs_background": "light"
          },
          "output_type": "display_data"
        },
        {
          "data": {
            "image/png": "[encoded data removed]",
            "text/plain": [
              "<Figure size 432x288 with 1 Axes>"
            ]
          },
          "metadata": {
            "needs_background": "light"
          },
          "output_type": "display_data"
        },
        {
          "data": {
            "image/png": "[encoded data removed]",
            "text/plain": [
              "<Figure size 432x288 with 1 Axes>"
            ]
          },
          "metadata": {
            "needs_background": "light"
          },
          "output_type": "display_data"
        },
        {
          "data": {
            "image/png": "[encoded data removed]",
            "text/plain": [
              "<Figure size 432x288 with 1 Axes>"
            ]
          },
          "metadata": {
            "needs_background": "light"
          },
          "output_type": "display_data"
        },
        {
          "data": {
            "image/png": "[encoded data removed]",
            "text/plain": [
              "<Figure size 432x288 with 1 Axes>"
            ]
          },
          "metadata": {
            "needs_background": "light"
          },
          "output_type": "display_data"
        }
      ],
      "source": [
        "for a in CF:\n",
        "    data=DF0.copy()\n",
        "    data[a].hist(bins=25)\n",
        "    plt.xlabel(a)\n",
        "    plt.ylabel(\"Count\")\n",
        "    plt.title(a)\n",
        "    plt.show()"
      ]
    },
    {
      "cell_type": "code",
      "execution_count": null,
      "metadata": {
        "colab": {
          "base_uri": "https://localhost:8080/",
          "height": 1000
        },
        "id": "wI7sXMvjUIp0",
        "outputId": "b256434f-0168-4bf0-c568-6593ed239921"
      },
      "outputs": [
        {
          "name": "stdout",
          "output_type": "stream",
          "text": [
            "N\n"
          ]
        },
        {
          "data": {
            "image/png": "[encoded data removed]",
            "text/plain": [
              "<Figure size 1080x432 with 2 Axes>"
            ]
          },
          "metadata": {
            "needs_background": "light"
          },
          "output_type": "display_data"
        },
        {
          "name": "stdout",
          "output_type": "stream",
          "text": [
            "P\n"
          ]
        },
        {
          "data": {
            "image/png": "[encoded data removed]",
            "text/plain": [
              "<Figure size 1080x432 with 2 Axes>"
            ]
          },
          "metadata": {
            "needs_background": "light"
          },
          "output_type": "display_data"
        },
        {
          "name": "stdout",
          "output_type": "stream",
          "text": [
            "K\n"
          ]
        },
        {
          "data": {
            "image/png": "[encoded data removed]",
            "text/plain": [
              "<Figure size 1080x432 with 2 Axes>"
            ]
          },
          "metadata": {
            "needs_background": "light"
          },
          "output_type": "display_data"
        },
        {
          "name": "stdout",
          "output_type": "stream",
          "text": [
            "temperature\n"
          ]
        },
        {
          "data": {
            "image/png": "[encoded data removed]",
            "text/plain": [
              "<Figure size 1080x432 with 2 Axes>"
            ]
          },
          "metadata": {
            "needs_background": "light"
          },
          "output_type": "display_data"
        },
        {
          "name": "stdout",
          "output_type": "stream",
          "text": [
            "humidity\n"
          ]
        },
        {
          "data": {
            "image/png": "[encoded data removed]",
            "text/plain": [
              "<Figure size 1080x432 with 2 Axes>"
            ]
          },
          "metadata": {
            "needs_background": "light"
          },
          "output_type": "display_data"
        },
        {
          "name": "stdout",
          "output_type": "stream",
          "text": [
            "ph\n"
          ]
        },
        {
          "data": {
            "image/png": "[encoded data removed]",
            "text/plain": [
              "<Figure size 1080x432 with 2 Axes>"
            ]
          },
          "metadata": {
            "needs_background": "light"
          },
          "output_type": "display_data"
        },
        {
          "name": "stdout",
          "output_type": "stream",
          "text": [
            "rainfall\n"
          ]
        },
        {
          "data": {
            "image/png": "[encoded data removed]",
            "text/plain": [
              "<Figure size 1080x432 with 2 Axes>"
            ]
          },
          "metadata": {
            "needs_background": "light"
          },
          "output_type": "display_data"
        }
      ],
      "source": [
        "for a in CF:\n",
        "    print(a)\n",
        "    plt.figure(figsize=(15,6))\n",
        "    plt.subplot(1, 2, 1)\n",
        "    DF0[a].hist()\n",
        "    plt.subplot(1, 2, 2)\n",
        "    stats.probplot(DF0[a], dist=\"norm\", plot=plt)\n",
        "    plt.show()"
      ]
    },
    {
      "cell_type": "code",
      "execution_count": null,
      "metadata": {
        "colab": {
          "base_uri": "https://localhost:8080/",
          "height": 1000
        },
        "id": "XttRTVVeUIr8",
        "outputId": "e46d81d6-1c29-4021-8224-176689d37fbe"
      },
      "outputs": [
        {
          "data": {
            "image/png": "[encoded data removed]",
            "text/plain": [
              "<Figure size 1440x1440 with 2 Axes>"
            ]
          },
          "metadata": {
            "needs_background": "light"
          },
          "output_type": "display_data"
        }
      ],
      "source": [
        "corrmat = DF0.corr(method=\"pearson\")\n",
        "plt.figure(figsize=(20,20))\n",
        "b=sns.heatmap(corrmat,annot=True)"
      ]
    },
    {
      "cell_type": "code",
      "execution_count": null,
      "metadata": {
        "id": "Sz1UgLtcUIvc"
      },
      "outputs": [],
      "source": [
        "def qq_Plots(DF0, variable):\n",
        "    plt.figure(figsize=(15,6))\n",
        "    plt.subplot(1, 2, 1)\n",
        "    DF0[variable].hist()\n",
        "    plt.subplot(1, 2, 2)\n",
        "    stats.probplot(DF0[variable], dist=\"norm\", plot=plt)\n",
        "    plt.show()"
      ]
    },
    {
      "cell_type": "code",
      "execution_count": null,
      "metadata": {
        "colab": {
          "base_uri": "https://localhost:8080/",
          "height": 404
        },
        "id": "Nf5xvBkWUI5L",
        "outputId": "fb2bbef2-f51b-4139-f7f8-ec3fbac6c1a1"
      },
      "outputs": [
        {
          "data": {
            "image/png": "[encoded data removed]",
            "text/plain": [
              "<Figure size 1080x432 with 2 Axes>"
            ]
          },
          "metadata": {
            "needs_background": "light"
          },
          "output_type": "display_data"
        }
      ],
      "source": [
        "qq_Plots(DF0,\"rainfall\")"
      ]
    },
    {
      "cell_type": "code",
      "execution_count": null,
      "metadata": {
        "colab": {
          "base_uri": "https://localhost:8080/",
          "height": 351
        },
        "id": "UQDskaREUI81",
        "outputId": "9c4ff617-35d0-4dd3-8d21-efe053b30bd1"
      },
      "outputs": [
        {
          "name": "stderr",
          "output_type": "stream",
          "text": [
            "/usr/local/lib/python3.7/dist-packages/seaborn/_decorators.py:43: FutureWarning: Pass the following variable as a keyword arg: x. From version 0.12, the only valid positional argument will be `data`, and passing other arguments without an explicit keyword will result in an error or misinterpretation.\n",
            "  FutureWarning\n"
          ]
        },
        {
          "data": {
            "text/plain": [
              "<matplotlib.axes._subplots.AxesSubplot at 0x7f26e76d9fd0>"
            ]
          },
          "execution_count": 38,
          "metadata": {},
          "output_type": "execute_result"
        },
        {
          "data": {
            "image/png": "[encoded data removed]",
            "text/plain": [
              "<Figure size 432x288 with 1 Axes>"
            ]
          },
          "metadata": {
            "needs_background": "light"
          },
          "output_type": "display_data"
        }
      ],
      "source": [
        "sns.countplot(DF0[\"temperature\"])"
      ]
    },
    {
      "cell_type": "code",
      "execution_count": 34,
      "metadata": {
        "id": "gzuRqfs9Uas7"
      },
      "outputs": [],
      "source": [
        "a = DF0[['N', 'P','K','temperature', 'humidity', 'ph', 'rainfall']]\n",
        "Target = DF0['label']\n",
        "Labels = DF0['label']"
      ]
    },
    {
      "cell_type": "code",
      "execution_count": 35,
      "metadata": {
        "id": "4d0xtUcuUavO"
      },
      "outputs": [],
      "source": [
        "X_train, X_test, y_train, y_test = train_test_split(a, Target, test_size =0.2, random_state = 2)"
      ]
    },
    {
      "cell_type": "code",
      "execution_count": 36,
      "metadata": {
        "colab": {
          "base_uri": "https://localhost:8080/"
        },
        "id": "sBz9Ww3rUayt",
        "outputId": "fcd5a6cd-95c8-401f-8724-07920e7152c6"
      },
      "outputs": [
        {
          "name": "stdout",
          "output_type": "stream",
          "text": [
            "1760\n"
          ]
        }
      ],
      "source": [
        "print(len(X_train))"
      ]
    },
    {
      "cell_type": "code",
      "execution_count": null,
      "metadata": {
        "colab": {
          "base_uri": "https://localhost:8080/"
        },
        "id": "p9tV-kQfUwmu",
        "outputId": "1c3ed46f-dece-4c9a-a486-355e2d27ccd8"
      },
      "outputs": [
        {
          "name": "stdout",
          "output_type": "stream",
          "text": [
            "440\n"
          ]
        }
      ],
      "source": [
        "print(len(X_test))"
      ]
    },
    {
      "cell_type": "code",
      "execution_count": null,
      "metadata": {
        "colab": {
          "base_uri": "https://localhost:8080/"
        },
        "id": "SUFWr8uaUwo9",
        "outputId": "1878ce02-4a36-4449-b899-683e8f8d0b6d"
      },
      "outputs": [
        {
          "name": "stdout",
          "output_type": "stream",
          "text": [
            "1760\n"
          ]
        }
      ],
      "source": [
        "print(len(y_train))"
      ]
    },
    {
      "cell_type": "code",
      "execution_count": null,
      "metadata": {
        "colab": {
          "base_uri": "https://localhost:8080/"
        },
        "id": "GDK0bATQUwrR",
        "outputId": "8354d21e-14f2-49c2-bebb-78cbb2cdab23"
      },
      "outputs": [
        {
          "name": "stdout",
          "output_type": "stream",
          "text": [
            "440\n"
          ]
        }
      ],
      "source": [
        "print(len(y_test))"
      ]
    },
    {
      "cell_type": "code",
      "execution_count": null,
      "metadata": {
        "colab": {
          "base_uri": "https://localhost:8080/"
        },
        "id": "GolqZKeKUwuq",
        "outputId": "5dcb7dda-4a9b-4884-a384-ceb62994b645"
      },
      "outputs": [
        {
          "name": "stdout",
          "output_type": "stream",
          "text": [
            "        N    P    K  temperature   humidity        ph    rainfall\n",
            "1936  113   38   25    22.000851  79.472710  7.388266   90.422242\n",
            "610    28   35   22    29.530376  86.733460  7.156563   59.872321\n",
            "372    11   61   21    18.623288  23.024103  5.532101  135.337803\n",
            "1559   29  139  205    23.641424  93.744615  6.155939  116.691218\n",
            "1500   24  128  196    22.750888  90.694892  5.521467  110.431786\n",
            "...   ...  ...  ...          ...        ...       ...         ...\n",
            "1071  105   88   54    25.787498  84.511942  6.020445  114.200546\n",
            "433    27   71   23    23.453790  46.487148  7.109598  150.871220\n",
            "674    23   39   22    29.256493  81.979522  6.864839   42.024833\n",
            "1099  117   81   53    29.507046  78.205856  5.507642   98.125658\n",
            "1608   39   24   14    30.554726  90.903438  7.189260  106.071198\n",
            "\n",
            "[1760 rows x 7 columns]\n"
          ]
        }
      ],
      "source": [
        "print(X_train)"
      ]
    },
    {
      "cell_type": "code",
      "execution_count": null,
      "metadata": {
        "colab": {
          "base_uri": "https://localhost:8080/"
        },
        "id": "t66_bYXKU8bO",
        "outputId": "428c48a5-d85d-4246-cdee-0325b4eab481"
      },
      "outputs": [
        {
          "name": "stdout",
          "output_type": "stream",
          "text": [
            "        N   P   K  temperature   humidity        ph    rainfall\n",
            "2121   83  21  28    25.567483  60.492446  7.466901  190.225784\n",
            "960     1  27  36    23.985988  93.342366  5.684995  104.991282\n",
            "952    23   5  44    21.207254  94.263047  7.163005  107.566080\n",
            "1958  116  52  19    22.942767  75.371706  6.114526   67.080226\n",
            "681     6  37  17    28.086572  80.350059  6.760694   38.144768\n",
            "...   ...  ..  ..          ...        ...       ...         ...\n",
            "1684    7  17  10    10.164313  91.223210  6.465913  106.362551\n",
            "1477   86  18  45    28.965866  90.718329  6.566759   22.258381\n",
            "851     6  64  23    23.335652  67.404607  7.065264   36.186787\n",
            "370    37  56  25    22.055923  19.603793  5.774755  126.726537\n",
            "2010   89  53  44    24.886928  71.917115  7.319735  150.249867\n",
            "\n",
            "[440 rows x 7 columns]\n"
          ]
        }
      ],
      "source": [
        "print(X_test)"
      ]
    },
    {
      "cell_type": "code",
      "execution_count": null,
      "metadata": {
        "colab": {
          "base_uri": "https://localhost:8080/"
        },
        "id": "oBztUYCvU8d3",
        "outputId": "64ad49a3-8c55-440d-c2fc-abf1aa5e0c11"
      },
      "outputs": [
        {
          "name": "stdout",
          "output_type": "stream",
          "text": [
            "1936         cotton\n",
            "610        mungbean\n",
            "372     kidneybeans\n",
            "1559          apple\n",
            "1500          apple\n",
            "           ...     \n",
            "1071         banana\n",
            "433      pigeonpeas\n",
            "674        mungbean\n",
            "1099         banana\n",
            "1608         orange\n",
            "Name: label, Length: 1760, dtype: object\n"
          ]
        }
      ],
      "source": [
        "print(y_train)"
      ]
    },
    {
      "cell_type": "code",
      "execution_count": null,
      "metadata": {
        "colab": {
          "base_uri": "https://localhost:8080/"
        },
        "id": "z07K27FDU8fn",
        "outputId": "611a5ce3-cf3b-4080-a060-f44de429b3c0"
      },
      "outputs": [
        {
          "name": "stdout",
          "output_type": "stream",
          "text": [
            "2121         coffee\n",
            "960     pomegranate\n",
            "952     pomegranate\n",
            "1958         cotton\n",
            "681        mungbean\n",
            "           ...     \n",
            "1684         orange\n",
            "1477      muskmelon\n",
            "851          lentil\n",
            "370     kidneybeans\n",
            "2010           jute\n",
            "Name: label, Length: 440, dtype: object\n"
          ]
        }
      ],
      "source": [
        "print(y_test)"
      ]
    },
    {
      "cell_type": "code",
      "execution_count": 37,
      "metadata": {
        "colab": {
          "base_uri": "https://localhost:8080/"
        },
        "id": "kZpq6NeEU8jP",
        "outputId": "944ded81-350d-4d17-c862-54b5b73362c0"
      },
      "outputs": [
        {
          "data": {
            "text/html": [
              "<style>#sk-container-id-1 {color: black;background-color: white;}#sk-container-id-1 pre{padding: 0;}#sk-container-id-1 div.sk-toggleable {background-color: white;}#sk-container-id-1 label.sk-toggleable__label {cursor: pointer;display: block;width: 100%;margin-bottom: 0;padding: 0.3em;box-sizing: border-box;text-align: center;}#sk-container-id-1 label.sk-toggleable__label-arrow:before {content: \"▸\";float: left;margin-right: 0.25em;color: #696969;}#sk-container-id-1 label.sk-toggleable__label-arrow:hover:before {color: black;}#sk-container-id-1 div.sk-estimator:hover label.sk-toggleable__label-arrow:before {color: black;}#sk-container-id-1 div.sk-toggleable__content {max-height: 0;max-width: 0;overflow: hidden;text-align: left;background-color: #f0f8ff;}#sk-container-id-1 div.sk-toggleable__content pre {margin: 0.2em;color: black;border-radius: 0.25em;background-color: #f0f8ff;}#sk-container-id-1 input.sk-toggleable__control:checked~div.sk-toggleable__content {max-height: 200px;max-width: 100%;overflow: auto;}#sk-container-id-1 input.sk-toggleable__control:checked~label.sk-toggleable__label-arrow:before {content: \"▾\";}#sk-container-id-1 div.sk-estimator input.sk-toggleable__control:checked~label.sk-toggleable__label {background-color: #d4ebff;}#sk-container-id-1 div.sk-label input.sk-toggleable__control:checked~label.sk-toggleable__label {background-color: #d4ebff;}#sk-container-id-1 input.sk-hidden--visually {border: 0;clip: rect(1px 1px 1px 1px);clip: rect(1px, 1px, 1px, 1px);height: 1px;margin: -1px;overflow: hidden;padding: 0;position: absolute;width: 1px;}#sk-container-id-1 div.sk-estimator {font-family: monospace;background-color: #f0f8ff;border: 1px dotted black;border-radius: 0.25em;box-sizing: border-box;margin-bottom: 0.5em;}#sk-container-id-1 div.sk-estimator:hover {background-color: #d4ebff;}#sk-container-id-1 div.sk-parallel-item::after {content: \"\";width: 100%;border-bottom: 1px solid gray;flex-grow: 1;}#sk-container-id-1 div.sk-label:hover label.sk-toggleable__label {background-color: #d4ebff;}#sk-container-id-1 div.sk-serial::before {content: \"\";position: absolute;border-left: 1px solid gray;box-sizing: border-box;top: 0;bottom: 0;left: 50%;z-index: 0;}#sk-container-id-1 div.sk-serial {display: flex;flex-direction: column;align-items: center;background-color: white;padding-right: 0.2em;padding-left: 0.2em;position: relative;}#sk-container-id-1 div.sk-item {position: relative;z-index: 1;}#sk-container-id-1 div.sk-parallel {display: flex;align-items: stretch;justify-content: center;background-color: white;position: relative;}#sk-container-id-1 div.sk-item::before, #sk-container-id-1 div.sk-parallel-item::before {content: \"\";position: absolute;border-left: 1px solid gray;box-sizing: border-box;top: 0;bottom: 0;left: 50%;z-index: -1;}#sk-container-id-1 div.sk-parallel-item {display: flex;flex-direction: column;z-index: 1;position: relative;background-color: white;}#sk-container-id-1 div.sk-parallel-item:first-child::after {align-self: flex-end;width: 50%;}#sk-container-id-1 div.sk-parallel-item:last-child::after {align-self: flex-start;width: 50%;}#sk-container-id-1 div.sk-parallel-item:only-child::after {width: 0;}#sk-container-id-1 div.sk-dashed-wrapped {border: 1px dashed gray;margin: 0 0.4em 0.5em 0.4em;box-sizing: border-box;padding-bottom: 0.4em;background-color: white;}#sk-container-id-1 div.sk-label label {font-family: monospace;font-weight: bold;display: inline-block;line-height: 1.2em;}#sk-container-id-1 div.sk-label-container {text-align: center;}#sk-container-id-1 div.sk-container {/* jupyter's `normalize.less` sets `[hidden] { display: none; }` but bootstrap.min.css set `[hidden] { display: none !important; }` so we also need the `!important` here to be able to override the default hidden behavior on the sphinx rendered scikit-learn.org. See: https://github.com/scikit-learn/scikit-learn/issues/21755 */display: inline-block !important;position: relative;}#sk-container-id-1 div.sk-text-repr-fallback {display: none;}</style><div id=\"sk-container-id-1\" class=\"sk-top-container\"><div class=\"sk-text-repr-fallback\"><pre>SVC(gamma=&#x27;auto&#x27;)</pre><b>In a Jupyter environment, please rerun this cell to show the HTML representation or trust the notebook. <br />On GitHub, the HTML representation is unable to render, please try loading this page with nbviewer.org.</b></div><div class=\"sk-container\" hidden><div class=\"sk-item\"><div class=\"sk-estimator sk-toggleable\"><input class=\"sk-toggleable__control sk-hidden--visually\" id=\"sk-estimator-id-1\" type=\"checkbox\" checked><label for=\"sk-estimator-id-1\" class=\"sk-toggleable__label sk-toggleable__label-arrow\">SVC</label><div class=\"sk-toggleable__content\"><pre>SVC(gamma=&#x27;auto&#x27;)</pre></div></div></div></div></div>"
            ],
            "text/plain": [
              "SVC(gamma='auto')"
            ]
          },
          "execution_count": 37,
          "metadata": {},
          "output_type": "execute_result"
        }
      ],
      "source": [
        "SVM = SVC(gamma='auto')\n",
        "SVM.fit(X_train,y_train)"
      ]
    },
    {
      "cell_type": "code",
      "execution_count": 38,
      "metadata": {
        "colab": {
          "base_uri": "https://localhost:8080/"
        },
        "id": "31yzhBL1VXrA",
        "outputId": "bf0a15ef-a4a4-46c4-a528-cb7e3eb36b1b"
      },
      "outputs": [
        {
          "data": {
            "text/html": [
              "<style>#sk-container-id-2 {color: black;background-color: white;}#sk-container-id-2 pre{padding: 0;}#sk-container-id-2 div.sk-toggleable {background-color: white;}#sk-container-id-2 label.sk-toggleable__label {cursor: pointer;display: block;width: 100%;margin-bottom: 0;padding: 0.3em;box-sizing: border-box;text-align: center;}#sk-container-id-2 label.sk-toggleable__label-arrow:before {content: \"▸\";float: left;margin-right: 0.25em;color: #696969;}#sk-container-id-2 label.sk-toggleable__label-arrow:hover:before {color: black;}#sk-container-id-2 div.sk-estimator:hover label.sk-toggleable__label-arrow:before {color: black;}#sk-container-id-2 div.sk-toggleable__content {max-height: 0;max-width: 0;overflow: hidden;text-align: left;background-color: #f0f8ff;}#sk-container-id-2 div.sk-toggleable__content pre {margin: 0.2em;color: black;border-radius: 0.25em;background-color: #f0f8ff;}#sk-container-id-2 input.sk-toggleable__control:checked~div.sk-toggleable__content {max-height: 200px;max-width: 100%;overflow: auto;}#sk-container-id-2 input.sk-toggleable__control:checked~label.sk-toggleable__label-arrow:before {content: \"▾\";}#sk-container-id-2 div.sk-estimator input.sk-toggleable__control:checked~label.sk-toggleable__label {background-color: #d4ebff;}#sk-container-id-2 div.sk-label input.sk-toggleable__control:checked~label.sk-toggleable__label {background-color: #d4ebff;}#sk-container-id-2 input.sk-hidden--visually {border: 0;clip: rect(1px 1px 1px 1px);clip: rect(1px, 1px, 1px, 1px);height: 1px;margin: -1px;overflow: hidden;padding: 0;position: absolute;width: 1px;}#sk-container-id-2 div.sk-estimator {font-family: monospace;background-color: #f0f8ff;border: 1px dotted black;border-radius: 0.25em;box-sizing: border-box;margin-bottom: 0.5em;}#sk-container-id-2 div.sk-estimator:hover {background-color: #d4ebff;}#sk-container-id-2 div.sk-parallel-item::after {content: \"\";width: 100%;border-bottom: 1px solid gray;flex-grow: 1;}#sk-container-id-2 div.sk-label:hover label.sk-toggleable__label {background-color: #d4ebff;}#sk-container-id-2 div.sk-serial::before {content: \"\";position: absolute;border-left: 1px solid gray;box-sizing: border-box;top: 0;bottom: 0;left: 50%;z-index: 0;}#sk-container-id-2 div.sk-serial {display: flex;flex-direction: column;align-items: center;background-color: white;padding-right: 0.2em;padding-left: 0.2em;position: relative;}#sk-container-id-2 div.sk-item {position: relative;z-index: 1;}#sk-container-id-2 div.sk-parallel {display: flex;align-items: stretch;justify-content: center;background-color: white;position: relative;}#sk-container-id-2 div.sk-item::before, #sk-container-id-2 div.sk-parallel-item::before {content: \"\";position: absolute;border-left: 1px solid gray;box-sizing: border-box;top: 0;bottom: 0;left: 50%;z-index: -1;}#sk-container-id-2 div.sk-parallel-item {display: flex;flex-direction: column;z-index: 1;position: relative;background-color: white;}#sk-container-id-2 div.sk-parallel-item:first-child::after {align-self: flex-end;width: 50%;}#sk-container-id-2 div.sk-parallel-item:last-child::after {align-self: flex-start;width: 50%;}#sk-container-id-2 div.sk-parallel-item:only-child::after {width: 0;}#sk-container-id-2 div.sk-dashed-wrapped {border: 1px dashed gray;margin: 0 0.4em 0.5em 0.4em;box-sizing: border-box;padding-bottom: 0.4em;background-color: white;}#sk-container-id-2 div.sk-label label {font-family: monospace;font-weight: bold;display: inline-block;line-height: 1.2em;}#sk-container-id-2 div.sk-label-container {text-align: center;}#sk-container-id-2 div.sk-container {/* jupyter's `normalize.less` sets `[hidden] { display: none; }` but bootstrap.min.css set `[hidden] { display: none !important; }` so we also need the `!important` here to be able to override the default hidden behavior on the sphinx rendered scikit-learn.org. See: https://github.com/scikit-learn/scikit-learn/issues/21755 */display: inline-block !important;position: relative;}#sk-container-id-2 div.sk-text-repr-fallback {display: none;}</style><div id=\"sk-container-id-2\" class=\"sk-top-container\"><div class=\"sk-text-repr-fallback\"><pre>DecisionTreeClassifier(criterion=&#x27;entropy&#x27;, max_depth=5, random_state=2)</pre><b>In a Jupyter environment, please rerun this cell to show the HTML representation or trust the notebook. <br />On GitHub, the HTML representation is unable to render, please try loading this page with nbviewer.org.</b></div><div class=\"sk-container\" hidden><div class=\"sk-item\"><div class=\"sk-estimator sk-toggleable\"><input class=\"sk-toggleable__control sk-hidden--visually\" id=\"sk-estimator-id-2\" type=\"checkbox\" checked><label for=\"sk-estimator-id-2\" class=\"sk-toggleable__label sk-toggleable__label-arrow\">DecisionTreeClassifier</label><div class=\"sk-toggleable__content\"><pre>DecisionTreeClassifier(criterion=&#x27;entropy&#x27;, max_depth=5, random_state=2)</pre></div></div></div></div></div>"
            ],
            "text/plain": [
              "DecisionTreeClassifier(criterion='entropy', max_depth=5, random_state=2)"
            ]
          },
          "execution_count": 38,
          "metadata": {},
          "output_type": "execute_result"
        }
      ],
      "source": [
        "DT = DecisionTreeClassifier(criterion=\"entropy\",random_state=2,max_depth=5)\n",
        "DT.fit(X_train,y_train)"
      ]
    },
    {
      "cell_type": "code",
      "execution_count": 39,
      "metadata": {
        "colab": {
          "base_uri": "https://localhost:8080/"
        },
        "id": "zeQjDt1AVXtR",
        "outputId": "5e4a70ba-38bc-46ee-d218-8722b751d95d"
      },
      "outputs": [
        {
          "name": "stderr",
          "output_type": "stream",
          "text": [
            "C:\\python\\lib\\site-packages\\sklearn\\linear_model\\_logistic.py:444: ConvergenceWarning: lbfgs failed to converge (status=1):\n",
            "STOP: TOTAL NO. of ITERATIONS REACHED LIMIT.\n",
            "\n",
            "Increase the number of iterations (max_iter) or scale the data as shown in:\n",
            "    https://scikit-learn.org/stable/modules/preprocessing.html\n",
            "Please also refer to the documentation for alternative solver options:\n",
            "    https://scikit-learn.org/stable/modules/linear_model.html#logistic-regression\n",
            "  n_iter_i = _check_optimize_result(\n"
          ]
        },
        {
          "data": {
            "text/html": [
              "<style>#sk-container-id-3 {color: black;background-color: white;}#sk-container-id-3 pre{padding: 0;}#sk-container-id-3 div.sk-toggleable {background-color: white;}#sk-container-id-3 label.sk-toggleable__label {cursor: pointer;display: block;width: 100%;margin-bottom: 0;padding: 0.3em;box-sizing: border-box;text-align: center;}#sk-container-id-3 label.sk-toggleable__label-arrow:before {content: \"▸\";float: left;margin-right: 0.25em;color: #696969;}#sk-container-id-3 label.sk-toggleable__label-arrow:hover:before {color: black;}#sk-container-id-3 div.sk-estimator:hover label.sk-toggleable__label-arrow:before {color: black;}#sk-container-id-3 div.sk-toggleable__content {max-height: 0;max-width: 0;overflow: hidden;text-align: left;background-color: #f0f8ff;}#sk-container-id-3 div.sk-toggleable__content pre {margin: 0.2em;color: black;border-radius: 0.25em;background-color: #f0f8ff;}#sk-container-id-3 input.sk-toggleable__control:checked~div.sk-toggleable__content {max-height: 200px;max-width: 100%;overflow: auto;}#sk-container-id-3 input.sk-toggleable__control:checked~label.sk-toggleable__label-arrow:before {content: \"▾\";}#sk-container-id-3 div.sk-estimator input.sk-toggleable__control:checked~label.sk-toggleable__label {background-color: #d4ebff;}#sk-container-id-3 div.sk-label input.sk-toggleable__control:checked~label.sk-toggleable__label {background-color: #d4ebff;}#sk-container-id-3 input.sk-hidden--visually {border: 0;clip: rect(1px 1px 1px 1px);clip: rect(1px, 1px, 1px, 1px);height: 1px;margin: -1px;overflow: hidden;padding: 0;position: absolute;width: 1px;}#sk-container-id-3 div.sk-estimator {font-family: monospace;background-color: #f0f8ff;border: 1px dotted black;border-radius: 0.25em;box-sizing: border-box;margin-bottom: 0.5em;}#sk-container-id-3 div.sk-estimator:hover {background-color: #d4ebff;}#sk-container-id-3 div.sk-parallel-item::after {content: \"\";width: 100%;border-bottom: 1px solid gray;flex-grow: 1;}#sk-container-id-3 div.sk-label:hover label.sk-toggleable__label {background-color: #d4ebff;}#sk-container-id-3 div.sk-serial::before {content: \"\";position: absolute;border-left: 1px solid gray;box-sizing: border-box;top: 0;bottom: 0;left: 50%;z-index: 0;}#sk-container-id-3 div.sk-serial {display: flex;flex-direction: column;align-items: center;background-color: white;padding-right: 0.2em;padding-left: 0.2em;position: relative;}#sk-container-id-3 div.sk-item {position: relative;z-index: 1;}#sk-container-id-3 div.sk-parallel {display: flex;align-items: stretch;justify-content: center;background-color: white;position: relative;}#sk-container-id-3 div.sk-item::before, #sk-container-id-3 div.sk-parallel-item::before {content: \"\";position: absolute;border-left: 1px solid gray;box-sizing: border-box;top: 0;bottom: 0;left: 50%;z-index: -1;}#sk-container-id-3 div.sk-parallel-item {display: flex;flex-direction: column;z-index: 1;position: relative;background-color: white;}#sk-container-id-3 div.sk-parallel-item:first-child::after {align-self: flex-end;width: 50%;}#sk-container-id-3 div.sk-parallel-item:last-child::after {align-self: flex-start;width: 50%;}#sk-container-id-3 div.sk-parallel-item:only-child::after {width: 0;}#sk-container-id-3 div.sk-dashed-wrapped {border: 1px dashed gray;margin: 0 0.4em 0.5em 0.4em;box-sizing: border-box;padding-bottom: 0.4em;background-color: white;}#sk-container-id-3 div.sk-label label {font-family: monospace;font-weight: bold;display: inline-block;line-height: 1.2em;}#sk-container-id-3 div.sk-label-container {text-align: center;}#sk-container-id-3 div.sk-container {/* jupyter's `normalize.less` sets `[hidden] { display: none; }` but bootstrap.min.css set `[hidden] { display: none !important; }` so we also need the `!important` here to be able to override the default hidden behavior on the sphinx rendered scikit-learn.org. See: https://github.com/scikit-learn/scikit-learn/issues/21755 */display: inline-block !important;position: relative;}#sk-container-id-3 div.sk-text-repr-fallback {display: none;}</style><div id=\"sk-container-id-3\" class=\"sk-top-container\"><div class=\"sk-text-repr-fallback\"><pre>LogisticRegression(random_state=2)</pre><b>In a Jupyter environment, please rerun this cell to show the HTML representation or trust the notebook. <br />On GitHub, the HTML representation is unable to render, please try loading this page with nbviewer.org.</b></div><div class=\"sk-container\" hidden><div class=\"sk-item\"><div class=\"sk-estimator sk-toggleable\"><input class=\"sk-toggleable__control sk-hidden--visually\" id=\"sk-estimator-id-3\" type=\"checkbox\" checked><label for=\"sk-estimator-id-3\" class=\"sk-toggleable__label sk-toggleable__label-arrow\">LogisticRegression</label><div class=\"sk-toggleable__content\"><pre>LogisticRegression(random_state=2)</pre></div></div></div></div></div>"
            ],
            "text/plain": [
              "LogisticRegression(random_state=2)"
            ]
          },
          "execution_count": 39,
          "metadata": {},
          "output_type": "execute_result"
        }
      ],
      "source": [
        "LR = LogisticRegression(random_state=2)\n",
        "LR.fit(X_train,y_train)"
      ]
    },
    {
      "cell_type": "code",
      "execution_count": 40,
      "metadata": {
        "colab": {
          "base_uri": "https://localhost:8080/"
        },
        "id": "tLtdWk4VVXxD",
        "outputId": "07cac42f-c271-4237-aea2-be139beaaf51"
      },
      "outputs": [
        {
          "data": {
            "text/html": [
              "<style>#sk-container-id-4 {color: black;background-color: white;}#sk-container-id-4 pre{padding: 0;}#sk-container-id-4 div.sk-toggleable {background-color: white;}#sk-container-id-4 label.sk-toggleable__label {cursor: pointer;display: block;width: 100%;margin-bottom: 0;padding: 0.3em;box-sizing: border-box;text-align: center;}#sk-container-id-4 label.sk-toggleable__label-arrow:before {content: \"▸\";float: left;margin-right: 0.25em;color: #696969;}#sk-container-id-4 label.sk-toggleable__label-arrow:hover:before {color: black;}#sk-container-id-4 div.sk-estimator:hover label.sk-toggleable__label-arrow:before {color: black;}#sk-container-id-4 div.sk-toggleable__content {max-height: 0;max-width: 0;overflow: hidden;text-align: left;background-color: #f0f8ff;}#sk-container-id-4 div.sk-toggleable__content pre {margin: 0.2em;color: black;border-radius: 0.25em;background-color: #f0f8ff;}#sk-container-id-4 input.sk-toggleable__control:checked~div.sk-toggleable__content {max-height: 200px;max-width: 100%;overflow: auto;}#sk-container-id-4 input.sk-toggleable__control:checked~label.sk-toggleable__label-arrow:before {content: \"▾\";}#sk-container-id-4 div.sk-estimator input.sk-toggleable__control:checked~label.sk-toggleable__label {background-color: #d4ebff;}#sk-container-id-4 div.sk-label input.sk-toggleable__control:checked~label.sk-toggleable__label {background-color: #d4ebff;}#sk-container-id-4 input.sk-hidden--visually {border: 0;clip: rect(1px 1px 1px 1px);clip: rect(1px, 1px, 1px, 1px);height: 1px;margin: -1px;overflow: hidden;padding: 0;position: absolute;width: 1px;}#sk-container-id-4 div.sk-estimator {font-family: monospace;background-color: #f0f8ff;border: 1px dotted black;border-radius: 0.25em;box-sizing: border-box;margin-bottom: 0.5em;}#sk-container-id-4 div.sk-estimator:hover {background-color: #d4ebff;}#sk-container-id-4 div.sk-parallel-item::after {content: \"\";width: 100%;border-bottom: 1px solid gray;flex-grow: 1;}#sk-container-id-4 div.sk-label:hover label.sk-toggleable__label {background-color: #d4ebff;}#sk-container-id-4 div.sk-serial::before {content: \"\";position: absolute;border-left: 1px solid gray;box-sizing: border-box;top: 0;bottom: 0;left: 50%;z-index: 0;}#sk-container-id-4 div.sk-serial {display: flex;flex-direction: column;align-items: center;background-color: white;padding-right: 0.2em;padding-left: 0.2em;position: relative;}#sk-container-id-4 div.sk-item {position: relative;z-index: 1;}#sk-container-id-4 div.sk-parallel {display: flex;align-items: stretch;justify-content: center;background-color: white;position: relative;}#sk-container-id-4 div.sk-item::before, #sk-container-id-4 div.sk-parallel-item::before {content: \"\";position: absolute;border-left: 1px solid gray;box-sizing: border-box;top: 0;bottom: 0;left: 50%;z-index: -1;}#sk-container-id-4 div.sk-parallel-item {display: flex;flex-direction: column;z-index: 1;position: relative;background-color: white;}#sk-container-id-4 div.sk-parallel-item:first-child::after {align-self: flex-end;width: 50%;}#sk-container-id-4 div.sk-parallel-item:last-child::after {align-self: flex-start;width: 50%;}#sk-container-id-4 div.sk-parallel-item:only-child::after {width: 0;}#sk-container-id-4 div.sk-dashed-wrapped {border: 1px dashed gray;margin: 0 0.4em 0.5em 0.4em;box-sizing: border-box;padding-bottom: 0.4em;background-color: white;}#sk-container-id-4 div.sk-label label {font-family: monospace;font-weight: bold;display: inline-block;line-height: 1.2em;}#sk-container-id-4 div.sk-label-container {text-align: center;}#sk-container-id-4 div.sk-container {/* jupyter's `normalize.less` sets `[hidden] { display: none; }` but bootstrap.min.css set `[hidden] { display: none !important; }` so we also need the `!important` here to be able to override the default hidden behavior on the sphinx rendered scikit-learn.org. See: https://github.com/scikit-learn/scikit-learn/issues/21755 */display: inline-block !important;position: relative;}#sk-container-id-4 div.sk-text-repr-fallback {display: none;}</style><div id=\"sk-container-id-4\" class=\"sk-top-container\"><div class=\"sk-text-repr-fallback\"><pre>KNeighborsClassifier(n_neighbors=3)</pre><b>In a Jupyter environment, please rerun this cell to show the HTML representation or trust the notebook. <br />On GitHub, the HTML representation is unable to render, please try loading this page with nbviewer.org.</b></div><div class=\"sk-container\" hidden><div class=\"sk-item\"><div class=\"sk-estimator sk-toggleable\"><input class=\"sk-toggleable__control sk-hidden--visually\" id=\"sk-estimator-id-4\" type=\"checkbox\" checked><label for=\"sk-estimator-id-4\" class=\"sk-toggleable__label sk-toggleable__label-arrow\">KNeighborsClassifier</label><div class=\"sk-toggleable__content\"><pre>KNeighborsClassifier(n_neighbors=3)</pre></div></div></div></div></div>"
            ],
            "text/plain": [
              "KNeighborsClassifier(n_neighbors=3)"
            ]
          },
          "execution_count": 40,
          "metadata": {},
          "output_type": "execute_result"
        }
      ],
      "source": [
        "KNN = KNeighborsClassifier(n_neighbors=3)\n",
        "KNN.fit(X_train, y_train)"
      ]
    },
    {
      "cell_type": "code",
      "execution_count": 41,
      "metadata": {
        "colab": {
          "base_uri": "https://localhost:8080/"
        },
        "id": "oFRoCjt8VYSL",
        "outputId": "affa6d0e-f266-4925-e158-d92390fff7ce"
      },
      "outputs": [
        {
          "name": "stdout",
          "output_type": "stream",
          "text": [
            "Learning rate set to 0.032187\n",
            "0:\ttotal: 178ms\tremaining: 8m 53s\n",
            "1:\ttotal: 201ms\tremaining: 5m 1s\n",
            "2:\ttotal: 235ms\tremaining: 3m 54s\n",
            "3:\ttotal: 269ms\tremaining: 3m 21s\n",
            "4:\ttotal: 302ms\tremaining: 3m\n",
            "5:\ttotal: 324ms\tremaining: 2m 41s\n",
            "6:\ttotal: 345ms\tremaining: 2m 27s\n",
            "7:\ttotal: 368ms\tremaining: 2m 17s\n",
            "8:\ttotal: 388ms\tremaining: 2m 8s\n",
            "9:\ttotal: 409ms\tremaining: 2m 2s\n",
            "10:\ttotal: 432ms\tremaining: 1m 57s\n",
            "11:\ttotal: 467ms\tremaining: 1m 56s\n",
            "12:\ttotal: 504ms\tremaining: 1m 55s\n",
            "13:\ttotal: 527ms\tremaining: 1m 52s\n",
            "14:\ttotal: 549ms\tremaining: 1m 49s\n",
            "15:\ttotal: 570ms\tremaining: 1m 46s\n",
            "16:\ttotal: 592ms\tremaining: 1m 43s\n",
            "17:\ttotal: 614ms\tremaining: 1m 41s\n",
            "18:\ttotal: 636ms\tremaining: 1m 39s\n",
            "19:\ttotal: 666ms\tremaining: 1m 39s\n",
            "20:\ttotal: 696ms\tremaining: 1m 38s\n",
            "21:\ttotal: 717ms\tremaining: 1m 37s\n",
            "22:\ttotal: 738ms\tremaining: 1m 35s\n",
            "23:\ttotal: 761ms\tremaining: 1m 34s\n",
            "24:\ttotal: 783ms\tremaining: 1m 33s\n",
            "25:\ttotal: 804ms\tremaining: 1m 31s\n",
            "26:\ttotal: 825ms\tremaining: 1m 30s\n",
            "27:\ttotal: 847ms\tremaining: 1m 29s\n",
            "28:\ttotal: 868ms\tremaining: 1m 28s\n",
            "29:\ttotal: 890ms\tremaining: 1m 28s\n",
            "30:\ttotal: 913ms\tremaining: 1m 27s\n",
            "31:\ttotal: 934ms\tremaining: 1m 26s\n",
            "32:\ttotal: 956ms\tremaining: 1m 25s\n",
            "33:\ttotal: 977ms\tremaining: 1m 25s\n",
            "34:\ttotal: 999ms\tremaining: 1m 24s\n",
            "35:\ttotal: 1.02s\tremaining: 1m 24s\n",
            "36:\ttotal: 1.04s\tremaining: 1m 23s\n",
            "37:\ttotal: 1.06s\tremaining: 1m 22s\n",
            "38:\ttotal: 1.08s\tremaining: 1m 22s\n",
            "39:\ttotal: 1.11s\tremaining: 1m 21s\n",
            "40:\ttotal: 1.13s\tremaining: 1m 21s\n",
            "41:\ttotal: 1.15s\tremaining: 1m 21s\n",
            "42:\ttotal: 1.17s\tremaining: 1m 20s\n",
            "43:\ttotal: 1.19s\tremaining: 1m 20s\n",
            "44:\ttotal: 1.22s\tremaining: 1m 19s\n",
            "45:\ttotal: 1.24s\tremaining: 1m 19s\n",
            "46:\ttotal: 1.26s\tremaining: 1m 19s\n",
            "47:\ttotal: 1.28s\tremaining: 1m 18s\n",
            "48:\ttotal: 1.3s\tremaining: 1m 18s\n",
            "49:\ttotal: 1.33s\tremaining: 1m 18s\n",
            "50:\ttotal: 1.35s\tremaining: 1m 18s\n",
            "51:\ttotal: 1.37s\tremaining: 1m 17s\n",
            "52:\ttotal: 1.39s\tremaining: 1m 17s\n",
            "53:\ttotal: 1.41s\tremaining: 1m 17s\n",
            "54:\ttotal: 1.43s\tremaining: 1m 16s\n",
            "55:\ttotal: 1.46s\tremaining: 1m 16s\n",
            "56:\ttotal: 1.48s\tremaining: 1m 16s\n",
            "57:\ttotal: 1.5s\tremaining: 1m 15s\n",
            "58:\ttotal: 1.52s\tremaining: 1m 15s\n",
            "59:\ttotal: 1.54s\tremaining: 1m 15s\n",
            "60:\ttotal: 1.57s\tremaining: 1m 15s\n",
            "61:\ttotal: 1.59s\tremaining: 1m 15s\n",
            "62:\ttotal: 1.61s\tremaining: 1m 15s\n",
            "63:\ttotal: 1.63s\tremaining: 1m 14s\n",
            "64:\ttotal: 1.65s\tremaining: 1m 14s\n",
            "65:\ttotal: 1.68s\tremaining: 1m 14s\n",
            "66:\ttotal: 1.7s\tremaining: 1m 14s\n",
            "67:\ttotal: 1.72s\tremaining: 1m 14s\n",
            "68:\ttotal: 1.74s\tremaining: 1m 13s\n",
            "69:\ttotal: 1.76s\tremaining: 1m 13s\n",
            "70:\ttotal: 1.78s\tremaining: 1m 13s\n",
            "71:\ttotal: 1.82s\tremaining: 1m 13s\n",
            "72:\ttotal: 1.84s\tremaining: 1m 13s\n",
            "73:\ttotal: 1.86s\tremaining: 1m 13s\n",
            "74:\ttotal: 1.89s\tremaining: 1m 13s\n",
            "75:\ttotal: 1.91s\tremaining: 1m 13s\n",
            "76:\ttotal: 1.93s\tremaining: 1m 13s\n",
            "77:\ttotal: 1.95s\tremaining: 1m 13s\n",
            "78:\ttotal: 1.97s\tremaining: 1m 12s\n",
            "79:\ttotal: 1.99s\tremaining: 1m 12s\n",
            "80:\ttotal: 2.03s\tremaining: 1m 13s\n",
            "81:\ttotal: 2.05s\tremaining: 1m 12s\n",
            "82:\ttotal: 2.08s\tremaining: 1m 13s\n",
            "83:\ttotal: 2.1s\tremaining: 1m 13s\n",
            "84:\ttotal: 2.12s\tremaining: 1m 12s\n",
            "85:\ttotal: 2.15s\tremaining: 1m 12s\n",
            "86:\ttotal: 2.17s\tremaining: 1m 12s\n",
            "87:\ttotal: 2.19s\tremaining: 1m 12s\n",
            "88:\ttotal: 2.21s\tremaining: 1m 12s\n",
            "89:\ttotal: 2.25s\tremaining: 1m 12s\n",
            "90:\ttotal: 2.27s\tremaining: 1m 12s\n",
            "91:\ttotal: 2.29s\tremaining: 1m 12s\n",
            "92:\ttotal: 2.31s\tremaining: 1m 12s\n",
            "93:\ttotal: 2.33s\tremaining: 1m 12s\n",
            "94:\ttotal: 2.35s\tremaining: 1m 11s\n",
            "95:\ttotal: 2.37s\tremaining: 1m 11s\n",
            "96:\ttotal: 2.39s\tremaining: 1m 11s\n",
            "97:\ttotal: 2.42s\tremaining: 1m 11s\n",
            "98:\ttotal: 2.46s\tremaining: 1m 11s\n",
            "99:\ttotal: 2.48s\tremaining: 1m 11s\n",
            "100:\ttotal: 2.51s\tremaining: 1m 11s\n",
            "101:\ttotal: 2.54s\tremaining: 1m 12s\n",
            "102:\ttotal: 2.56s\tremaining: 1m 12s\n",
            "103:\ttotal: 2.58s\tremaining: 1m 11s\n",
            "104:\ttotal: 2.6s\tremaining: 1m 11s\n",
            "105:\ttotal: 2.63s\tremaining: 1m 11s\n",
            "106:\ttotal: 2.65s\tremaining: 1m 11s\n",
            "107:\ttotal: 2.67s\tremaining: 1m 11s\n",
            "108:\ttotal: 2.71s\tremaining: 1m 11s\n",
            "109:\ttotal: 2.73s\tremaining: 1m 11s\n",
            "110:\ttotal: 2.76s\tremaining: 1m 11s\n",
            "111:\ttotal: 2.78s\tremaining: 1m 11s\n",
            "112:\ttotal: 2.8s\tremaining: 1m 11s\n",
            "113:\ttotal: 2.82s\tremaining: 1m 11s\n",
            "114:\ttotal: 2.84s\tremaining: 1m 11s\n",
            "115:\ttotal: 2.86s\tremaining: 1m 11s\n",
            "116:\ttotal: 2.89s\tremaining: 1m 11s\n",
            "117:\ttotal: 2.91s\tremaining: 1m 11s\n",
            "118:\ttotal: 2.93s\tremaining: 1m 10s\n",
            "119:\ttotal: 2.95s\tremaining: 1m 10s\n",
            "120:\ttotal: 2.97s\tremaining: 1m 10s\n",
            "121:\ttotal: 3s\tremaining: 1m 10s\n",
            "122:\ttotal: 3.02s\tremaining: 1m 10s\n",
            "123:\ttotal: 3.04s\tremaining: 1m 10s\n",
            "124:\ttotal: 3.06s\tremaining: 1m 10s\n",
            "125:\ttotal: 3.08s\tremaining: 1m 10s\n",
            "126:\ttotal: 3.11s\tremaining: 1m 10s\n",
            "127:\ttotal: 3.13s\tremaining: 1m 10s\n",
            "128:\ttotal: 3.15s\tremaining: 1m 10s\n",
            "129:\ttotal: 3.17s\tremaining: 1m 9s\n",
            "130:\ttotal: 3.19s\tremaining: 1m 9s\n",
            "131:\ttotal: 3.21s\tremaining: 1m 9s\n",
            "132:\ttotal: 3.22s\tremaining: 1m 9s\n",
            "133:\ttotal: 3.24s\tremaining: 1m 9s\n",
            "134:\ttotal: 3.26s\tremaining: 1m 9s\n",
            "135:\ttotal: 3.28s\tremaining: 1m 9s\n",
            "136:\ttotal: 3.3s\tremaining: 1m 9s\n",
            "137:\ttotal: 3.33s\tremaining: 1m 8s\n",
            "138:\ttotal: 3.36s\tremaining: 1m 9s\n",
            "139:\ttotal: 3.38s\tremaining: 1m 8s\n",
            "140:\ttotal: 3.4s\tremaining: 1m 8s\n",
            "141:\ttotal: 3.41s\tremaining: 1m 8s\n",
            "142:\ttotal: 3.43s\tremaining: 1m 8s\n",
            "143:\ttotal: 3.45s\tremaining: 1m 8s\n",
            "144:\ttotal: 3.47s\tremaining: 1m 8s\n",
            "145:\ttotal: 3.49s\tremaining: 1m 8s\n",
            "146:\ttotal: 3.51s\tremaining: 1m 8s\n",
            "147:\ttotal: 3.53s\tremaining: 1m 8s\n",
            "148:\ttotal: 3.56s\tremaining: 1m 8s\n",
            "149:\ttotal: 3.58s\tremaining: 1m 8s\n",
            "150:\ttotal: 3.6s\tremaining: 1m 7s\n",
            "151:\ttotal: 3.62s\tremaining: 1m 7s\n",
            "152:\ttotal: 3.64s\tremaining: 1m 7s\n",
            "153:\ttotal: 3.66s\tremaining: 1m 7s\n",
            "154:\ttotal: 3.68s\tremaining: 1m 7s\n",
            "155:\ttotal: 3.7s\tremaining: 1m 7s\n",
            "156:\ttotal: 3.72s\tremaining: 1m 7s\n",
            "157:\ttotal: 3.74s\tremaining: 1m 7s\n",
            "158:\ttotal: 3.76s\tremaining: 1m 7s\n",
            "159:\ttotal: 3.78s\tremaining: 1m 7s\n",
            "160:\ttotal: 3.8s\tremaining: 1m 6s\n",
            "161:\ttotal: 3.83s\tremaining: 1m 7s\n",
            "162:\ttotal: 3.85s\tremaining: 1m 7s\n",
            "163:\ttotal: 3.87s\tremaining: 1m 6s\n",
            "164:\ttotal: 3.89s\tremaining: 1m 6s\n",
            "165:\ttotal: 3.91s\tremaining: 1m 6s\n",
            "166:\ttotal: 3.93s\tremaining: 1m 6s\n",
            "167:\ttotal: 3.97s\tremaining: 1m 6s\n",
            "168:\ttotal: 4s\tremaining: 1m 6s\n",
            "169:\ttotal: 4.02s\tremaining: 1m 6s\n",
            "170:\ttotal: 4.05s\tremaining: 1m 7s\n",
            "171:\ttotal: 4.07s\tremaining: 1m 6s\n",
            "172:\ttotal: 4.09s\tremaining: 1m 6s\n",
            "173:\ttotal: 4.11s\tremaining: 1m 6s\n",
            "174:\ttotal: 4.13s\tremaining: 1m 6s\n",
            "175:\ttotal: 4.15s\tremaining: 1m 6s\n",
            "176:\ttotal: 4.17s\tremaining: 1m 6s\n",
            "177:\ttotal: 4.2s\tremaining: 1m 6s\n",
            "178:\ttotal: 4.22s\tremaining: 1m 6s\n",
            "179:\ttotal: 4.24s\tremaining: 1m 6s\n",
            "180:\ttotal: 4.26s\tremaining: 1m 6s\n",
            "181:\ttotal: 4.28s\tremaining: 1m 6s\n",
            "182:\ttotal: 4.3s\tremaining: 1m 6s\n",
            "183:\ttotal: 4.32s\tremaining: 1m 6s\n",
            "184:\ttotal: 4.34s\tremaining: 1m 6s\n",
            "185:\ttotal: 4.36s\tremaining: 1m 5s\n",
            "186:\ttotal: 4.38s\tremaining: 1m 5s\n",
            "187:\ttotal: 4.4s\tremaining: 1m 5s\n",
            "188:\ttotal: 4.42s\tremaining: 1m 5s\n",
            "189:\ttotal: 4.44s\tremaining: 1m 5s\n",
            "190:\ttotal: 4.46s\tremaining: 1m 5s\n",
            "191:\ttotal: 4.47s\tremaining: 1m 5s\n",
            "192:\ttotal: 4.51s\tremaining: 1m 5s\n",
            "193:\ttotal: 4.53s\tremaining: 1m 5s\n",
            "194:\ttotal: 4.55s\tremaining: 1m 5s\n",
            "195:\ttotal: 4.57s\tremaining: 1m 5s\n",
            "196:\ttotal: 4.6s\tremaining: 1m 5s\n",
            "197:\ttotal: 4.62s\tremaining: 1m 5s\n",
            "198:\ttotal: 4.64s\tremaining: 1m 5s\n",
            "199:\ttotal: 4.67s\tremaining: 1m 5s\n",
            "200:\ttotal: 4.7s\tremaining: 1m 5s\n",
            "201:\ttotal: 4.74s\tremaining: 1m 5s\n",
            "202:\ttotal: 4.75s\tremaining: 1m 5s\n",
            "203:\ttotal: 4.77s\tremaining: 1m 5s\n",
            "204:\ttotal: 4.8s\tremaining: 1m 5s\n",
            "205:\ttotal: 4.83s\tremaining: 1m 5s\n",
            "206:\ttotal: 4.86s\tremaining: 1m 5s\n",
            "207:\ttotal: 4.88s\tremaining: 1m 5s\n",
            "208:\ttotal: 4.9s\tremaining: 1m 5s\n",
            "209:\ttotal: 4.93s\tremaining: 1m 5s\n",
            "210:\ttotal: 4.95s\tremaining: 1m 5s\n",
            "211:\ttotal: 4.97s\tremaining: 1m 5s\n",
            "212:\ttotal: 4.99s\tremaining: 1m 5s\n",
            "213:\ttotal: 5.02s\tremaining: 1m 5s\n",
            "214:\ttotal: 5.05s\tremaining: 1m 5s\n",
            "215:\ttotal: 5.07s\tremaining: 1m 5s\n",
            "216:\ttotal: 5.09s\tremaining: 1m 5s\n",
            "217:\ttotal: 5.11s\tremaining: 1m 5s\n",
            "218:\ttotal: 5.13s\tremaining: 1m 5s\n",
            "219:\ttotal: 5.15s\tremaining: 1m 5s\n",
            "220:\ttotal: 5.18s\tremaining: 1m 5s\n",
            "221:\ttotal: 5.21s\tremaining: 1m 5s\n",
            "222:\ttotal: 5.24s\tremaining: 1m 5s\n",
            "223:\ttotal: 5.25s\tremaining: 1m 5s\n",
            "224:\ttotal: 5.27s\tremaining: 1m 5s\n",
            "225:\ttotal: 5.29s\tremaining: 1m 4s\n",
            "226:\ttotal: 5.31s\tremaining: 1m 4s\n",
            "227:\ttotal: 5.33s\tremaining: 1m 4s\n",
            "228:\ttotal: 5.35s\tremaining: 1m 4s\n",
            "229:\ttotal: 5.37s\tremaining: 1m 4s\n",
            "230:\ttotal: 5.39s\tremaining: 1m 4s\n",
            "231:\ttotal: 5.41s\tremaining: 1m 4s\n",
            "232:\ttotal: 5.43s\tremaining: 1m 4s\n",
            "233:\ttotal: 5.45s\tremaining: 1m 4s\n",
            "234:\ttotal: 5.47s\tremaining: 1m 4s\n",
            "235:\ttotal: 5.49s\tremaining: 1m 4s\n",
            "236:\ttotal: 5.52s\tremaining: 1m 4s\n",
            "237:\ttotal: 5.54s\tremaining: 1m 4s\n",
            "238:\ttotal: 5.56s\tremaining: 1m 4s\n",
            "239:\ttotal: 5.59s\tremaining: 1m 4s\n",
            "240:\ttotal: 5.61s\tremaining: 1m 4s\n",
            "241:\ttotal: 5.63s\tremaining: 1m 4s\n",
            "242:\ttotal: 5.65s\tremaining: 1m 4s\n",
            "243:\ttotal: 5.67s\tremaining: 1m 4s\n",
            "244:\ttotal: 5.69s\tremaining: 1m 4s\n",
            "245:\ttotal: 5.71s\tremaining: 1m 3s\n",
            "246:\ttotal: 5.73s\tremaining: 1m 3s\n",
            "247:\ttotal: 5.75s\tremaining: 1m 3s\n",
            "248:\ttotal: 5.77s\tremaining: 1m 3s\n",
            "249:\ttotal: 5.79s\tremaining: 1m 3s\n",
            "250:\ttotal: 5.81s\tremaining: 1m 3s\n",
            "251:\ttotal: 5.83s\tremaining: 1m 3s\n",
            "252:\ttotal: 5.85s\tremaining: 1m 3s\n",
            "253:\ttotal: 5.87s\tremaining: 1m 3s\n",
            "254:\ttotal: 5.89s\tremaining: 1m 3s\n",
            "255:\ttotal: 5.91s\tremaining: 1m 3s\n",
            "256:\ttotal: 5.94s\tremaining: 1m 3s\n",
            "257:\ttotal: 5.96s\tremaining: 1m 3s\n",
            "258:\ttotal: 5.98s\tremaining: 1m 3s\n",
            "259:\ttotal: 6s\tremaining: 1m 3s\n",
            "260:\ttotal: 6.02s\tremaining: 1m 3s\n",
            "261:\ttotal: 6.04s\tremaining: 1m 3s\n",
            "262:\ttotal: 6.06s\tremaining: 1m 3s\n",
            "263:\ttotal: 6.08s\tremaining: 1m 3s\n",
            "264:\ttotal: 6.11s\tremaining: 1m 3s\n",
            "265:\ttotal: 6.13s\tremaining: 1m 3s\n",
            "266:\ttotal: 6.15s\tremaining: 1m 2s\n",
            "267:\ttotal: 6.17s\tremaining: 1m 2s\n",
            "268:\ttotal: 6.19s\tremaining: 1m 2s\n",
            "269:\ttotal: 6.21s\tremaining: 1m 2s\n",
            "270:\ttotal: 6.23s\tremaining: 1m 2s\n",
            "271:\ttotal: 6.25s\tremaining: 1m 2s\n",
            "272:\ttotal: 6.27s\tremaining: 1m 2s\n",
            "273:\ttotal: 6.29s\tremaining: 1m 2s\n",
            "274:\ttotal: 6.32s\tremaining: 1m 2s\n",
            "275:\ttotal: 6.34s\tremaining: 1m 2s\n",
            "276:\ttotal: 6.36s\tremaining: 1m 2s\n",
            "277:\ttotal: 6.39s\tremaining: 1m 2s\n",
            "278:\ttotal: 6.41s\tremaining: 1m 2s\n",
            "279:\ttotal: 6.43s\tremaining: 1m 2s\n",
            "280:\ttotal: 6.45s\tremaining: 1m 2s\n",
            "281:\ttotal: 6.47s\tremaining: 1m 2s\n",
            "282:\ttotal: 6.49s\tremaining: 1m 2s\n",
            "283:\ttotal: 6.52s\tremaining: 1m 2s\n",
            "284:\ttotal: 6.55s\tremaining: 1m 2s\n",
            "285:\ttotal: 6.57s\tremaining: 1m 2s\n",
            "286:\ttotal: 6.59s\tremaining: 1m 2s\n",
            "287:\ttotal: 6.61s\tremaining: 1m 2s\n",
            "288:\ttotal: 6.63s\tremaining: 1m 2s\n",
            "289:\ttotal: 6.65s\tremaining: 1m 2s\n",
            "290:\ttotal: 6.67s\tremaining: 1m 2s\n",
            "291:\ttotal: 6.69s\tremaining: 1m 2s\n",
            "292:\ttotal: 6.71s\tremaining: 1m 1s\n",
            "293:\ttotal: 6.73s\tremaining: 1m 1s\n",
            "294:\ttotal: 6.76s\tremaining: 1m 2s\n",
            "295:\ttotal: 6.78s\tremaining: 1m 1s\n",
            "296:\ttotal: 6.81s\tremaining: 1m 2s\n",
            "297:\ttotal: 6.83s\tremaining: 1m 1s\n",
            "298:\ttotal: 6.85s\tremaining: 1m 1s\n",
            "299:\ttotal: 6.88s\tremaining: 1m 1s\n",
            "300:\ttotal: 6.9s\tremaining: 1m 1s\n",
            "301:\ttotal: 6.92s\tremaining: 1m 1s\n",
            "302:\ttotal: 6.94s\tremaining: 1m 1s\n",
            "303:\ttotal: 6.96s\tremaining: 1m 1s\n",
            "304:\ttotal: 6.98s\tremaining: 1m 1s\n",
            "305:\ttotal: 7s\tremaining: 1m 1s\n",
            "306:\ttotal: 7.03s\tremaining: 1m 1s\n",
            "307:\ttotal: 7.05s\tremaining: 1m 1s\n",
            "308:\ttotal: 7.07s\tremaining: 1m 1s\n",
            "309:\ttotal: 7.09s\tremaining: 1m 1s\n",
            "310:\ttotal: 7.13s\tremaining: 1m 1s\n",
            "311:\ttotal: 7.15s\tremaining: 1m 1s\n",
            "312:\ttotal: 7.18s\tremaining: 1m 1s\n",
            "313:\ttotal: 7.2s\tremaining: 1m 1s\n",
            "314:\ttotal: 7.23s\tremaining: 1m 1s\n",
            "315:\ttotal: 7.25s\tremaining: 1m 1s\n",
            "316:\ttotal: 7.28s\tremaining: 1m 1s\n",
            "317:\ttotal: 7.3s\tremaining: 1m 1s\n",
            "318:\ttotal: 7.32s\tremaining: 1m 1s\n",
            "319:\ttotal: 7.34s\tremaining: 1m 1s\n",
            "320:\ttotal: 7.36s\tremaining: 1m 1s\n",
            "321:\ttotal: 7.38s\tremaining: 1m 1s\n",
            "322:\ttotal: 7.41s\tremaining: 1m 1s\n",
            "323:\ttotal: 7.44s\tremaining: 1m 1s\n",
            "324:\ttotal: 7.46s\tremaining: 1m 1s\n",
            "325:\ttotal: 7.48s\tremaining: 1m 1s\n",
            "326:\ttotal: 7.5s\tremaining: 1m 1s\n",
            "327:\ttotal: 7.52s\tremaining: 1m 1s\n",
            "328:\ttotal: 7.55s\tremaining: 1m 1s\n",
            "329:\ttotal: 7.58s\tremaining: 1m 1s\n",
            "330:\ttotal: 7.59s\tremaining: 1m 1s\n",
            "331:\ttotal: 7.63s\tremaining: 1m 1s\n",
            "332:\ttotal: 7.65s\tremaining: 1m 1s\n",
            "333:\ttotal: 7.67s\tremaining: 1m 1s\n",
            "334:\ttotal: 7.7s\tremaining: 1m 1s\n",
            "335:\ttotal: 7.73s\tremaining: 1m 1s\n",
            "336:\ttotal: 7.75s\tremaining: 1m 1s\n",
            "337:\ttotal: 7.76s\tremaining: 1m 1s\n",
            "338:\ttotal: 7.79s\tremaining: 1m 1s\n",
            "339:\ttotal: 7.8s\tremaining: 1m 1s\n",
            "340:\ttotal: 7.84s\tremaining: 1m 1s\n",
            "341:\ttotal: 7.87s\tremaining: 1m 1s\n",
            "342:\ttotal: 7.9s\tremaining: 1m 1s\n",
            "343:\ttotal: 7.92s\tremaining: 1m 1s\n",
            "344:\ttotal: 7.94s\tremaining: 1m 1s\n",
            "345:\ttotal: 7.96s\tremaining: 1m 1s\n",
            "346:\ttotal: 7.98s\tremaining: 1m\n",
            "347:\ttotal: 8s\tremaining: 1m\n",
            "348:\ttotal: 8.03s\tremaining: 1m\n",
            "349:\ttotal: 8.06s\tremaining: 1m 1s\n",
            "350:\ttotal: 8.08s\tremaining: 1m\n",
            "351:\ttotal: 8.1s\tremaining: 1m\n",
            "352:\ttotal: 8.12s\tremaining: 1m\n",
            "353:\ttotal: 8.14s\tremaining: 1m\n",
            "354:\ttotal: 8.16s\tremaining: 1m\n",
            "355:\ttotal: 8.19s\tremaining: 1m\n",
            "356:\ttotal: 8.22s\tremaining: 1m\n",
            "357:\ttotal: 8.24s\tremaining: 1m\n",
            "358:\ttotal: 8.26s\tremaining: 1m\n",
            "359:\ttotal: 8.29s\tremaining: 1m\n",
            "360:\ttotal: 8.32s\tremaining: 1m\n",
            "361:\ttotal: 8.35s\tremaining: 1m\n",
            "362:\ttotal: 8.38s\tremaining: 1m\n",
            "363:\ttotal: 8.4s\tremaining: 1m\n",
            "364:\ttotal: 8.42s\tremaining: 1m\n",
            "365:\ttotal: 8.45s\tremaining: 1m\n",
            "366:\ttotal: 8.47s\tremaining: 1m\n",
            "367:\ttotal: 8.49s\tremaining: 1m\n",
            "368:\ttotal: 8.52s\tremaining: 1m\n",
            "369:\ttotal: 8.55s\tremaining: 1m\n",
            "370:\ttotal: 8.58s\tremaining: 1m\n",
            "371:\ttotal: 8.6s\tremaining: 1m\n",
            "372:\ttotal: 8.62s\tremaining: 1m\n",
            "373:\ttotal: 8.64s\tremaining: 1m\n",
            "374:\ttotal: 8.66s\tremaining: 1m\n",
            "375:\ttotal: 8.68s\tremaining: 1m\n",
            "376:\ttotal: 8.7s\tremaining: 1m\n",
            "377:\ttotal: 8.72s\tremaining: 1m\n",
            "378:\ttotal: 8.75s\tremaining: 1m\n",
            "379:\ttotal: 8.77s\tremaining: 1m\n",
            "380:\ttotal: 8.79s\tremaining: 1m\n",
            "381:\ttotal: 8.82s\tremaining: 1m\n",
            "382:\ttotal: 8.84s\tremaining: 1m\n",
            "383:\ttotal: 8.86s\tremaining: 1m\n",
            "384:\ttotal: 8.88s\tremaining: 1m\n",
            "385:\ttotal: 8.89s\tremaining: 1m\n",
            "386:\ttotal: 8.93s\tremaining: 1m\n",
            "387:\ttotal: 8.96s\tremaining: 1m\n",
            "388:\ttotal: 8.99s\tremaining: 1m\n",
            "389:\ttotal: 9.02s\tremaining: 1m\n",
            "390:\ttotal: 9.05s\tremaining: 1m\n",
            "391:\ttotal: 9.07s\tremaining: 1m\n",
            "392:\ttotal: 9.09s\tremaining: 1m\n",
            "393:\ttotal: 9.11s\tremaining: 1m\n",
            "394:\ttotal: 9.14s\tremaining: 1m\n",
            "395:\ttotal: 9.16s\tremaining: 1m\n",
            "396:\ttotal: 9.19s\tremaining: 1m\n",
            "397:\ttotal: 9.21s\tremaining: 1m\n",
            "398:\ttotal: 9.23s\tremaining: 1m\n",
            "399:\ttotal: 9.25s\tremaining: 1m\n",
            "400:\ttotal: 9.27s\tremaining: 1m\n",
            "401:\ttotal: 9.29s\tremaining: 1m\n",
            "402:\ttotal: 9.31s\tremaining: 60s\n",
            "403:\ttotal: 9.34s\tremaining: 1m\n",
            "404:\ttotal: 9.36s\tremaining: 60s\n",
            "405:\ttotal: 9.39s\tremaining: 1m\n",
            "406:\ttotal: 9.41s\tremaining: 60s\n",
            "407:\ttotal: 9.44s\tremaining: 60s\n",
            "408:\ttotal: 9.47s\tremaining: 1m\n",
            "409:\ttotal: 9.49s\tremaining: 60s\n",
            "410:\ttotal: 9.52s\tremaining: 60s\n",
            "411:\ttotal: 9.54s\tremaining: 59.9s\n",
            "412:\ttotal: 9.56s\tremaining: 59.9s\n",
            "413:\ttotal: 9.59s\tremaining: 59.9s\n",
            "414:\ttotal: 9.63s\tremaining: 60s\n",
            "415:\ttotal: 9.64s\tremaining: 59.9s\n",
            "416:\ttotal: 9.68s\tremaining: 59.9s\n",
            "417:\ttotal: 9.71s\tremaining: 60s\n",
            "418:\ttotal: 9.74s\tremaining: 60s\n",
            "419:\ttotal: 9.76s\tremaining: 59.9s\n",
            "420:\ttotal: 9.77s\tremaining: 59.9s\n",
            "421:\ttotal: 9.79s\tremaining: 59.8s\n",
            "422:\ttotal: 9.81s\tremaining: 59.8s\n",
            "423:\ttotal: 9.84s\tremaining: 59.8s\n",
            "424:\ttotal: 9.87s\tremaining: 59.8s\n",
            "425:\ttotal: 9.9s\tremaining: 59.8s\n",
            "426:\ttotal: 9.91s\tremaining: 59.7s\n",
            "427:\ttotal: 9.93s\tremaining: 59.7s\n",
            "428:\ttotal: 9.95s\tremaining: 59.7s\n",
            "429:\ttotal: 9.97s\tremaining: 59.6s\n",
            "430:\ttotal: 10s\tremaining: 59.6s\n",
            "431:\ttotal: 10s\tremaining: 59.7s\n",
            "432:\ttotal: 10.1s\tremaining: 59.7s\n",
            "433:\ttotal: 10.1s\tremaining: 59.6s\n",
            "434:\ttotal: 10.1s\tremaining: 59.6s\n",
            "435:\ttotal: 10.1s\tremaining: 59.5s\n",
            "436:\ttotal: 10.1s\tremaining: 59.5s\n",
            "437:\ttotal: 10.2s\tremaining: 59.5s\n",
            "438:\ttotal: 10.2s\tremaining: 59.4s\n",
            "439:\ttotal: 10.2s\tremaining: 59.4s\n",
            "440:\ttotal: 10.2s\tremaining: 59.4s\n",
            "441:\ttotal: 10.3s\tremaining: 59.4s\n",
            "442:\ttotal: 10.3s\tremaining: 59.4s\n",
            "443:\ttotal: 10.3s\tremaining: 59.3s\n",
            "444:\ttotal: 10.3s\tremaining: 59.3s\n",
            "445:\ttotal: 10.3s\tremaining: 59.2s\n",
            "446:\ttotal: 10.4s\tremaining: 59.2s\n",
            "447:\ttotal: 10.4s\tremaining: 59.2s\n",
            "448:\ttotal: 10.4s\tremaining: 59.2s\n",
            "449:\ttotal: 10.4s\tremaining: 59.2s\n",
            "450:\ttotal: 10.5s\tremaining: 59.2s\n",
            "451:\ttotal: 10.5s\tremaining: 59.2s\n",
            "452:\ttotal: 10.5s\tremaining: 59.2s\n",
            "453:\ttotal: 10.5s\tremaining: 59.1s\n",
            "454:\ttotal: 10.6s\tremaining: 59.1s\n",
            "455:\ttotal: 10.6s\tremaining: 59.1s\n",
            "456:\ttotal: 10.6s\tremaining: 59s\n",
            "457:\ttotal: 10.6s\tremaining: 59s\n",
            "458:\ttotal: 10.6s\tremaining: 58.9s\n",
            "459:\ttotal: 10.7s\tremaining: 59s\n",
            "460:\ttotal: 10.7s\tremaining: 58.9s\n",
            "461:\ttotal: 10.7s\tremaining: 58.9s\n",
            "462:\ttotal: 10.7s\tremaining: 58.9s\n",
            "463:\ttotal: 10.8s\tremaining: 58.8s\n",
            "464:\ttotal: 10.8s\tremaining: 58.8s\n",
            "465:\ttotal: 10.8s\tremaining: 58.7s\n",
            "466:\ttotal: 10.8s\tremaining: 58.7s\n",
            "467:\ttotal: 10.9s\tremaining: 58.7s\n",
            "468:\ttotal: 10.9s\tremaining: 58.7s\n",
            "469:\ttotal: 10.9s\tremaining: 58.7s\n",
            "470:\ttotal: 10.9s\tremaining: 58.7s\n",
            "471:\ttotal: 10.9s\tremaining: 58.6s\n",
            "472:\ttotal: 11s\tremaining: 58.6s\n",
            "473:\ttotal: 11s\tremaining: 58.5s\n",
            "474:\ttotal: 11s\tremaining: 58.5s\n",
            "475:\ttotal: 11s\tremaining: 58.4s\n",
            "476:\ttotal: 11s\tremaining: 58.4s\n",
            "477:\ttotal: 11.1s\tremaining: 58.4s\n",
            "478:\ttotal: 11.1s\tremaining: 58.3s\n",
            "479:\ttotal: 11.1s\tremaining: 58.3s\n",
            "480:\ttotal: 11.1s\tremaining: 58.2s\n",
            "481:\ttotal: 11.1s\tremaining: 58.2s\n",
            "482:\ttotal: 11.2s\tremaining: 58.2s\n",
            "483:\ttotal: 11.2s\tremaining: 58.2s\n",
            "484:\ttotal: 11.2s\tremaining: 58.2s\n",
            "485:\ttotal: 11.2s\tremaining: 58.2s\n",
            "486:\ttotal: 11.3s\tremaining: 58.1s\n",
            "487:\ttotal: 11.3s\tremaining: 58.1s\n",
            "488:\ttotal: 11.3s\tremaining: 58.1s\n",
            "489:\ttotal: 11.3s\tremaining: 58.1s\n",
            "490:\ttotal: 11.4s\tremaining: 58.1s\n",
            "491:\ttotal: 11.4s\tremaining: 58.1s\n",
            "492:\ttotal: 11.4s\tremaining: 58.1s\n",
            "493:\ttotal: 11.4s\tremaining: 58s\n",
            "494:\ttotal: 11.5s\tremaining: 58s\n",
            "495:\ttotal: 11.5s\tremaining: 58s\n",
            "496:\ttotal: 11.5s\tremaining: 58s\n",
            "497:\ttotal: 11.5s\tremaining: 58s\n",
            "498:\ttotal: 11.6s\tremaining: 58s\n",
            "499:\ttotal: 11.6s\tremaining: 57.9s\n",
            "500:\ttotal: 11.6s\tremaining: 57.9s\n",
            "501:\ttotal: 11.6s\tremaining: 57.9s\n",
            "502:\ttotal: 11.7s\tremaining: 57.9s\n",
            "503:\ttotal: 11.7s\tremaining: 57.9s\n",
            "504:\ttotal: 11.7s\tremaining: 57.8s\n",
            "505:\ttotal: 11.7s\tremaining: 57.8s\n",
            "506:\ttotal: 11.7s\tremaining: 57.7s\n",
            "507:\ttotal: 11.8s\tremaining: 57.8s\n",
            "508:\ttotal: 11.8s\tremaining: 57.8s\n",
            "509:\ttotal: 11.8s\tremaining: 57.8s\n",
            "510:\ttotal: 11.9s\tremaining: 57.8s\n",
            "511:\ttotal: 11.9s\tremaining: 57.8s\n",
            "512:\ttotal: 11.9s\tremaining: 57.7s\n",
            "513:\ttotal: 11.9s\tremaining: 57.7s\n",
            "514:\ttotal: 11.9s\tremaining: 57.6s\n",
            "515:\ttotal: 12s\tremaining: 57.6s\n",
            "516:\ttotal: 12s\tremaining: 57.6s\n",
            "517:\ttotal: 12s\tremaining: 57.6s\n",
            "518:\ttotal: 12.1s\tremaining: 57.6s\n",
            "519:\ttotal: 12.1s\tremaining: 57.6s\n",
            "520:\ttotal: 12.1s\tremaining: 57.5s\n",
            "521:\ttotal: 12.1s\tremaining: 57.5s\n",
            "522:\ttotal: 12.1s\tremaining: 57.5s\n",
            "523:\ttotal: 12.2s\tremaining: 57.4s\n",
            "524:\ttotal: 12.2s\tremaining: 57.5s\n",
            "525:\ttotal: 12.2s\tremaining: 57.5s\n",
            "526:\ttotal: 12.2s\tremaining: 57.4s\n",
            "527:\ttotal: 12.3s\tremaining: 57.4s\n",
            "528:\ttotal: 12.3s\tremaining: 57.3s\n",
            "529:\ttotal: 12.3s\tremaining: 57.3s\n",
            "530:\ttotal: 12.3s\tremaining: 57.3s\n",
            "531:\ttotal: 12.3s\tremaining: 57.3s\n",
            "532:\ttotal: 12.4s\tremaining: 57.3s\n",
            "533:\ttotal: 12.4s\tremaining: 57.3s\n",
            "534:\ttotal: 12.4s\tremaining: 57.3s\n",
            "535:\ttotal: 12.5s\tremaining: 57.3s\n",
            "536:\ttotal: 12.5s\tremaining: 57.3s\n",
            "537:\ttotal: 12.5s\tremaining: 57.3s\n",
            "538:\ttotal: 12.5s\tremaining: 57.2s\n",
            "539:\ttotal: 12.6s\tremaining: 57.2s\n",
            "540:\ttotal: 12.6s\tremaining: 57.1s\n",
            "541:\ttotal: 12.6s\tremaining: 57.1s\n",
            "542:\ttotal: 12.6s\tremaining: 57.1s\n",
            "543:\ttotal: 12.6s\tremaining: 57.1s\n",
            "544:\ttotal: 12.7s\tremaining: 57s\n",
            "545:\ttotal: 12.7s\tremaining: 57s\n",
            "546:\ttotal: 12.7s\tremaining: 57s\n",
            "547:\ttotal: 12.7s\tremaining: 57s\n",
            "548:\ttotal: 12.8s\tremaining: 56.9s\n",
            "549:\ttotal: 12.8s\tremaining: 56.9s\n",
            "550:\ttotal: 12.8s\tremaining: 56.8s\n",
            "551:\ttotal: 12.8s\tremaining: 56.9s\n",
            "552:\ttotal: 12.8s\tremaining: 56.8s\n",
            "553:\ttotal: 12.9s\tremaining: 56.8s\n",
            "554:\ttotal: 12.9s\tremaining: 56.7s\n",
            "555:\ttotal: 12.9s\tremaining: 56.7s\n",
            "556:\ttotal: 12.9s\tremaining: 56.7s\n",
            "557:\ttotal: 13s\tremaining: 56.7s\n",
            "558:\ttotal: 13s\tremaining: 56.6s\n",
            "559:\ttotal: 13s\tremaining: 56.6s\n",
            "560:\ttotal: 13s\tremaining: 56.6s\n",
            "561:\ttotal: 13s\tremaining: 56.6s\n",
            "562:\ttotal: 13.1s\tremaining: 56.5s\n",
            "563:\ttotal: 13.1s\tremaining: 56.6s\n",
            "564:\ttotal: 13.1s\tremaining: 56.6s\n",
            "565:\ttotal: 13.2s\tremaining: 56.6s\n",
            "566:\ttotal: 13.2s\tremaining: 56.5s\n",
            "567:\ttotal: 13.2s\tremaining: 56.5s\n",
            "568:\ttotal: 13.2s\tremaining: 56.5s\n",
            "569:\ttotal: 13.2s\tremaining: 56.5s\n",
            "570:\ttotal: 13.3s\tremaining: 56.5s\n",
            "571:\ttotal: 13.3s\tremaining: 56.5s\n",
            "572:\ttotal: 13.3s\tremaining: 56.5s\n",
            "573:\ttotal: 13.4s\tremaining: 56.5s\n",
            "574:\ttotal: 13.4s\tremaining: 56.5s\n",
            "575:\ttotal: 13.4s\tremaining: 56.5s\n",
            "576:\ttotal: 13.4s\tremaining: 56.4s\n",
            "577:\ttotal: 13.5s\tremaining: 56.4s\n",
            "578:\ttotal: 13.5s\tremaining: 56.4s\n",
            "579:\ttotal: 13.5s\tremaining: 56.4s\n",
            "580:\ttotal: 13.6s\tremaining: 56.4s\n",
            "581:\ttotal: 13.6s\tremaining: 56.4s\n",
            "582:\ttotal: 13.6s\tremaining: 56.3s\n",
            "583:\ttotal: 13.6s\tremaining: 56.3s\n",
            "584:\ttotal: 13.7s\tremaining: 56.4s\n",
            "585:\ttotal: 13.7s\tremaining: 56.3s\n",
            "586:\ttotal: 13.7s\tremaining: 56.3s\n",
            "587:\ttotal: 13.7s\tremaining: 56.3s\n",
            "588:\ttotal: 13.7s\tremaining: 56.3s\n",
            "589:\ttotal: 13.8s\tremaining: 56.2s\n",
            "590:\ttotal: 13.8s\tremaining: 56.2s\n",
            "591:\ttotal: 13.8s\tremaining: 56.2s\n",
            "592:\ttotal: 13.8s\tremaining: 56.2s\n",
            "593:\ttotal: 13.9s\tremaining: 56.2s\n",
            "594:\ttotal: 13.9s\tremaining: 56.1s\n",
            "595:\ttotal: 13.9s\tremaining: 56.1s\n",
            "596:\ttotal: 13.9s\tremaining: 56.1s\n",
            "597:\ttotal: 14s\tremaining: 56.1s\n",
            "598:\ttotal: 14s\tremaining: 56.1s\n",
            "599:\ttotal: 14s\tremaining: 56.1s\n",
            "600:\ttotal: 14s\tremaining: 56s\n",
            "601:\ttotal: 14.1s\tremaining: 56s\n",
            "602:\ttotal: 14.1s\tremaining: 56s\n",
            "603:\ttotal: 14.1s\tremaining: 55.9s\n",
            "604:\ttotal: 14.1s\tremaining: 55.9s\n",
            "605:\ttotal: 14.1s\tremaining: 55.9s\n",
            "606:\ttotal: 14.2s\tremaining: 55.9s\n",
            "607:\ttotal: 14.2s\tremaining: 55.9s\n",
            "608:\ttotal: 14.2s\tremaining: 55.9s\n",
            "609:\ttotal: 14.2s\tremaining: 55.8s\n",
            "610:\ttotal: 14.3s\tremaining: 55.8s\n",
            "611:\ttotal: 14.3s\tremaining: 55.8s\n",
            "612:\ttotal: 14.3s\tremaining: 55.8s\n",
            "613:\ttotal: 14.4s\tremaining: 55.8s\n",
            "614:\ttotal: 14.4s\tremaining: 55.8s\n",
            "615:\ttotal: 14.4s\tremaining: 55.8s\n",
            "616:\ttotal: 14.4s\tremaining: 55.7s\n",
            "617:\ttotal: 14.5s\tremaining: 55.7s\n",
            "618:\ttotal: 14.5s\tremaining: 55.7s\n",
            "619:\ttotal: 14.5s\tremaining: 55.7s\n",
            "620:\ttotal: 14.5s\tremaining: 55.6s\n",
            "621:\ttotal: 14.6s\tremaining: 55.7s\n",
            "622:\ttotal: 14.6s\tremaining: 55.7s\n",
            "623:\ttotal: 14.6s\tremaining: 55.6s\n",
            "624:\ttotal: 14.6s\tremaining: 55.6s\n",
            "625:\ttotal: 14.7s\tremaining: 55.6s\n",
            "626:\ttotal: 14.7s\tremaining: 55.6s\n",
            "627:\ttotal: 14.7s\tremaining: 55.6s\n",
            "628:\ttotal: 14.7s\tremaining: 55.6s\n",
            "629:\ttotal: 14.8s\tremaining: 55.6s\n",
            "630:\ttotal: 14.8s\tremaining: 55.6s\n",
            "631:\ttotal: 14.8s\tremaining: 55.6s\n",
            "632:\ttotal: 14.9s\tremaining: 55.6s\n",
            "633:\ttotal: 14.9s\tremaining: 55.6s\n",
            "634:\ttotal: 14.9s\tremaining: 55.6s\n",
            "635:\ttotal: 14.9s\tremaining: 55.5s\n",
            "636:\ttotal: 15s\tremaining: 55.5s\n",
            "637:\ttotal: 15s\tremaining: 55.6s\n",
            "638:\ttotal: 15s\tremaining: 55.6s\n",
            "639:\ttotal: 15.1s\tremaining: 55.6s\n",
            "640:\ttotal: 15.1s\tremaining: 55.6s\n",
            "641:\ttotal: 15.1s\tremaining: 55.5s\n",
            "642:\ttotal: 15.2s\tremaining: 55.6s\n",
            "643:\ttotal: 15.2s\tremaining: 55.6s\n",
            "644:\ttotal: 15.2s\tremaining: 55.6s\n",
            "645:\ttotal: 15.3s\tremaining: 55.6s\n",
            "646:\ttotal: 15.3s\tremaining: 55.5s\n",
            "647:\ttotal: 15.3s\tremaining: 55.5s\n",
            "648:\ttotal: 15.3s\tremaining: 55.5s\n",
            "649:\ttotal: 15.3s\tremaining: 55.5s\n",
            "650:\ttotal: 15.4s\tremaining: 55.4s\n",
            "651:\ttotal: 15.4s\tremaining: 55.4s\n",
            "652:\ttotal: 15.4s\tremaining: 55.4s\n",
            "653:\ttotal: 15.4s\tremaining: 55.3s\n",
            "654:\ttotal: 15.5s\tremaining: 55.3s\n",
            "655:\ttotal: 15.5s\tremaining: 55.3s\n",
            "656:\ttotal: 15.5s\tremaining: 55.3s\n",
            "657:\ttotal: 15.5s\tremaining: 55.3s\n",
            "658:\ttotal: 15.6s\tremaining: 55.3s\n",
            "659:\ttotal: 15.6s\tremaining: 55.3s\n",
            "660:\ttotal: 15.6s\tremaining: 55.2s\n",
            "661:\ttotal: 15.6s\tremaining: 55.2s\n",
            "662:\ttotal: 15.7s\tremaining: 55.2s\n",
            "663:\ttotal: 15.7s\tremaining: 55.2s\n",
            "664:\ttotal: 15.7s\tremaining: 55.2s\n",
            "665:\ttotal: 15.7s\tremaining: 55.1s\n",
            "666:\ttotal: 15.8s\tremaining: 55.1s\n",
            "667:\ttotal: 15.8s\tremaining: 55.1s\n",
            "668:\ttotal: 15.8s\tremaining: 55s\n",
            "669:\ttotal: 15.8s\tremaining: 55s\n",
            "670:\ttotal: 15.8s\tremaining: 54.9s\n",
            "671:\ttotal: 15.9s\tremaining: 55s\n",
            "672:\ttotal: 15.9s\tremaining: 55s\n",
            "673:\ttotal: 15.9s\tremaining: 55s\n",
            "674:\ttotal: 15.9s\tremaining: 54.9s\n",
            "675:\ttotal: 16s\tremaining: 54.9s\n",
            "676:\ttotal: 16s\tremaining: 54.8s\n",
            "677:\ttotal: 16s\tremaining: 54.8s\n",
            "678:\ttotal: 16s\tremaining: 54.8s\n",
            "679:\ttotal: 16s\tremaining: 54.7s\n",
            "680:\ttotal: 16.1s\tremaining: 54.7s\n",
            "681:\ttotal: 16.1s\tremaining: 54.7s\n",
            "682:\ttotal: 16.1s\tremaining: 54.7s\n",
            "683:\ttotal: 16.1s\tremaining: 54.7s\n",
            "684:\ttotal: 16.2s\tremaining: 54.6s\n",
            "685:\ttotal: 16.2s\tremaining: 54.6s\n",
            "686:\ttotal: 16.2s\tremaining: 54.6s\n",
            "687:\ttotal: 16.2s\tremaining: 54.6s\n",
            "688:\ttotal: 16.3s\tremaining: 54.5s\n",
            "689:\ttotal: 16.3s\tremaining: 54.5s\n",
            "690:\ttotal: 16.3s\tremaining: 54.5s\n",
            "691:\ttotal: 16.3s\tremaining: 54.5s\n",
            "692:\ttotal: 16.4s\tremaining: 54.4s\n",
            "693:\ttotal: 16.4s\tremaining: 54.4s\n",
            "694:\ttotal: 16.4s\tremaining: 54.4s\n",
            "695:\ttotal: 16.4s\tremaining: 54.3s\n",
            "696:\ttotal: 16.4s\tremaining: 54.3s\n",
            "697:\ttotal: 16.4s\tremaining: 54.3s\n",
            "698:\ttotal: 16.5s\tremaining: 54.2s\n",
            "699:\ttotal: 16.5s\tremaining: 54.2s\n",
            "700:\ttotal: 16.5s\tremaining: 54.2s\n",
            "701:\ttotal: 16.5s\tremaining: 54.2s\n",
            "702:\ttotal: 16.6s\tremaining: 54.2s\n",
            "703:\ttotal: 16.6s\tremaining: 54.1s\n",
            "704:\ttotal: 16.6s\tremaining: 54.1s\n",
            "705:\ttotal: 16.6s\tremaining: 54s\n",
            "706:\ttotal: 16.7s\tremaining: 54s\n",
            "707:\ttotal: 16.7s\tremaining: 54s\n",
            "708:\ttotal: 16.7s\tremaining: 53.9s\n",
            "709:\ttotal: 16.7s\tremaining: 53.9s\n",
            "710:\ttotal: 16.7s\tremaining: 53.9s\n",
            "711:\ttotal: 16.8s\tremaining: 53.9s\n",
            "712:\ttotal: 16.8s\tremaining: 53.9s\n",
            "713:\ttotal: 16.8s\tremaining: 53.8s\n",
            "714:\ttotal: 16.8s\tremaining: 53.8s\n",
            "715:\ttotal: 16.9s\tremaining: 53.8s\n",
            "716:\ttotal: 16.9s\tremaining: 53.8s\n",
            "717:\ttotal: 16.9s\tremaining: 53.8s\n",
            "718:\ttotal: 16.9s\tremaining: 53.7s\n",
            "719:\ttotal: 17s\tremaining: 53.7s\n",
            "720:\ttotal: 17s\tremaining: 53.7s\n",
            "721:\ttotal: 17s\tremaining: 53.6s\n",
            "722:\ttotal: 17s\tremaining: 53.6s\n",
            "723:\ttotal: 17s\tremaining: 53.6s\n",
            "724:\ttotal: 17.1s\tremaining: 53.5s\n",
            "725:\ttotal: 17.1s\tremaining: 53.5s\n",
            "726:\ttotal: 17.1s\tremaining: 53.5s\n",
            "727:\ttotal: 17.1s\tremaining: 53.5s\n",
            "728:\ttotal: 17.2s\tremaining: 53.5s\n",
            "729:\ttotal: 17.2s\tremaining: 53.4s\n",
            "730:\ttotal: 17.2s\tremaining: 53.4s\n",
            "731:\ttotal: 17.2s\tremaining: 53.4s\n",
            "732:\ttotal: 17.3s\tremaining: 53.4s\n",
            "733:\ttotal: 17.3s\tremaining: 53.4s\n",
            "734:\ttotal: 17.3s\tremaining: 53.3s\n",
            "735:\ttotal: 17.3s\tremaining: 53.3s\n",
            "736:\ttotal: 17.4s\tremaining: 53.3s\n",
            "737:\ttotal: 17.4s\tremaining: 53.3s\n",
            "738:\ttotal: 17.4s\tremaining: 53.2s\n",
            "739:\ttotal: 17.4s\tremaining: 53.2s\n",
            "740:\ttotal: 17.5s\tremaining: 53.2s\n",
            "741:\ttotal: 17.5s\tremaining: 53.2s\n",
            "742:\ttotal: 17.5s\tremaining: 53.2s\n",
            "743:\ttotal: 17.5s\tremaining: 53.2s\n",
            "744:\ttotal: 17.6s\tremaining: 53.2s\n",
            "745:\ttotal: 17.6s\tremaining: 53.1s\n",
            "746:\ttotal: 17.6s\tremaining: 53.1s\n",
            "747:\ttotal: 17.7s\tremaining: 53.1s\n",
            "748:\ttotal: 17.7s\tremaining: 53.2s\n",
            "749:\ttotal: 17.7s\tremaining: 53.1s\n",
            "750:\ttotal: 17.7s\tremaining: 53.1s\n",
            "751:\ttotal: 17.8s\tremaining: 53.1s\n",
            "752:\ttotal: 17.8s\tremaining: 53.1s\n",
            "753:\ttotal: 17.8s\tremaining: 53.1s\n",
            "754:\ttotal: 17.9s\tremaining: 53.1s\n",
            "755:\ttotal: 17.9s\tremaining: 53.1s\n",
            "756:\ttotal: 17.9s\tremaining: 53s\n",
            "757:\ttotal: 17.9s\tremaining: 53s\n",
            "758:\ttotal: 17.9s\tremaining: 53s\n",
            "759:\ttotal: 18s\tremaining: 52.9s\n",
            "760:\ttotal: 18s\tremaining: 52.9s\n",
            "761:\ttotal: 18s\tremaining: 52.9s\n",
            "762:\ttotal: 18s\tremaining: 52.9s\n",
            "763:\ttotal: 18.1s\tremaining: 52.9s\n",
            "764:\ttotal: 18.1s\tremaining: 52.9s\n",
            "765:\ttotal: 18.1s\tremaining: 52.8s\n",
            "766:\ttotal: 18.1s\tremaining: 52.8s\n",
            "767:\ttotal: 18.2s\tremaining: 52.8s\n",
            "768:\ttotal: 18.2s\tremaining: 52.8s\n",
            "769:\ttotal: 18.2s\tremaining: 52.8s\n",
            "770:\ttotal: 18.3s\tremaining: 52.8s\n",
            "771:\ttotal: 18.3s\tremaining: 52.8s\n",
            "772:\ttotal: 18.3s\tremaining: 52.8s\n",
            "773:\ttotal: 18.3s\tremaining: 52.7s\n",
            "774:\ttotal: 18.4s\tremaining: 52.7s\n",
            "775:\ttotal: 18.4s\tremaining: 52.7s\n",
            "776:\ttotal: 18.4s\tremaining: 52.7s\n",
            "777:\ttotal: 18.4s\tremaining: 52.7s\n",
            "778:\ttotal: 18.5s\tremaining: 52.6s\n",
            "779:\ttotal: 18.5s\tremaining: 52.6s\n",
            "780:\ttotal: 18.5s\tremaining: 52.6s\n",
            "781:\ttotal: 18.5s\tremaining: 52.6s\n",
            "782:\ttotal: 18.6s\tremaining: 52.5s\n",
            "783:\ttotal: 18.6s\tremaining: 52.5s\n",
            "784:\ttotal: 18.6s\tremaining: 52.5s\n",
            "785:\ttotal: 18.6s\tremaining: 52.5s\n",
            "786:\ttotal: 18.7s\tremaining: 52.5s\n",
            "787:\ttotal: 18.7s\tremaining: 52.4s\n",
            "788:\ttotal: 18.7s\tremaining: 52.4s\n",
            "789:\ttotal: 18.7s\tremaining: 52.4s\n",
            "790:\ttotal: 18.8s\tremaining: 52.4s\n",
            "791:\ttotal: 18.8s\tremaining: 52.4s\n",
            "792:\ttotal: 18.8s\tremaining: 52.4s\n",
            "793:\ttotal: 18.8s\tremaining: 52.3s\n",
            "794:\ttotal: 18.9s\tremaining: 52.3s\n",
            "795:\ttotal: 18.9s\tremaining: 52.3s\n",
            "796:\ttotal: 18.9s\tremaining: 52.3s\n",
            "797:\ttotal: 18.9s\tremaining: 52.2s\n",
            "798:\ttotal: 19s\tremaining: 52.3s\n",
            "799:\ttotal: 19s\tremaining: 52.3s\n",
            "800:\ttotal: 19s\tremaining: 52.3s\n",
            "801:\ttotal: 19.1s\tremaining: 52.3s\n",
            "802:\ttotal: 19.1s\tremaining: 52.3s\n",
            "803:\ttotal: 19.1s\tremaining: 52.2s\n",
            "804:\ttotal: 19.1s\tremaining: 52.2s\n",
            "805:\ttotal: 19.2s\tremaining: 52.2s\n",
            "806:\ttotal: 19.2s\tremaining: 52.1s\n",
            "807:\ttotal: 19.2s\tremaining: 52.1s\n",
            "808:\ttotal: 19.2s\tremaining: 52.1s\n",
            "809:\ttotal: 19.3s\tremaining: 52.1s\n",
            "810:\ttotal: 19.3s\tremaining: 52.1s\n",
            "811:\ttotal: 19.3s\tremaining: 52.1s\n",
            "812:\ttotal: 19.4s\tremaining: 52.1s\n",
            "813:\ttotal: 19.4s\tremaining: 52.1s\n",
            "814:\ttotal: 19.4s\tremaining: 52.1s\n",
            "815:\ttotal: 19.5s\tremaining: 52.1s\n",
            "816:\ttotal: 19.5s\tremaining: 52.1s\n",
            "817:\ttotal: 19.5s\tremaining: 52.1s\n",
            "818:\ttotal: 19.6s\tremaining: 52.1s\n",
            "819:\ttotal: 19.6s\tremaining: 52.1s\n",
            "820:\ttotal: 19.6s\tremaining: 52.1s\n",
            "821:\ttotal: 19.6s\tremaining: 52s\n",
            "822:\ttotal: 19.7s\tremaining: 52s\n",
            "823:\ttotal: 19.7s\tremaining: 52s\n",
            "824:\ttotal: 19.7s\tremaining: 52s\n",
            "825:\ttotal: 19.7s\tremaining: 52s\n",
            "826:\ttotal: 19.8s\tremaining: 52s\n",
            "827:\ttotal: 19.8s\tremaining: 51.9s\n",
            "828:\ttotal: 19.8s\tremaining: 51.9s\n",
            "829:\ttotal: 19.9s\tremaining: 51.9s\n",
            "830:\ttotal: 19.9s\tremaining: 51.9s\n",
            "831:\ttotal: 19.9s\tremaining: 51.9s\n",
            "832:\ttotal: 19.9s\tremaining: 51.9s\n",
            "833:\ttotal: 20s\tremaining: 51.9s\n",
            "834:\ttotal: 20s\tremaining: 51.8s\n",
            "835:\ttotal: 20s\tremaining: 51.8s\n",
            "836:\ttotal: 20.1s\tremaining: 51.8s\n",
            "837:\ttotal: 20.1s\tremaining: 51.8s\n",
            "838:\ttotal: 20.1s\tremaining: 51.8s\n",
            "839:\ttotal: 20.1s\tremaining: 51.8s\n",
            "840:\ttotal: 20.2s\tremaining: 51.8s\n",
            "841:\ttotal: 20.2s\tremaining: 51.8s\n",
            "842:\ttotal: 20.2s\tremaining: 51.7s\n",
            "843:\ttotal: 20.2s\tremaining: 51.7s\n",
            "844:\ttotal: 20.3s\tremaining: 51.7s\n",
            "845:\ttotal: 20.3s\tremaining: 51.7s\n",
            "846:\ttotal: 20.3s\tremaining: 51.7s\n",
            "847:\ttotal: 20.4s\tremaining: 51.7s\n",
            "848:\ttotal: 20.4s\tremaining: 51.7s\n",
            "849:\ttotal: 20.4s\tremaining: 51.7s\n",
            "850:\ttotal: 20.5s\tremaining: 51.7s\n",
            "851:\ttotal: 20.5s\tremaining: 51.7s\n",
            "852:\ttotal: 20.5s\tremaining: 51.6s\n",
            "853:\ttotal: 20.5s\tremaining: 51.6s\n",
            "854:\ttotal: 20.6s\tremaining: 51.6s\n",
            "855:\ttotal: 20.6s\tremaining: 51.6s\n",
            "856:\ttotal: 20.6s\tremaining: 51.6s\n",
            "857:\ttotal: 20.7s\tremaining: 51.6s\n",
            "858:\ttotal: 20.7s\tremaining: 51.5s\n",
            "859:\ttotal: 20.7s\tremaining: 51.5s\n",
            "860:\ttotal: 20.7s\tremaining: 51.5s\n",
            "861:\ttotal: 20.8s\tremaining: 51.5s\n",
            "862:\ttotal: 20.8s\tremaining: 51.5s\n",
            "863:\ttotal: 20.8s\tremaining: 51.5s\n",
            "864:\ttotal: 20.9s\tremaining: 51.5s\n",
            "865:\ttotal: 20.9s\tremaining: 51.5s\n",
            "866:\ttotal: 20.9s\tremaining: 51.5s\n",
            "867:\ttotal: 21s\tremaining: 51.5s\n",
            "868:\ttotal: 21s\tremaining: 51.4s\n",
            "869:\ttotal: 21s\tremaining: 51.4s\n",
            "870:\ttotal: 21s\tremaining: 51.4s\n",
            "871:\ttotal: 21.1s\tremaining: 51.4s\n",
            "872:\ttotal: 21.1s\tremaining: 51.3s\n",
            "873:\ttotal: 21.1s\tremaining: 51.3s\n",
            "874:\ttotal: 21.1s\tremaining: 51.3s\n",
            "875:\ttotal: 21.1s\tremaining: 51.3s\n",
            "876:\ttotal: 21.2s\tremaining: 51.3s\n",
            "877:\ttotal: 21.2s\tremaining: 51.2s\n",
            "878:\ttotal: 21.2s\tremaining: 51.2s\n",
            "879:\ttotal: 21.3s\tremaining: 51.2s\n",
            "880:\ttotal: 21.3s\tremaining: 51.2s\n",
            "881:\ttotal: 21.3s\tremaining: 51.2s\n",
            "882:\ttotal: 21.3s\tremaining: 51.1s\n",
            "883:\ttotal: 21.4s\tremaining: 51.1s\n",
            "884:\ttotal: 21.4s\tremaining: 51.1s\n",
            "885:\ttotal: 21.4s\tremaining: 51.1s\n",
            "886:\ttotal: 21.5s\tremaining: 51.1s\n",
            "887:\ttotal: 21.5s\tremaining: 51.1s\n",
            "888:\ttotal: 21.5s\tremaining: 51.1s\n",
            "889:\ttotal: 21.5s\tremaining: 51.1s\n",
            "890:\ttotal: 21.6s\tremaining: 51.1s\n",
            "891:\ttotal: 21.6s\tremaining: 51.1s\n",
            "892:\ttotal: 21.6s\tremaining: 51s\n",
            "893:\ttotal: 21.6s\tremaining: 51s\n",
            "894:\ttotal: 21.7s\tremaining: 51s\n",
            "895:\ttotal: 21.7s\tremaining: 50.9s\n",
            "896:\ttotal: 21.7s\tremaining: 50.9s\n",
            "897:\ttotal: 21.7s\tremaining: 50.9s\n",
            "898:\ttotal: 21.8s\tremaining: 50.8s\n",
            "899:\ttotal: 21.8s\tremaining: 50.8s\n",
            "900:\ttotal: 21.8s\tremaining: 50.8s\n",
            "901:\ttotal: 21.8s\tremaining: 50.8s\n",
            "902:\ttotal: 21.9s\tremaining: 50.8s\n",
            "903:\ttotal: 21.9s\tremaining: 50.7s\n",
            "904:\ttotal: 21.9s\tremaining: 50.7s\n",
            "905:\ttotal: 21.9s\tremaining: 50.7s\n",
            "906:\ttotal: 22s\tremaining: 50.7s\n",
            "907:\ttotal: 22s\tremaining: 50.7s\n",
            "908:\ttotal: 22s\tremaining: 50.7s\n",
            "909:\ttotal: 22.1s\tremaining: 50.6s\n",
            "910:\ttotal: 22.1s\tremaining: 50.6s\n",
            "911:\ttotal: 22.1s\tremaining: 50.6s\n",
            "912:\ttotal: 22.1s\tremaining: 50.6s\n",
            "913:\ttotal: 22.1s\tremaining: 50.5s\n",
            "914:\ttotal: 22.2s\tremaining: 50.5s\n",
            "915:\ttotal: 22.2s\tremaining: 50.5s\n",
            "916:\ttotal: 22.2s\tremaining: 50.5s\n",
            "917:\ttotal: 22.3s\tremaining: 50.5s\n",
            "918:\ttotal: 22.3s\tremaining: 50.5s\n",
            "919:\ttotal: 22.3s\tremaining: 50.5s\n",
            "920:\ttotal: 22.3s\tremaining: 50.4s\n",
            "921:\ttotal: 22.4s\tremaining: 50.4s\n",
            "922:\ttotal: 22.4s\tremaining: 50.4s\n",
            "923:\ttotal: 22.4s\tremaining: 50.4s\n",
            "924:\ttotal: 22.4s\tremaining: 50.4s\n",
            "925:\ttotal: 22.5s\tremaining: 50.3s\n",
            "926:\ttotal: 22.5s\tremaining: 50.3s\n",
            "927:\ttotal: 22.5s\tremaining: 50.3s\n",
            "928:\ttotal: 22.5s\tremaining: 50.2s\n",
            "929:\ttotal: 22.6s\tremaining: 50.2s\n",
            "930:\ttotal: 22.6s\tremaining: 50.2s\n",
            "931:\ttotal: 22.6s\tremaining: 50.2s\n",
            "932:\ttotal: 22.6s\tremaining: 50.1s\n",
            "933:\ttotal: 22.7s\tremaining: 50.1s\n",
            "934:\ttotal: 22.7s\tremaining: 50.1s\n",
            "935:\ttotal: 22.7s\tremaining: 50.1s\n",
            "936:\ttotal: 22.7s\tremaining: 50s\n",
            "937:\ttotal: 22.8s\tremaining: 50s\n",
            "938:\ttotal: 22.8s\tremaining: 50s\n",
            "939:\ttotal: 22.8s\tremaining: 50s\n",
            "940:\ttotal: 22.8s\tremaining: 49.9s\n",
            "941:\ttotal: 22.8s\tremaining: 49.9s\n",
            "942:\ttotal: 22.9s\tremaining: 49.9s\n",
            "943:\ttotal: 22.9s\tremaining: 49.8s\n",
            "944:\ttotal: 22.9s\tremaining: 49.8s\n",
            "945:\ttotal: 22.9s\tremaining: 49.8s\n",
            "946:\ttotal: 23s\tremaining: 49.8s\n",
            "947:\ttotal: 23s\tremaining: 49.8s\n",
            "948:\ttotal: 23s\tremaining: 49.8s\n",
            "949:\ttotal: 23s\tremaining: 49.7s\n",
            "950:\ttotal: 23.1s\tremaining: 49.7s\n",
            "951:\ttotal: 23.1s\tremaining: 49.7s\n",
            "952:\ttotal: 23.1s\tremaining: 49.7s\n",
            "953:\ttotal: 23.2s\tremaining: 49.7s\n",
            "954:\ttotal: 23.2s\tremaining: 49.7s\n",
            "955:\ttotal: 23.2s\tremaining: 49.6s\n",
            "956:\ttotal: 23.2s\tremaining: 49.6s\n",
            "957:\ttotal: 23.3s\tremaining: 49.6s\n",
            "958:\ttotal: 23.3s\tremaining: 49.5s\n",
            "959:\ttotal: 23.3s\tremaining: 49.5s\n",
            "960:\ttotal: 23.3s\tremaining: 49.5s\n",
            "961:\ttotal: 23.4s\tremaining: 49.5s\n",
            "962:\ttotal: 23.4s\tremaining: 49.4s\n",
            "963:\ttotal: 23.4s\tremaining: 49.4s\n",
            "964:\ttotal: 23.4s\tremaining: 49.4s\n",
            "965:\ttotal: 23.5s\tremaining: 49.4s\n",
            "966:\ttotal: 23.5s\tremaining: 49.4s\n",
            "967:\ttotal: 23.5s\tremaining: 49.4s\n",
            "968:\ttotal: 23.5s\tremaining: 49.3s\n",
            "969:\ttotal: 23.6s\tremaining: 49.3s\n",
            "970:\ttotal: 23.6s\tremaining: 49.3s\n",
            "971:\ttotal: 23.6s\tremaining: 49.3s\n",
            "972:\ttotal: 23.7s\tremaining: 49.3s\n",
            "973:\ttotal: 23.7s\tremaining: 49.2s\n",
            "974:\ttotal: 23.7s\tremaining: 49.2s\n",
            "975:\ttotal: 23.7s\tremaining: 49.2s\n",
            "976:\ttotal: 23.8s\tremaining: 49.2s\n",
            "977:\ttotal: 23.8s\tremaining: 49.2s\n",
            "978:\ttotal: 23.8s\tremaining: 49.2s\n",
            "979:\ttotal: 23.8s\tremaining: 49.1s\n",
            "980:\ttotal: 23.9s\tremaining: 49.1s\n",
            "981:\ttotal: 23.9s\tremaining: 49.1s\n",
            "982:\ttotal: 23.9s\tremaining: 49.1s\n",
            "983:\ttotal: 23.9s\tremaining: 49.1s\n",
            "984:\ttotal: 24s\tremaining: 49s\n",
            "985:\ttotal: 24s\tremaining: 49s\n",
            "986:\ttotal: 24s\tremaining: 49s\n",
            "987:\ttotal: 24s\tremaining: 49s\n",
            "988:\ttotal: 24.1s\tremaining: 49s\n",
            "989:\ttotal: 24.1s\tremaining: 48.9s\n",
            "990:\ttotal: 24.1s\tremaining: 48.9s\n",
            "991:\ttotal: 24.2s\tremaining: 48.9s\n",
            "992:\ttotal: 24.2s\tremaining: 48.9s\n",
            "993:\ttotal: 24.2s\tremaining: 48.9s\n",
            "994:\ttotal: 24.3s\tremaining: 48.9s\n",
            "995:\ttotal: 24.3s\tremaining: 48.9s\n",
            "996:\ttotal: 24.3s\tremaining: 48.8s\n",
            "997:\ttotal: 24.3s\tremaining: 48.8s\n",
            "998:\ttotal: 24.4s\tremaining: 48.8s\n",
            "999:\ttotal: 24.4s\tremaining: 48.8s\n",
            "1000:\ttotal: 24.4s\tremaining: 48.8s\n",
            "1001:\ttotal: 24.5s\tremaining: 48.8s\n",
            "1002:\ttotal: 24.5s\tremaining: 48.8s\n",
            "1003:\ttotal: 24.5s\tremaining: 48.7s\n",
            "1004:\ttotal: 24.5s\tremaining: 48.7s\n",
            "1005:\ttotal: 24.6s\tremaining: 48.7s\n",
            "1006:\ttotal: 24.6s\tremaining: 48.7s\n",
            "1007:\ttotal: 24.6s\tremaining: 48.6s\n",
            "1008:\ttotal: 24.6s\tremaining: 48.6s\n",
            "1009:\ttotal: 24.7s\tremaining: 48.6s\n",
            "1010:\ttotal: 24.7s\tremaining: 48.6s\n",
            "1011:\ttotal: 24.7s\tremaining: 48.6s\n",
            "1012:\ttotal: 24.8s\tremaining: 48.6s\n",
            "1013:\ttotal: 24.8s\tremaining: 48.5s\n",
            "1014:\ttotal: 24.8s\tremaining: 48.5s\n",
            "1015:\ttotal: 24.8s\tremaining: 48.5s\n",
            "1016:\ttotal: 24.9s\tremaining: 48.5s\n",
            "1017:\ttotal: 24.9s\tremaining: 48.4s\n",
            "1018:\ttotal: 24.9s\tremaining: 48.4s\n",
            "1019:\ttotal: 24.9s\tremaining: 48.4s\n",
            "1020:\ttotal: 25s\tremaining: 48.4s\n",
            "1021:\ttotal: 25s\tremaining: 48.4s\n",
            "1022:\ttotal: 25s\tremaining: 48.3s\n",
            "1023:\ttotal: 25s\tremaining: 48.3s\n",
            "1024:\ttotal: 25.1s\tremaining: 48.3s\n",
            "1025:\ttotal: 25.1s\tremaining: 48.3s\n",
            "1026:\ttotal: 25.1s\tremaining: 48.2s\n",
            "1027:\ttotal: 25.1s\tremaining: 48.2s\n",
            "1028:\ttotal: 25.1s\tremaining: 48.2s\n",
            "1029:\ttotal: 25.2s\tremaining: 48.1s\n",
            "1030:\ttotal: 25.2s\tremaining: 48.1s\n",
            "1031:\ttotal: 25.2s\tremaining: 48.1s\n",
            "1032:\ttotal: 25.2s\tremaining: 48.1s\n",
            "1033:\ttotal: 25.3s\tremaining: 48.1s\n",
            "1034:\ttotal: 25.3s\tremaining: 48.1s\n",
            "1035:\ttotal: 25.3s\tremaining: 48s\n",
            "1036:\ttotal: 25.4s\tremaining: 48s\n",
            "1037:\ttotal: 25.4s\tremaining: 48s\n",
            "1038:\ttotal: 25.4s\tremaining: 48s\n",
            "1039:\ttotal: 25.5s\tremaining: 48s\n",
            "1040:\ttotal: 25.5s\tremaining: 48s\n",
            "1041:\ttotal: 25.5s\tremaining: 48s\n",
            "1042:\ttotal: 25.6s\tremaining: 48s\n",
            "1043:\ttotal: 25.6s\tremaining: 48s\n",
            "1044:\ttotal: 25.6s\tremaining: 47.9s\n",
            "1045:\ttotal: 25.7s\tremaining: 47.9s\n",
            "1046:\ttotal: 25.7s\tremaining: 47.9s\n",
            "1047:\ttotal: 25.7s\tremaining: 47.9s\n",
            "1048:\ttotal: 25.7s\tremaining: 47.9s\n",
            "1049:\ttotal: 25.8s\tremaining: 47.9s\n",
            "1050:\ttotal: 25.8s\tremaining: 47.9s\n",
            "1051:\ttotal: 25.8s\tremaining: 47.8s\n",
            "1052:\ttotal: 25.9s\tremaining: 47.8s\n",
            "1053:\ttotal: 25.9s\tremaining: 47.8s\n",
            "1054:\ttotal: 25.9s\tremaining: 47.8s\n",
            "1055:\ttotal: 26s\tremaining: 47.8s\n",
            "1056:\ttotal: 26s\tremaining: 47.8s\n",
            "1057:\ttotal: 26s\tremaining: 47.7s\n",
            "1058:\ttotal: 26s\tremaining: 47.7s\n",
            "1059:\ttotal: 26.1s\tremaining: 47.7s\n",
            "1060:\ttotal: 26.1s\tremaining: 47.7s\n",
            "1061:\ttotal: 26.1s\tremaining: 47.6s\n",
            "1062:\ttotal: 26.1s\tremaining: 47.6s\n",
            "1063:\ttotal: 26.2s\tremaining: 47.6s\n",
            "1064:\ttotal: 26.2s\tremaining: 47.6s\n",
            "1065:\ttotal: 26.2s\tremaining: 47.5s\n",
            "1066:\ttotal: 26.2s\tremaining: 47.5s\n",
            "1067:\ttotal: 26.3s\tremaining: 47.5s\n",
            "1068:\ttotal: 26.3s\tremaining: 47.5s\n",
            "1069:\ttotal: 26.3s\tremaining: 47.5s\n",
            "1070:\ttotal: 26.3s\tremaining: 47.5s\n",
            "1071:\ttotal: 26.4s\tremaining: 47.5s\n",
            "1072:\ttotal: 26.4s\tremaining: 47.4s\n",
            "1073:\ttotal: 26.4s\tremaining: 47.4s\n",
            "1074:\ttotal: 26.5s\tremaining: 47.4s\n",
            "1075:\ttotal: 26.5s\tremaining: 47.4s\n",
            "1076:\ttotal: 26.5s\tremaining: 47.3s\n",
            "1077:\ttotal: 26.5s\tremaining: 47.3s\n",
            "1078:\ttotal: 26.6s\tremaining: 47.3s\n",
            "1079:\ttotal: 26.6s\tremaining: 47.3s\n",
            "1080:\ttotal: 26.6s\tremaining: 47.3s\n",
            "1081:\ttotal: 26.7s\tremaining: 47.3s\n",
            "1082:\ttotal: 26.7s\tremaining: 47.2s\n",
            "1083:\ttotal: 26.7s\tremaining: 47.2s\n",
            "1084:\ttotal: 26.8s\tremaining: 47.2s\n",
            "1085:\ttotal: 26.8s\tremaining: 47.2s\n",
            "1086:\ttotal: 26.8s\tremaining: 47.2s\n",
            "1087:\ttotal: 26.8s\tremaining: 47.2s\n",
            "1088:\ttotal: 26.9s\tremaining: 47.1s\n",
            "1089:\ttotal: 26.9s\tremaining: 47.1s\n",
            "1090:\ttotal: 26.9s\tremaining: 47.1s\n",
            "1091:\ttotal: 27s\tremaining: 47.1s\n",
            "1092:\ttotal: 27s\tremaining: 47.1s\n",
            "1093:\ttotal: 27s\tremaining: 47s\n",
            "1094:\ttotal: 27s\tremaining: 47s\n",
            "1095:\ttotal: 27s\tremaining: 47s\n",
            "1096:\ttotal: 27.1s\tremaining: 46.9s\n",
            "1097:\ttotal: 27.1s\tremaining: 46.9s\n",
            "1098:\ttotal: 27.1s\tremaining: 46.9s\n",
            "1099:\ttotal: 27.2s\tremaining: 46.9s\n",
            "1100:\ttotal: 27.2s\tremaining: 46.9s\n",
            "1101:\ttotal: 27.2s\tremaining: 46.9s\n",
            "1102:\ttotal: 27.2s\tremaining: 46.8s\n",
            "1103:\ttotal: 27.3s\tremaining: 46.8s\n",
            "1104:\ttotal: 27.3s\tremaining: 46.8s\n",
            "1105:\ttotal: 27.3s\tremaining: 46.8s\n",
            "1106:\ttotal: 27.4s\tremaining: 46.8s\n",
            "1107:\ttotal: 27.4s\tremaining: 46.8s\n",
            "1108:\ttotal: 27.4s\tremaining: 46.8s\n",
            "1109:\ttotal: 27.5s\tremaining: 46.7s\n",
            "1110:\ttotal: 27.5s\tremaining: 46.7s\n",
            "1111:\ttotal: 27.5s\tremaining: 46.7s\n",
            "1112:\ttotal: 27.5s\tremaining: 46.7s\n",
            "1113:\ttotal: 27.6s\tremaining: 46.7s\n",
            "1114:\ttotal: 27.6s\tremaining: 46.7s\n",
            "1115:\ttotal: 27.6s\tremaining: 46.6s\n",
            "1116:\ttotal: 27.7s\tremaining: 46.6s\n",
            "1117:\ttotal: 27.7s\tremaining: 46.6s\n",
            "1118:\ttotal: 27.7s\tremaining: 46.6s\n",
            "1119:\ttotal: 27.7s\tremaining: 46.6s\n",
            "1120:\ttotal: 27.8s\tremaining: 46.6s\n",
            "1121:\ttotal: 27.8s\tremaining: 46.5s\n",
            "1122:\ttotal: 27.8s\tremaining: 46.5s\n",
            "1123:\ttotal: 27.9s\tremaining: 46.5s\n",
            "1124:\ttotal: 27.9s\tremaining: 46.5s\n",
            "1125:\ttotal: 27.9s\tremaining: 46.5s\n",
            "1126:\ttotal: 28s\tremaining: 46.5s\n",
            "1127:\ttotal: 28s\tremaining: 46.4s\n",
            "1128:\ttotal: 28s\tremaining: 46.4s\n",
            "1129:\ttotal: 28s\tremaining: 46.4s\n",
            "1130:\ttotal: 28.1s\tremaining: 46.4s\n",
            "1131:\ttotal: 28.1s\tremaining: 46.3s\n",
            "1132:\ttotal: 28.1s\tremaining: 46.3s\n",
            "1133:\ttotal: 28.1s\tremaining: 46.3s\n",
            "1134:\ttotal: 28.1s\tremaining: 46.2s\n",
            "1135:\ttotal: 28.2s\tremaining: 46.2s\n",
            "1136:\ttotal: 28.2s\tremaining: 46.2s\n",
            "1137:\ttotal: 28.2s\tremaining: 46.2s\n",
            "1138:\ttotal: 28.3s\tremaining: 46.2s\n",
            "1139:\ttotal: 28.3s\tremaining: 46.1s\n",
            "1140:\ttotal: 28.3s\tremaining: 46.1s\n",
            "1141:\ttotal: 28.3s\tremaining: 46.1s\n",
            "1142:\ttotal: 28.4s\tremaining: 46.1s\n",
            "1143:\ttotal: 28.4s\tremaining: 46s\n",
            "1144:\ttotal: 28.4s\tremaining: 46s\n",
            "1145:\ttotal: 28.4s\tremaining: 46s\n",
            "1146:\ttotal: 28.5s\tremaining: 46s\n",
            "1147:\ttotal: 28.5s\tremaining: 46s\n",
            "1148:\ttotal: 28.5s\tremaining: 46s\n",
            "1149:\ttotal: 28.6s\tremaining: 45.9s\n",
            "1150:\ttotal: 28.6s\tremaining: 45.9s\n",
            "1151:\ttotal: 28.6s\tremaining: 45.9s\n",
            "1152:\ttotal: 28.6s\tremaining: 45.9s\n",
            "1153:\ttotal: 28.7s\tremaining: 45.9s\n",
            "1154:\ttotal: 28.7s\tremaining: 45.8s\n",
            "1155:\ttotal: 28.7s\tremaining: 45.8s\n",
            "1156:\ttotal: 28.7s\tremaining: 45.8s\n",
            "1157:\ttotal: 28.8s\tremaining: 45.8s\n",
            "1158:\ttotal: 28.8s\tremaining: 45.7s\n",
            "1159:\ttotal: 28.8s\tremaining: 45.7s\n",
            "1160:\ttotal: 28.9s\tremaining: 45.7s\n",
            "1161:\ttotal: 28.9s\tremaining: 45.7s\n",
            "1162:\ttotal: 28.9s\tremaining: 45.7s\n",
            "1163:\ttotal: 29s\tremaining: 45.7s\n",
            "1164:\ttotal: 29s\tremaining: 45.7s\n",
            "1165:\ttotal: 29s\tremaining: 45.6s\n",
            "1166:\ttotal: 29s\tremaining: 45.6s\n",
            "1167:\ttotal: 29.1s\tremaining: 45.6s\n",
            "1168:\ttotal: 29.1s\tremaining: 45.6s\n",
            "1169:\ttotal: 29.1s\tremaining: 45.6s\n",
            "1170:\ttotal: 29.2s\tremaining: 45.6s\n",
            "1171:\ttotal: 29.2s\tremaining: 45.5s\n",
            "1172:\ttotal: 29.2s\tremaining: 45.5s\n",
            "1173:\ttotal: 29.2s\tremaining: 45.5s\n",
            "1174:\ttotal: 29.3s\tremaining: 45.5s\n",
            "1175:\ttotal: 29.3s\tremaining: 45.5s\n",
            "1176:\ttotal: 29.3s\tremaining: 45.4s\n",
            "1177:\ttotal: 29.3s\tremaining: 45.4s\n",
            "1178:\ttotal: 29.4s\tremaining: 45.4s\n",
            "1179:\ttotal: 29.4s\tremaining: 45.3s\n",
            "1180:\ttotal: 29.4s\tremaining: 45.3s\n",
            "1181:\ttotal: 29.4s\tremaining: 45.3s\n",
            "1182:\ttotal: 29.5s\tremaining: 45.2s\n",
            "1183:\ttotal: 29.5s\tremaining: 45.2s\n",
            "1184:\ttotal: 29.5s\tremaining: 45.2s\n",
            "1185:\ttotal: 29.5s\tremaining: 45.2s\n",
            "1186:\ttotal: 29.6s\tremaining: 45.1s\n",
            "1187:\ttotal: 29.6s\tremaining: 45.1s\n",
            "1188:\ttotal: 29.6s\tremaining: 45.1s\n",
            "1189:\ttotal: 29.6s\tremaining: 45.1s\n",
            "1190:\ttotal: 29.7s\tremaining: 45.1s\n",
            "1191:\ttotal: 29.7s\tremaining: 45s\n",
            "1192:\ttotal: 29.7s\tremaining: 45s\n",
            "1193:\ttotal: 29.7s\tremaining: 45s\n",
            "1194:\ttotal: 29.8s\tremaining: 45s\n",
            "1195:\ttotal: 29.8s\tremaining: 45s\n",
            "1196:\ttotal: 29.8s\tremaining: 44.9s\n",
            "1197:\ttotal: 29.9s\tremaining: 44.9s\n",
            "1198:\ttotal: 29.9s\tremaining: 44.9s\n",
            "1199:\ttotal: 29.9s\tremaining: 44.9s\n",
            "1200:\ttotal: 29.9s\tremaining: 44.9s\n",
            "1201:\ttotal: 30s\tremaining: 44.8s\n",
            "1202:\ttotal: 30s\tremaining: 44.8s\n",
            "1203:\ttotal: 30s\tremaining: 44.8s\n",
            "1204:\ttotal: 30s\tremaining: 44.8s\n",
            "1205:\ttotal: 30.1s\tremaining: 44.7s\n",
            "1206:\ttotal: 30.1s\tremaining: 44.7s\n",
            "1207:\ttotal: 30.1s\tremaining: 44.7s\n",
            "1208:\ttotal: 30.2s\tremaining: 44.7s\n",
            "1209:\ttotal: 30.2s\tremaining: 44.7s\n",
            "1210:\ttotal: 30.2s\tremaining: 44.6s\n",
            "1211:\ttotal: 30.2s\tremaining: 44.6s\n",
            "1212:\ttotal: 30.3s\tremaining: 44.6s\n",
            "1213:\ttotal: 30.3s\tremaining: 44.6s\n",
            "1214:\ttotal: 30.3s\tremaining: 44.6s\n",
            "1215:\ttotal: 30.4s\tremaining: 44.5s\n",
            "1216:\ttotal: 30.4s\tremaining: 44.5s\n",
            "1217:\ttotal: 30.4s\tremaining: 44.5s\n",
            "1218:\ttotal: 30.4s\tremaining: 44.5s\n",
            "1219:\ttotal: 30.5s\tremaining: 44.5s\n",
            "1220:\ttotal: 30.5s\tremaining: 44.4s\n",
            "1221:\ttotal: 30.5s\tremaining: 44.4s\n",
            "1222:\ttotal: 30.6s\tremaining: 44.4s\n",
            "1223:\ttotal: 30.6s\tremaining: 44.4s\n",
            "1224:\ttotal: 30.6s\tremaining: 44.4s\n",
            "1225:\ttotal: 30.6s\tremaining: 44.3s\n",
            "1226:\ttotal: 30.7s\tremaining: 44.3s\n",
            "1227:\ttotal: 30.7s\tremaining: 44.3s\n",
            "1228:\ttotal: 30.7s\tremaining: 44.3s\n",
            "1229:\ttotal: 30.7s\tremaining: 44.2s\n",
            "1230:\ttotal: 30.8s\tremaining: 44.2s\n",
            "1231:\ttotal: 30.8s\tremaining: 44.2s\n",
            "1232:\ttotal: 30.8s\tremaining: 44.2s\n",
            "1233:\ttotal: 30.8s\tremaining: 44.1s\n",
            "1234:\ttotal: 30.9s\tremaining: 44.1s\n",
            "1235:\ttotal: 30.9s\tremaining: 44.1s\n",
            "1236:\ttotal: 30.9s\tremaining: 44.1s\n",
            "1237:\ttotal: 31s\tremaining: 44.1s\n",
            "1238:\ttotal: 31s\tremaining: 44.1s\n",
            "1239:\ttotal: 31s\tremaining: 44s\n",
            "1240:\ttotal: 31.1s\tremaining: 44s\n",
            "1241:\ttotal: 31.1s\tremaining: 44s\n",
            "1242:\ttotal: 31.1s\tremaining: 43.9s\n",
            "1243:\ttotal: 31.1s\tremaining: 43.9s\n",
            "1244:\ttotal: 31.1s\tremaining: 43.9s\n",
            "1245:\ttotal: 31.2s\tremaining: 43.9s\n",
            "1246:\ttotal: 31.2s\tremaining: 43.9s\n",
            "1247:\ttotal: 31.2s\tremaining: 43.8s\n",
            "1248:\ttotal: 31.3s\tremaining: 43.8s\n",
            "1249:\ttotal: 31.3s\tremaining: 43.8s\n",
            "1250:\ttotal: 31.3s\tremaining: 43.8s\n",
            "1251:\ttotal: 31.3s\tremaining: 43.8s\n",
            "1252:\ttotal: 31.4s\tremaining: 43.7s\n",
            "1253:\ttotal: 31.4s\tremaining: 43.7s\n",
            "1254:\ttotal: 31.4s\tremaining: 43.7s\n",
            "1255:\ttotal: 31.5s\tremaining: 43.7s\n",
            "1256:\ttotal: 31.5s\tremaining: 43.6s\n",
            "1257:\ttotal: 31.5s\tremaining: 43.6s\n",
            "1258:\ttotal: 31.5s\tremaining: 43.6s\n",
            "1259:\ttotal: 31.6s\tremaining: 43.6s\n",
            "1260:\ttotal: 31.6s\tremaining: 43.5s\n",
            "1261:\ttotal: 31.6s\tremaining: 43.5s\n",
            "1262:\ttotal: 31.6s\tremaining: 43.5s\n",
            "1263:\ttotal: 31.7s\tremaining: 43.5s\n",
            "1264:\ttotal: 31.7s\tremaining: 43.5s\n",
            "1265:\ttotal: 31.7s\tremaining: 43.5s\n",
            "1266:\ttotal: 31.8s\tremaining: 43.5s\n",
            "1267:\ttotal: 31.8s\tremaining: 43.4s\n",
            "1268:\ttotal: 31.8s\tremaining: 43.4s\n",
            "1269:\ttotal: 31.9s\tremaining: 43.4s\n",
            "1270:\ttotal: 31.9s\tremaining: 43.4s\n",
            "1271:\ttotal: 31.9s\tremaining: 43.4s\n",
            "1272:\ttotal: 31.9s\tremaining: 43.3s\n",
            "1273:\ttotal: 32s\tremaining: 43.3s\n",
            "1274:\ttotal: 32s\tremaining: 43.3s\n",
            "1275:\ttotal: 32s\tremaining: 43.3s\n",
            "1276:\ttotal: 32.1s\tremaining: 43.2s\n",
            "1277:\ttotal: 32.1s\tremaining: 43.2s\n",
            "1278:\ttotal: 32.1s\tremaining: 43.2s\n",
            "1279:\ttotal: 32.1s\tremaining: 43.2s\n",
            "1280:\ttotal: 32.2s\tremaining: 43.2s\n",
            "1281:\ttotal: 32.2s\tremaining: 43.1s\n",
            "1282:\ttotal: 32.2s\tremaining: 43.1s\n",
            "1283:\ttotal: 32.2s\tremaining: 43.1s\n",
            "1284:\ttotal: 32.3s\tremaining: 43.1s\n",
            "1285:\ttotal: 32.3s\tremaining: 43.1s\n",
            "1286:\ttotal: 32.3s\tremaining: 43s\n",
            "1287:\ttotal: 32.4s\tremaining: 43s\n",
            "1288:\ttotal: 32.4s\tremaining: 43s\n",
            "1289:\ttotal: 32.4s\tremaining: 43s\n",
            "1290:\ttotal: 32.4s\tremaining: 42.9s\n",
            "1291:\ttotal: 32.5s\tremaining: 42.9s\n",
            "1292:\ttotal: 32.5s\tremaining: 42.9s\n",
            "1293:\ttotal: 32.5s\tremaining: 42.9s\n",
            "1294:\ttotal: 32.6s\tremaining: 42.9s\n",
            "1295:\ttotal: 32.6s\tremaining: 42.8s\n",
            "1296:\ttotal: 32.6s\tremaining: 42.8s\n",
            "1297:\ttotal: 32.6s\tremaining: 42.8s\n",
            "1298:\ttotal: 32.7s\tremaining: 42.8s\n",
            "1299:\ttotal: 32.7s\tremaining: 42.8s\n",
            "1300:\ttotal: 32.7s\tremaining: 42.8s\n",
            "1301:\ttotal: 32.8s\tremaining: 42.7s\n",
            "1302:\ttotal: 32.8s\tremaining: 42.7s\n",
            "1303:\ttotal: 32.8s\tremaining: 42.7s\n",
            "1304:\ttotal: 32.9s\tremaining: 42.7s\n",
            "1305:\ttotal: 32.9s\tremaining: 42.7s\n",
            "1306:\ttotal: 32.9s\tremaining: 42.7s\n",
            "1307:\ttotal: 33s\tremaining: 42.6s\n",
            "1308:\ttotal: 33s\tremaining: 42.6s\n",
            "1309:\ttotal: 33s\tremaining: 42.6s\n",
            "1310:\ttotal: 33s\tremaining: 42.6s\n",
            "1311:\ttotal: 33.1s\tremaining: 42.6s\n",
            "1312:\ttotal: 33.1s\tremaining: 42.5s\n",
            "1313:\ttotal: 33.1s\tremaining: 42.5s\n",
            "1314:\ttotal: 33.2s\tremaining: 42.5s\n",
            "1315:\ttotal: 33.2s\tremaining: 42.5s\n",
            "1316:\ttotal: 33.3s\tremaining: 42.5s\n",
            "1317:\ttotal: 33.3s\tremaining: 42.5s\n",
            "1318:\ttotal: 33.3s\tremaining: 42.5s\n",
            "1319:\ttotal: 33.4s\tremaining: 42.4s\n",
            "1320:\ttotal: 33.4s\tremaining: 42.4s\n",
            "1321:\ttotal: 33.4s\tremaining: 42.4s\n",
            "1322:\ttotal: 33.5s\tremaining: 42.4s\n",
            "1323:\ttotal: 33.5s\tremaining: 42.4s\n",
            "1324:\ttotal: 33.5s\tremaining: 42.4s\n",
            "1325:\ttotal: 33.6s\tremaining: 42.4s\n",
            "1326:\ttotal: 33.6s\tremaining: 42.4s\n",
            "1327:\ttotal: 33.6s\tremaining: 42.3s\n",
            "1328:\ttotal: 33.7s\tremaining: 42.3s\n",
            "1329:\ttotal: 33.7s\tremaining: 42.3s\n",
            "1330:\ttotal: 33.7s\tremaining: 42.3s\n",
            "1331:\ttotal: 33.8s\tremaining: 42.3s\n",
            "1332:\ttotal: 33.8s\tremaining: 42.3s\n",
            "1333:\ttotal: 33.8s\tremaining: 42.2s\n",
            "1334:\ttotal: 33.9s\tremaining: 42.2s\n",
            "1335:\ttotal: 33.9s\tremaining: 42.2s\n",
            "1336:\ttotal: 33.9s\tremaining: 42.2s\n",
            "1337:\ttotal: 33.9s\tremaining: 42.2s\n",
            "1338:\ttotal: 34s\tremaining: 42.1s\n",
            "1339:\ttotal: 34s\tremaining: 42.1s\n",
            "1340:\ttotal: 34s\tremaining: 42.1s\n",
            "1341:\ttotal: 34.1s\tremaining: 42.1s\n",
            "1342:\ttotal: 34.1s\tremaining: 42.1s\n",
            "1343:\ttotal: 34.1s\tremaining: 42s\n",
            "1344:\ttotal: 34.2s\tremaining: 42s\n",
            "1345:\ttotal: 34.2s\tremaining: 42s\n",
            "1346:\ttotal: 34.2s\tremaining: 42s\n",
            "1347:\ttotal: 34.2s\tremaining: 42s\n",
            "1348:\ttotal: 34.3s\tremaining: 42s\n",
            "1349:\ttotal: 34.3s\tremaining: 41.9s\n",
            "1350:\ttotal: 34.4s\tremaining: 41.9s\n",
            "1351:\ttotal: 34.4s\tremaining: 41.9s\n",
            "1352:\ttotal: 34.4s\tremaining: 41.9s\n",
            "1353:\ttotal: 34.5s\tremaining: 41.9s\n",
            "1354:\ttotal: 34.5s\tremaining: 41.9s\n",
            "1355:\ttotal: 34.5s\tremaining: 41.8s\n",
            "1356:\ttotal: 34.5s\tremaining: 41.8s\n",
            "1357:\ttotal: 34.6s\tremaining: 41.8s\n",
            "1358:\ttotal: 34.6s\tremaining: 41.8s\n",
            "1359:\ttotal: 34.6s\tremaining: 41.8s\n",
            "1360:\ttotal: 34.7s\tremaining: 41.7s\n",
            "1361:\ttotal: 34.7s\tremaining: 41.7s\n",
            "1362:\ttotal: 34.7s\tremaining: 41.7s\n",
            "1363:\ttotal: 34.8s\tremaining: 41.7s\n",
            "1364:\ttotal: 34.8s\tremaining: 41.7s\n",
            "1365:\ttotal: 34.8s\tremaining: 41.6s\n",
            "1366:\ttotal: 34.8s\tremaining: 41.6s\n",
            "1367:\ttotal: 34.9s\tremaining: 41.6s\n",
            "1368:\ttotal: 34.9s\tremaining: 41.6s\n",
            "1369:\ttotal: 34.9s\tremaining: 41.6s\n",
            "1370:\ttotal: 35s\tremaining: 41.6s\n",
            "1371:\ttotal: 35s\tremaining: 41.5s\n",
            "1372:\ttotal: 35s\tremaining: 41.5s\n",
            "1373:\ttotal: 35s\tremaining: 41.5s\n",
            "1374:\ttotal: 35.1s\tremaining: 41.5s\n",
            "1375:\ttotal: 35.1s\tremaining: 41.4s\n",
            "1376:\ttotal: 35.1s\tremaining: 41.4s\n",
            "1377:\ttotal: 35.2s\tremaining: 41.4s\n",
            "1378:\ttotal: 35.2s\tremaining: 41.4s\n",
            "1379:\ttotal: 35.2s\tremaining: 41.4s\n",
            "1380:\ttotal: 35.3s\tremaining: 41.3s\n",
            "1381:\ttotal: 35.3s\tremaining: 41.3s\n",
            "1382:\ttotal: 35.3s\tremaining: 41.3s\n",
            "1383:\ttotal: 35.3s\tremaining: 41.3s\n",
            "1384:\ttotal: 35.4s\tremaining: 41.2s\n",
            "1385:\ttotal: 35.4s\tremaining: 41.2s\n",
            "1386:\ttotal: 35.4s\tremaining: 41.2s\n",
            "1387:\ttotal: 35.5s\tremaining: 41.2s\n",
            "1388:\ttotal: 35.5s\tremaining: 41.2s\n",
            "1389:\ttotal: 35.5s\tremaining: 41.1s\n",
            "1390:\ttotal: 35.6s\tremaining: 41.1s\n",
            "1391:\ttotal: 35.6s\tremaining: 41.1s\n",
            "1392:\ttotal: 35.6s\tremaining: 41.1s\n",
            "1393:\ttotal: 35.6s\tremaining: 41s\n",
            "1394:\ttotal: 35.7s\tremaining: 41s\n",
            "1395:\ttotal: 35.7s\tremaining: 41s\n",
            "1396:\ttotal: 35.7s\tremaining: 41s\n",
            "1397:\ttotal: 35.8s\tremaining: 41s\n",
            "1398:\ttotal: 35.8s\tremaining: 40.9s\n",
            "1399:\ttotal: 35.8s\tremaining: 40.9s\n",
            "1400:\ttotal: 35.8s\tremaining: 40.9s\n",
            "1401:\ttotal: 35.9s\tremaining: 40.9s\n",
            "1402:\ttotal: 35.9s\tremaining: 40.9s\n",
            "1403:\ttotal: 35.9s\tremaining: 40.8s\n",
            "1404:\ttotal: 36s\tremaining: 40.8s\n",
            "1405:\ttotal: 36s\tremaining: 40.8s\n",
            "1406:\ttotal: 36s\tremaining: 40.8s\n",
            "1407:\ttotal: 36.1s\tremaining: 40.8s\n",
            "1408:\ttotal: 36.1s\tremaining: 40.7s\n",
            "1409:\ttotal: 36.1s\tremaining: 40.7s\n",
            "1410:\ttotal: 36.1s\tremaining: 40.7s\n",
            "1411:\ttotal: 36.2s\tremaining: 40.7s\n",
            "1412:\ttotal: 36.2s\tremaining: 40.7s\n",
            "1413:\ttotal: 36.2s\tremaining: 40.6s\n",
            "1414:\ttotal: 36.3s\tremaining: 40.6s\n",
            "1415:\ttotal: 36.3s\tremaining: 40.6s\n",
            "1416:\ttotal: 36.3s\tremaining: 40.6s\n",
            "1417:\ttotal: 36.3s\tremaining: 40.5s\n",
            "1418:\ttotal: 36.4s\tremaining: 40.5s\n",
            "1419:\ttotal: 36.4s\tremaining: 40.5s\n",
            "1420:\ttotal: 36.4s\tremaining: 40.5s\n",
            "1421:\ttotal: 36.4s\tremaining: 40.4s\n",
            "1422:\ttotal: 36.5s\tremaining: 40.4s\n",
            "1423:\ttotal: 36.5s\tremaining: 40.4s\n",
            "1424:\ttotal: 36.5s\tremaining: 40.4s\n",
            "1425:\ttotal: 36.6s\tremaining: 40.4s\n",
            "1426:\ttotal: 36.6s\tremaining: 40.3s\n",
            "1427:\ttotal: 36.6s\tremaining: 40.3s\n",
            "1428:\ttotal: 36.7s\tremaining: 40.3s\n",
            "1429:\ttotal: 36.7s\tremaining: 40.3s\n",
            "1430:\ttotal: 36.7s\tremaining: 40.2s\n",
            "1431:\ttotal: 36.7s\tremaining: 40.2s\n",
            "1432:\ttotal: 36.7s\tremaining: 40.2s\n",
            "1433:\ttotal: 36.8s\tremaining: 40.1s\n",
            "1434:\ttotal: 36.8s\tremaining: 40.1s\n",
            "1435:\ttotal: 36.8s\tremaining: 40.1s\n",
            "1436:\ttotal: 36.8s\tremaining: 40.1s\n",
            "1437:\ttotal: 36.9s\tremaining: 40s\n",
            "1438:\ttotal: 36.9s\tremaining: 40s\n",
            "1439:\ttotal: 36.9s\tremaining: 40s\n",
            "1440:\ttotal: 36.9s\tremaining: 40s\n",
            "1441:\ttotal: 37s\tremaining: 39.9s\n",
            "1442:\ttotal: 37s\tremaining: 39.9s\n",
            "1443:\ttotal: 37s\tremaining: 39.9s\n",
            "1444:\ttotal: 37.1s\tremaining: 39.9s\n",
            "1445:\ttotal: 37.1s\tremaining: 39.9s\n",
            "1446:\ttotal: 37.1s\tremaining: 39.8s\n",
            "1447:\ttotal: 37.2s\tremaining: 39.8s\n",
            "1448:\ttotal: 37.2s\tremaining: 39.8s\n",
            "1449:\ttotal: 37.2s\tremaining: 39.8s\n",
            "1450:\ttotal: 37.2s\tremaining: 39.8s\n",
            "1451:\ttotal: 37.3s\tremaining: 39.7s\n",
            "1452:\ttotal: 37.3s\tremaining: 39.7s\n",
            "1453:\ttotal: 37.3s\tremaining: 39.7s\n",
            "1454:\ttotal: 37.4s\tremaining: 39.7s\n",
            "1455:\ttotal: 37.4s\tremaining: 39.6s\n",
            "1456:\ttotal: 37.4s\tremaining: 39.6s\n",
            "1457:\ttotal: 37.4s\tremaining: 39.6s\n",
            "1458:\ttotal: 37.5s\tremaining: 39.6s\n",
            "1459:\ttotal: 37.5s\tremaining: 39.6s\n",
            "1460:\ttotal: 37.5s\tremaining: 39.5s\n",
            "1461:\ttotal: 37.5s\tremaining: 39.5s\n",
            "1462:\ttotal: 37.6s\tremaining: 39.5s\n",
            "1463:\ttotal: 37.6s\tremaining: 39.5s\n",
            "1464:\ttotal: 37.6s\tremaining: 39.4s\n",
            "1465:\ttotal: 37.7s\tremaining: 39.4s\n",
            "1466:\ttotal: 37.7s\tremaining: 39.4s\n",
            "1467:\ttotal: 37.7s\tremaining: 39.4s\n",
            "1468:\ttotal: 37.7s\tremaining: 39.3s\n",
            "1469:\ttotal: 37.8s\tremaining: 39.3s\n",
            "1470:\ttotal: 37.8s\tremaining: 39.3s\n",
            "1471:\ttotal: 37.8s\tremaining: 39.3s\n",
            "1472:\ttotal: 37.9s\tremaining: 39.2s\n",
            "1473:\ttotal: 37.9s\tremaining: 39.2s\n",
            "1474:\ttotal: 37.9s\tremaining: 39.2s\n",
            "1475:\ttotal: 37.9s\tremaining: 39.2s\n",
            "1476:\ttotal: 38s\tremaining: 39.2s\n",
            "1477:\ttotal: 38s\tremaining: 39.1s\n",
            "1478:\ttotal: 38s\tremaining: 39.1s\n",
            "1479:\ttotal: 38.1s\tremaining: 39.1s\n",
            "1480:\ttotal: 38.1s\tremaining: 39.1s\n",
            "1481:\ttotal: 38.1s\tremaining: 39s\n",
            "1482:\ttotal: 38.1s\tremaining: 39s\n",
            "1483:\ttotal: 38.2s\tremaining: 39s\n",
            "1484:\ttotal: 38.2s\tremaining: 39s\n",
            "1485:\ttotal: 38.2s\tremaining: 38.9s\n",
            "1486:\ttotal: 38.2s\tremaining: 38.9s\n",
            "1487:\ttotal: 38.3s\tremaining: 38.9s\n",
            "1488:\ttotal: 38.3s\tremaining: 38.9s\n",
            "1489:\ttotal: 38.3s\tremaining: 38.9s\n",
            "1490:\ttotal: 38.4s\tremaining: 38.8s\n",
            "1491:\ttotal: 38.4s\tremaining: 38.8s\n",
            "1492:\ttotal: 38.4s\tremaining: 38.8s\n",
            "1493:\ttotal: 38.5s\tremaining: 38.8s\n",
            "1494:\ttotal: 38.5s\tremaining: 38.7s\n",
            "1495:\ttotal: 38.5s\tremaining: 38.7s\n",
            "1496:\ttotal: 38.5s\tremaining: 38.7s\n",
            "1497:\ttotal: 38.6s\tremaining: 38.7s\n",
            "1498:\ttotal: 38.6s\tremaining: 38.6s\n",
            "1499:\ttotal: 38.6s\tremaining: 38.6s\n",
            "1500:\ttotal: 38.6s\tremaining: 38.6s\n",
            "1501:\ttotal: 38.6s\tremaining: 38.5s\n",
            "1502:\ttotal: 38.7s\tremaining: 38.5s\n",
            "1503:\ttotal: 38.7s\tremaining: 38.5s\n",
            "1504:\ttotal: 38.7s\tremaining: 38.5s\n",
            "1505:\ttotal: 38.7s\tremaining: 38.4s\n",
            "1506:\ttotal: 38.8s\tremaining: 38.4s\n",
            "1507:\ttotal: 38.8s\tremaining: 38.4s\n",
            "1508:\ttotal: 38.8s\tremaining: 38.4s\n",
            "1509:\ttotal: 38.8s\tremaining: 38.3s\n",
            "1510:\ttotal: 38.9s\tremaining: 38.3s\n",
            "1511:\ttotal: 38.9s\tremaining: 38.3s\n",
            "1512:\ttotal: 38.9s\tremaining: 38.3s\n",
            "1513:\ttotal: 39s\tremaining: 38.3s\n",
            "1514:\ttotal: 39s\tremaining: 38.2s\n",
            "1515:\ttotal: 39s\tremaining: 38.2s\n",
            "1516:\ttotal: 39.1s\tremaining: 38.2s\n",
            "1517:\ttotal: 39.1s\tremaining: 38.2s\n",
            "1518:\ttotal: 39.1s\tremaining: 38.2s\n",
            "1519:\ttotal: 39.2s\tremaining: 38.1s\n",
            "1520:\ttotal: 39.2s\tremaining: 38.1s\n",
            "1521:\ttotal: 39.2s\tremaining: 38.1s\n",
            "1522:\ttotal: 39.3s\tremaining: 38.1s\n",
            "1523:\ttotal: 39.3s\tremaining: 38s\n",
            "1524:\ttotal: 39.3s\tremaining: 38s\n",
            "1525:\ttotal: 39.3s\tremaining: 38s\n",
            "1526:\ttotal: 39.3s\tremaining: 38s\n",
            "1527:\ttotal: 39.4s\tremaining: 37.9s\n",
            "1528:\ttotal: 39.4s\tremaining: 37.9s\n",
            "1529:\ttotal: 39.4s\tremaining: 37.9s\n",
            "1530:\ttotal: 39.5s\tremaining: 37.9s\n",
            "1531:\ttotal: 39.5s\tremaining: 37.8s\n",
            "1532:\ttotal: 39.5s\tremaining: 37.8s\n",
            "1533:\ttotal: 39.5s\tremaining: 37.8s\n",
            "1534:\ttotal: 39.6s\tremaining: 37.8s\n",
            "1535:\ttotal: 39.6s\tremaining: 37.7s\n",
            "1536:\ttotal: 39.6s\tremaining: 37.7s\n",
            "1537:\ttotal: 39.6s\tremaining: 37.7s\n",
            "1538:\ttotal: 39.7s\tremaining: 37.7s\n",
            "1539:\ttotal: 39.7s\tremaining: 37.6s\n",
            "1540:\ttotal: 39.7s\tremaining: 37.6s\n",
            "1541:\ttotal: 39.8s\tremaining: 37.6s\n",
            "1542:\ttotal: 39.8s\tremaining: 37.6s\n",
            "1543:\ttotal: 39.8s\tremaining: 37.6s\n",
            "1544:\ttotal: 39.9s\tremaining: 37.5s\n",
            "1545:\ttotal: 39.9s\tremaining: 37.5s\n",
            "1546:\ttotal: 39.9s\tremaining: 37.5s\n",
            "1547:\ttotal: 39.9s\tremaining: 37.5s\n",
            "1548:\ttotal: 40s\tremaining: 37.4s\n",
            "1549:\ttotal: 40s\tremaining: 37.4s\n",
            "1550:\ttotal: 40s\tremaining: 37.4s\n",
            "1551:\ttotal: 40.1s\tremaining: 37.4s\n",
            "1552:\ttotal: 40.1s\tremaining: 37.4s\n",
            "1553:\ttotal: 40.1s\tremaining: 37.3s\n",
            "1554:\ttotal: 40.1s\tremaining: 37.3s\n",
            "1555:\ttotal: 40.2s\tremaining: 37.3s\n",
            "1556:\ttotal: 40.2s\tremaining: 37.2s\n",
            "1557:\ttotal: 40.2s\tremaining: 37.2s\n",
            "1558:\ttotal: 40.3s\tremaining: 37.2s\n",
            "1559:\ttotal: 40.3s\tremaining: 37.2s\n",
            "1560:\ttotal: 40.3s\tremaining: 37.2s\n",
            "1561:\ttotal: 40.3s\tremaining: 37.1s\n",
            "1562:\ttotal: 40.4s\tremaining: 37.1s\n",
            "1563:\ttotal: 40.4s\tremaining: 37.1s\n",
            "1564:\ttotal: 40.4s\tremaining: 37.1s\n",
            "1565:\ttotal: 40.5s\tremaining: 37s\n",
            "1566:\ttotal: 40.5s\tremaining: 37s\n",
            "1567:\ttotal: 40.5s\tremaining: 37s\n",
            "1568:\ttotal: 40.6s\tremaining: 37s\n",
            "1569:\ttotal: 40.6s\tremaining: 37s\n",
            "1570:\ttotal: 40.6s\tremaining: 36.9s\n",
            "1571:\ttotal: 40.6s\tremaining: 36.9s\n",
            "1572:\ttotal: 40.7s\tremaining: 36.9s\n",
            "1573:\ttotal: 40.7s\tremaining: 36.9s\n",
            "1574:\ttotal: 40.7s\tremaining: 36.8s\n",
            "1575:\ttotal: 40.7s\tremaining: 36.8s\n",
            "1576:\ttotal: 40.8s\tremaining: 36.8s\n",
            "1577:\ttotal: 40.8s\tremaining: 36.8s\n",
            "1578:\ttotal: 40.8s\tremaining: 36.7s\n",
            "1579:\ttotal: 40.9s\tremaining: 36.7s\n",
            "1580:\ttotal: 40.9s\tremaining: 36.7s\n",
            "1581:\ttotal: 40.9s\tremaining: 36.7s\n",
            "1582:\ttotal: 41s\tremaining: 36.7s\n",
            "1583:\ttotal: 41s\tremaining: 36.6s\n",
            "1584:\ttotal: 41s\tremaining: 36.6s\n",
            "1585:\ttotal: 41s\tremaining: 36.6s\n",
            "1586:\ttotal: 41.1s\tremaining: 36.6s\n",
            "1587:\ttotal: 41.1s\tremaining: 36.5s\n",
            "1588:\ttotal: 41.1s\tremaining: 36.5s\n",
            "1589:\ttotal: 41.2s\tremaining: 36.5s\n",
            "1590:\ttotal: 41.2s\tremaining: 36.5s\n",
            "1591:\ttotal: 41.2s\tremaining: 36.4s\n",
            "1592:\ttotal: 41.2s\tremaining: 36.4s\n",
            "1593:\ttotal: 41.3s\tremaining: 36.4s\n",
            "1594:\ttotal: 41.3s\tremaining: 36.4s\n",
            "1595:\ttotal: 41.3s\tremaining: 36.4s\n",
            "1596:\ttotal: 41.4s\tremaining: 36.3s\n",
            "1597:\ttotal: 41.4s\tremaining: 36.3s\n",
            "1598:\ttotal: 41.4s\tremaining: 36.3s\n",
            "1599:\ttotal: 41.5s\tremaining: 36.3s\n",
            "1600:\ttotal: 41.5s\tremaining: 36.3s\n",
            "1601:\ttotal: 41.5s\tremaining: 36.2s\n",
            "1602:\ttotal: 41.6s\tremaining: 36.2s\n",
            "1603:\ttotal: 41.6s\tremaining: 36.2s\n",
            "1604:\ttotal: 41.6s\tremaining: 36.2s\n",
            "1605:\ttotal: 41.6s\tremaining: 36.2s\n",
            "1606:\ttotal: 41.7s\tremaining: 36.1s\n",
            "1607:\ttotal: 41.7s\tremaining: 36.1s\n",
            "1608:\ttotal: 41.7s\tremaining: 36.1s\n",
            "1609:\ttotal: 41.7s\tremaining: 36s\n",
            "1610:\ttotal: 41.8s\tremaining: 36s\n",
            "1611:\ttotal: 41.8s\tremaining: 36s\n",
            "1612:\ttotal: 41.8s\tremaining: 36s\n",
            "1613:\ttotal: 41.9s\tremaining: 36s\n",
            "1614:\ttotal: 41.9s\tremaining: 35.9s\n",
            "1615:\ttotal: 41.9s\tremaining: 35.9s\n",
            "1616:\ttotal: 42s\tremaining: 35.9s\n",
            "1617:\ttotal: 42s\tremaining: 35.9s\n",
            "1618:\ttotal: 42s\tremaining: 35.9s\n",
            "1619:\ttotal: 42.1s\tremaining: 35.8s\n",
            "1620:\ttotal: 42.1s\tremaining: 35.8s\n",
            "1621:\ttotal: 42.1s\tremaining: 35.8s\n",
            "1622:\ttotal: 42.1s\tremaining: 35.7s\n",
            "1623:\ttotal: 42.2s\tremaining: 35.7s\n",
            "1624:\ttotal: 42.2s\tremaining: 35.7s\n",
            "1625:\ttotal: 42.2s\tremaining: 35.7s\n",
            "1626:\ttotal: 42.2s\tremaining: 35.7s\n",
            "1627:\ttotal: 42.3s\tremaining: 35.6s\n",
            "1628:\ttotal: 42.3s\tremaining: 35.6s\n",
            "1629:\ttotal: 42.3s\tremaining: 35.6s\n",
            "1630:\ttotal: 42.3s\tremaining: 35.5s\n",
            "1631:\ttotal: 42.4s\tremaining: 35.5s\n",
            "1632:\ttotal: 42.4s\tremaining: 35.5s\n",
            "1633:\ttotal: 42.4s\tremaining: 35.5s\n",
            "1634:\ttotal: 42.5s\tremaining: 35.4s\n",
            "1635:\ttotal: 42.5s\tremaining: 35.4s\n",
            "1636:\ttotal: 42.5s\tremaining: 35.4s\n",
            "1637:\ttotal: 42.5s\tremaining: 35.4s\n",
            "1638:\ttotal: 42.6s\tremaining: 35.4s\n",
            "1639:\ttotal: 42.6s\tremaining: 35.3s\n",
            "1640:\ttotal: 42.6s\tremaining: 35.3s\n",
            "1641:\ttotal: 42.6s\tremaining: 35.3s\n",
            "1642:\ttotal: 42.7s\tremaining: 35.3s\n",
            "1643:\ttotal: 42.7s\tremaining: 35.2s\n",
            "1644:\ttotal: 42.7s\tremaining: 35.2s\n",
            "1645:\ttotal: 42.7s\tremaining: 35.2s\n",
            "1646:\ttotal: 42.8s\tremaining: 35.1s\n",
            "1647:\ttotal: 42.8s\tremaining: 35.1s\n",
            "1648:\ttotal: 42.8s\tremaining: 35.1s\n",
            "1649:\ttotal: 42.9s\tremaining: 35.1s\n",
            "1650:\ttotal: 42.9s\tremaining: 35s\n",
            "1651:\ttotal: 42.9s\tremaining: 35s\n",
            "1652:\ttotal: 43s\tremaining: 35s\n",
            "1653:\ttotal: 43s\tremaining: 35s\n",
            "1654:\ttotal: 43s\tremaining: 35s\n",
            "1655:\ttotal: 43s\tremaining: 34.9s\n",
            "1656:\ttotal: 43.1s\tremaining: 34.9s\n",
            "1657:\ttotal: 43.1s\tremaining: 34.9s\n",
            "1658:\ttotal: 43.1s\tremaining: 34.8s\n",
            "1659:\ttotal: 43.1s\tremaining: 34.8s\n",
            "1660:\ttotal: 43.2s\tremaining: 34.8s\n",
            "1661:\ttotal: 43.2s\tremaining: 34.8s\n",
            "1662:\ttotal: 43.2s\tremaining: 34.7s\n",
            "1663:\ttotal: 43.2s\tremaining: 34.7s\n",
            "1664:\ttotal: 43.3s\tremaining: 34.7s\n",
            "1665:\ttotal: 43.3s\tremaining: 34.7s\n",
            "1666:\ttotal: 43.3s\tremaining: 34.6s\n",
            "1667:\ttotal: 43.4s\tremaining: 34.6s\n",
            "1668:\ttotal: 43.4s\tremaining: 34.6s\n",
            "1669:\ttotal: 43.4s\tremaining: 34.6s\n",
            "1670:\ttotal: 43.4s\tremaining: 34.5s\n",
            "1671:\ttotal: 43.5s\tremaining: 34.5s\n",
            "1672:\ttotal: 43.5s\tremaining: 34.5s\n",
            "1673:\ttotal: 43.5s\tremaining: 34.5s\n",
            "1674:\ttotal: 43.5s\tremaining: 34.4s\n",
            "1675:\ttotal: 43.6s\tremaining: 34.4s\n",
            "1676:\ttotal: 43.6s\tremaining: 34.4s\n",
            "1677:\ttotal: 43.6s\tremaining: 34.3s\n",
            "1678:\ttotal: 43.6s\tremaining: 34.3s\n",
            "1679:\ttotal: 43.6s\tremaining: 34.3s\n",
            "1680:\ttotal: 43.7s\tremaining: 34.3s\n",
            "1681:\ttotal: 43.7s\tremaining: 34.2s\n",
            "1682:\ttotal: 43.7s\tremaining: 34.2s\n",
            "1683:\ttotal: 43.7s\tremaining: 34.2s\n",
            "1684:\ttotal: 43.7s\tremaining: 34.1s\n",
            "1685:\ttotal: 43.8s\tremaining: 34.1s\n",
            "1686:\ttotal: 43.8s\tremaining: 34.1s\n",
            "1687:\ttotal: 43.8s\tremaining: 34.1s\n",
            "1688:\ttotal: 43.8s\tremaining: 34s\n",
            "1689:\ttotal: 43.9s\tremaining: 34s\n",
            "1690:\ttotal: 43.9s\tremaining: 34s\n",
            "1691:\ttotal: 43.9s\tremaining: 34s\n",
            "1692:\ttotal: 44s\tremaining: 33.9s\n",
            "1693:\ttotal: 44s\tremaining: 33.9s\n",
            "1694:\ttotal: 44s\tremaining: 33.9s\n",
            "1695:\ttotal: 44.1s\tremaining: 33.9s\n",
            "1696:\ttotal: 44.1s\tremaining: 33.9s\n",
            "1697:\ttotal: 44.1s\tremaining: 33.8s\n",
            "1698:\ttotal: 44.1s\tremaining: 33.8s\n",
            "1699:\ttotal: 44.2s\tremaining: 33.8s\n",
            "1700:\ttotal: 44.2s\tremaining: 33.7s\n",
            "1701:\ttotal: 44.2s\tremaining: 33.7s\n",
            "1702:\ttotal: 44.2s\tremaining: 33.7s\n",
            "1703:\ttotal: 44.3s\tremaining: 33.7s\n",
            "1704:\ttotal: 44.3s\tremaining: 33.6s\n",
            "1705:\ttotal: 44.3s\tremaining: 33.6s\n",
            "1706:\ttotal: 44.3s\tremaining: 33.6s\n",
            "1707:\ttotal: 44.4s\tremaining: 33.5s\n",
            "1708:\ttotal: 44.4s\tremaining: 33.5s\n",
            "1709:\ttotal: 44.4s\tremaining: 33.5s\n",
            "1710:\ttotal: 44.4s\tremaining: 33.5s\n",
            "1711:\ttotal: 44.5s\tremaining: 33.4s\n",
            "1712:\ttotal: 44.5s\tremaining: 33.4s\n",
            "1713:\ttotal: 44.5s\tremaining: 33.4s\n",
            "1714:\ttotal: 44.5s\tremaining: 33.4s\n",
            "1715:\ttotal: 44.5s\tremaining: 33.3s\n",
            "1716:\ttotal: 44.6s\tremaining: 33.3s\n",
            "1717:\ttotal: 44.6s\tremaining: 33.3s\n",
            "1718:\ttotal: 44.6s\tremaining: 33.2s\n",
            "1719:\ttotal: 44.6s\tremaining: 33.2s\n",
            "1720:\ttotal: 44.7s\tremaining: 33.2s\n",
            "1721:\ttotal: 44.7s\tremaining: 33.2s\n",
            "1722:\ttotal: 44.7s\tremaining: 33.2s\n",
            "1723:\ttotal: 44.8s\tremaining: 33.1s\n",
            "1724:\ttotal: 44.8s\tremaining: 33.1s\n",
            "1725:\ttotal: 44.8s\tremaining: 33.1s\n",
            "1726:\ttotal: 44.8s\tremaining: 33s\n",
            "1727:\ttotal: 44.9s\tremaining: 33s\n",
            "1728:\ttotal: 44.9s\tremaining: 33s\n",
            "1729:\ttotal: 44.9s\tremaining: 33s\n",
            "1730:\ttotal: 45s\tremaining: 33s\n",
            "1731:\ttotal: 45s\tremaining: 32.9s\n",
            "1732:\ttotal: 45s\tremaining: 32.9s\n",
            "1733:\ttotal: 45s\tremaining: 32.9s\n",
            "1734:\ttotal: 45.1s\tremaining: 32.9s\n",
            "1735:\ttotal: 45.1s\tremaining: 32.8s\n",
            "1736:\ttotal: 45.1s\tremaining: 32.8s\n",
            "1737:\ttotal: 45.1s\tremaining: 32.8s\n",
            "1738:\ttotal: 45.2s\tremaining: 32.8s\n",
            "1739:\ttotal: 45.2s\tremaining: 32.7s\n",
            "1740:\ttotal: 45.2s\tremaining: 32.7s\n",
            "1741:\ttotal: 45.3s\tremaining: 32.7s\n",
            "1742:\ttotal: 45.3s\tremaining: 32.7s\n",
            "1743:\ttotal: 45.3s\tremaining: 32.6s\n",
            "1744:\ttotal: 45.4s\tremaining: 32.6s\n",
            "1745:\ttotal: 45.4s\tremaining: 32.6s\n",
            "1746:\ttotal: 45.4s\tremaining: 32.6s\n",
            "1747:\ttotal: 45.5s\tremaining: 32.6s\n",
            "1748:\ttotal: 45.5s\tremaining: 32.5s\n",
            "1749:\ttotal: 45.5s\tremaining: 32.5s\n",
            "1750:\ttotal: 45.5s\tremaining: 32.5s\n",
            "1751:\ttotal: 45.6s\tremaining: 32.5s\n",
            "1752:\ttotal: 45.6s\tremaining: 32.4s\n",
            "1753:\ttotal: 45.6s\tremaining: 32.4s\n",
            "1754:\ttotal: 45.6s\tremaining: 32.4s\n",
            "1755:\ttotal: 45.7s\tremaining: 32.4s\n",
            "1756:\ttotal: 45.7s\tremaining: 32.3s\n",
            "1757:\ttotal: 45.8s\tremaining: 32.3s\n",
            "1758:\ttotal: 45.8s\tremaining: 32.3s\n",
            "1759:\ttotal: 45.8s\tremaining: 32.3s\n",
            "1760:\ttotal: 45.8s\tremaining: 32.2s\n",
            "1761:\ttotal: 45.9s\tremaining: 32.2s\n",
            "1762:\ttotal: 45.9s\tremaining: 32.2s\n",
            "1763:\ttotal: 45.9s\tremaining: 32.2s\n",
            "1764:\ttotal: 45.9s\tremaining: 32.1s\n",
            "1765:\ttotal: 46s\tremaining: 32.1s\n",
            "1766:\ttotal: 46s\tremaining: 32.1s\n",
            "1767:\ttotal: 46s\tremaining: 32.1s\n",
            "1768:\ttotal: 46.1s\tremaining: 32.1s\n",
            "1769:\ttotal: 46.1s\tremaining: 32s\n",
            "1770:\ttotal: 46.1s\tremaining: 32s\n",
            "1771:\ttotal: 46.1s\tremaining: 32s\n",
            "1772:\ttotal: 46.1s\tremaining: 31.9s\n",
            "1773:\ttotal: 46.2s\tremaining: 31.9s\n",
            "1774:\ttotal: 46.2s\tremaining: 31.9s\n",
            "1775:\ttotal: 46.2s\tremaining: 31.9s\n",
            "1776:\ttotal: 46.2s\tremaining: 31.8s\n",
            "1777:\ttotal: 46.3s\tremaining: 31.8s\n",
            "1778:\ttotal: 46.3s\tremaining: 31.8s\n",
            "1779:\ttotal: 46.3s\tremaining: 31.8s\n",
            "1780:\ttotal: 46.4s\tremaining: 31.7s\n",
            "1781:\ttotal: 46.4s\tremaining: 31.7s\n",
            "1782:\ttotal: 46.4s\tremaining: 31.7s\n",
            "1783:\ttotal: 46.4s\tremaining: 31.6s\n",
            "1784:\ttotal: 46.4s\tremaining: 31.6s\n",
            "1785:\ttotal: 46.5s\tremaining: 31.6s\n",
            "1786:\ttotal: 46.5s\tremaining: 31.6s\n",
            "1787:\ttotal: 46.5s\tremaining: 31.5s\n",
            "1788:\ttotal: 46.5s\tremaining: 31.5s\n",
            "1789:\ttotal: 46.6s\tremaining: 31.5s\n",
            "1790:\ttotal: 46.6s\tremaining: 31.4s\n",
            "1791:\ttotal: 46.6s\tremaining: 31.4s\n",
            "1792:\ttotal: 46.6s\tremaining: 31.4s\n",
            "1793:\ttotal: 46.6s\tremaining: 31.4s\n",
            "1794:\ttotal: 46.7s\tremaining: 31.3s\n",
            "1795:\ttotal: 46.7s\tremaining: 31.3s\n",
            "1796:\ttotal: 46.7s\tremaining: 31.3s\n",
            "1797:\ttotal: 46.7s\tremaining: 31.2s\n",
            "1798:\ttotal: 46.8s\tremaining: 31.2s\n",
            "1799:\ttotal: 46.8s\tremaining: 31.2s\n",
            "1800:\ttotal: 46.8s\tremaining: 31.2s\n",
            "1801:\ttotal: 46.8s\tremaining: 31.1s\n",
            "1802:\ttotal: 46.9s\tremaining: 31.1s\n",
            "1803:\ttotal: 46.9s\tremaining: 31.1s\n",
            "1804:\ttotal: 46.9s\tremaining: 31s\n",
            "1805:\ttotal: 46.9s\tremaining: 31s\n",
            "1806:\ttotal: 46.9s\tremaining: 31s\n",
            "1807:\ttotal: 47s\tremaining: 31s\n",
            "1808:\ttotal: 47s\tremaining: 30.9s\n",
            "1809:\ttotal: 47s\tremaining: 30.9s\n",
            "1810:\ttotal: 47s\tremaining: 30.9s\n",
            "1811:\ttotal: 47.1s\tremaining: 30.9s\n",
            "1812:\ttotal: 47.1s\tremaining: 30.8s\n",
            "1813:\ttotal: 47.1s\tremaining: 30.8s\n",
            "1814:\ttotal: 47.1s\tremaining: 30.8s\n",
            "1815:\ttotal: 47.2s\tremaining: 30.8s\n",
            "1816:\ttotal: 47.2s\tremaining: 30.7s\n",
            "1817:\ttotal: 47.2s\tremaining: 30.7s\n",
            "1818:\ttotal: 47.3s\tremaining: 30.7s\n",
            "1819:\ttotal: 47.3s\tremaining: 30.7s\n",
            "1820:\ttotal: 47.3s\tremaining: 30.6s\n",
            "1821:\ttotal: 47.3s\tremaining: 30.6s\n",
            "1822:\ttotal: 47.4s\tremaining: 30.6s\n",
            "1823:\ttotal: 47.4s\tremaining: 30.6s\n",
            "1824:\ttotal: 47.4s\tremaining: 30.5s\n",
            "1825:\ttotal: 47.5s\tremaining: 30.5s\n",
            "1826:\ttotal: 47.5s\tremaining: 30.5s\n",
            "1827:\ttotal: 47.5s\tremaining: 30.5s\n",
            "1828:\ttotal: 47.5s\tremaining: 30.4s\n",
            "1829:\ttotal: 47.6s\tremaining: 30.4s\n",
            "1830:\ttotal: 47.6s\tremaining: 30.4s\n",
            "1831:\ttotal: 47.6s\tremaining: 30.4s\n",
            "1832:\ttotal: 47.7s\tremaining: 30.3s\n",
            "1833:\ttotal: 47.7s\tremaining: 30.3s\n",
            "1834:\ttotal: 47.7s\tremaining: 30.3s\n",
            "1835:\ttotal: 47.7s\tremaining: 30.3s\n",
            "1836:\ttotal: 47.8s\tremaining: 30.2s\n",
            "1837:\ttotal: 47.8s\tremaining: 30.2s\n",
            "1838:\ttotal: 47.8s\tremaining: 30.2s\n",
            "1839:\ttotal: 47.8s\tremaining: 30.2s\n",
            "1840:\ttotal: 47.9s\tremaining: 30.1s\n",
            "1841:\ttotal: 47.9s\tremaining: 30.1s\n",
            "1842:\ttotal: 47.9s\tremaining: 30.1s\n",
            "1843:\ttotal: 48s\tremaining: 30.1s\n",
            "1844:\ttotal: 48s\tremaining: 30s\n",
            "1845:\ttotal: 48s\tremaining: 30s\n",
            "1846:\ttotal: 48s\tremaining: 30s\n",
            "1847:\ttotal: 48.1s\tremaining: 30s\n",
            "1848:\ttotal: 48.1s\tremaining: 29.9s\n",
            "1849:\ttotal: 48.1s\tremaining: 29.9s\n",
            "1850:\ttotal: 48.2s\tremaining: 29.9s\n",
            "1851:\ttotal: 48.2s\tremaining: 29.9s\n",
            "1852:\ttotal: 48.2s\tremaining: 29.8s\n",
            "1853:\ttotal: 48.2s\tremaining: 29.8s\n",
            "1854:\ttotal: 48.3s\tremaining: 29.8s\n",
            "1855:\ttotal: 48.3s\tremaining: 29.8s\n",
            "1856:\ttotal: 48.3s\tremaining: 29.7s\n",
            "1857:\ttotal: 48.3s\tremaining: 29.7s\n",
            "1858:\ttotal: 48.3s\tremaining: 29.7s\n",
            "1859:\ttotal: 48.4s\tremaining: 29.6s\n",
            "1860:\ttotal: 48.4s\tremaining: 29.6s\n",
            "1861:\ttotal: 48.4s\tremaining: 29.6s\n",
            "1862:\ttotal: 48.4s\tremaining: 29.6s\n",
            "1863:\ttotal: 48.5s\tremaining: 29.5s\n",
            "1864:\ttotal: 48.5s\tremaining: 29.5s\n",
            "1865:\ttotal: 48.5s\tremaining: 29.5s\n",
            "1866:\ttotal: 48.5s\tremaining: 29.4s\n",
            "1867:\ttotal: 48.5s\tremaining: 29.4s\n",
            "1868:\ttotal: 48.6s\tremaining: 29.4s\n",
            "1869:\ttotal: 48.6s\tremaining: 29.4s\n",
            "1870:\ttotal: 48.6s\tremaining: 29.3s\n",
            "1871:\ttotal: 48.6s\tremaining: 29.3s\n",
            "1872:\ttotal: 48.7s\tremaining: 29.3s\n",
            "1873:\ttotal: 48.7s\tremaining: 29.3s\n",
            "1874:\ttotal: 48.7s\tremaining: 29.2s\n",
            "1875:\ttotal: 48.7s\tremaining: 29.2s\n",
            "1876:\ttotal: 48.8s\tremaining: 29.2s\n",
            "1877:\ttotal: 48.8s\tremaining: 29.1s\n",
            "1878:\ttotal: 48.8s\tremaining: 29.1s\n",
            "1879:\ttotal: 48.8s\tremaining: 29.1s\n",
            "1880:\ttotal: 48.8s\tremaining: 29.1s\n",
            "1881:\ttotal: 48.9s\tremaining: 29s\n",
            "1882:\ttotal: 48.9s\tremaining: 29s\n",
            "1883:\ttotal: 48.9s\tremaining: 29s\n",
            "1884:\ttotal: 48.9s\tremaining: 28.9s\n",
            "1885:\ttotal: 48.9s\tremaining: 28.9s\n",
            "1886:\ttotal: 49s\tremaining: 28.9s\n",
            "1887:\ttotal: 49s\tremaining: 28.9s\n",
            "1888:\ttotal: 49s\tremaining: 28.8s\n",
            "1889:\ttotal: 49s\tremaining: 28.8s\n",
            "1890:\ttotal: 49.1s\tremaining: 28.8s\n",
            "1891:\ttotal: 49.1s\tremaining: 28.7s\n",
            "1892:\ttotal: 49.1s\tremaining: 28.7s\n",
            "1893:\ttotal: 49.1s\tremaining: 28.7s\n",
            "1894:\ttotal: 49.1s\tremaining: 28.7s\n",
            "1895:\ttotal: 49.2s\tremaining: 28.6s\n",
            "1896:\ttotal: 49.2s\tremaining: 28.6s\n",
            "1897:\ttotal: 49.2s\tremaining: 28.6s\n",
            "1898:\ttotal: 49.2s\tremaining: 28.5s\n",
            "1899:\ttotal: 49.3s\tremaining: 28.5s\n",
            "1900:\ttotal: 49.3s\tremaining: 28.5s\n",
            "1901:\ttotal: 49.3s\tremaining: 28.5s\n",
            "1902:\ttotal: 49.3s\tremaining: 28.4s\n",
            "1903:\ttotal: 49.3s\tremaining: 28.4s\n",
            "1904:\ttotal: 49.4s\tremaining: 28.4s\n",
            "1905:\ttotal: 49.4s\tremaining: 28.3s\n",
            "1906:\ttotal: 49.4s\tremaining: 28.3s\n",
            "1907:\ttotal: 49.4s\tremaining: 28.3s\n",
            "1908:\ttotal: 49.5s\tremaining: 28.3s\n",
            "1909:\ttotal: 49.5s\tremaining: 28.2s\n",
            "1910:\ttotal: 49.5s\tremaining: 28.2s\n",
            "1911:\ttotal: 49.6s\tremaining: 28.2s\n",
            "1912:\ttotal: 49.6s\tremaining: 28.2s\n",
            "1913:\ttotal: 49.6s\tremaining: 28.1s\n",
            "1914:\ttotal: 49.6s\tremaining: 28.1s\n",
            "1915:\ttotal: 49.7s\tremaining: 28.1s\n",
            "1916:\ttotal: 49.7s\tremaining: 28.1s\n",
            "1917:\ttotal: 49.7s\tremaining: 28s\n",
            "1918:\ttotal: 49.7s\tremaining: 28s\n",
            "1919:\ttotal: 49.8s\tremaining: 28s\n",
            "1920:\ttotal: 49.8s\tremaining: 28s\n",
            "1921:\ttotal: 49.8s\tremaining: 27.9s\n",
            "1922:\ttotal: 49.8s\tremaining: 27.9s\n",
            "1923:\ttotal: 49.9s\tremaining: 27.9s\n",
            "1924:\ttotal: 49.9s\tremaining: 27.9s\n",
            "1925:\ttotal: 49.9s\tremaining: 27.8s\n",
            "1926:\ttotal: 49.9s\tremaining: 27.8s\n",
            "1927:\ttotal: 50s\tremaining: 27.8s\n",
            "1928:\ttotal: 50s\tremaining: 27.8s\n",
            "1929:\ttotal: 50s\tremaining: 27.7s\n",
            "1930:\ttotal: 50s\tremaining: 27.7s\n",
            "1931:\ttotal: 50.1s\tremaining: 27.7s\n",
            "1932:\ttotal: 50.1s\tremaining: 27.7s\n",
            "1933:\ttotal: 50.1s\tremaining: 27.6s\n",
            "1934:\ttotal: 50.2s\tremaining: 27.6s\n",
            "1935:\ttotal: 50.2s\tremaining: 27.6s\n",
            "1936:\ttotal: 50.2s\tremaining: 27.6s\n",
            "1937:\ttotal: 50.2s\tremaining: 27.5s\n",
            "1938:\ttotal: 50.3s\tremaining: 27.5s\n",
            "1939:\ttotal: 50.3s\tremaining: 27.5s\n",
            "1940:\ttotal: 50.3s\tremaining: 27.5s\n",
            "1941:\ttotal: 50.3s\tremaining: 27.4s\n",
            "1942:\ttotal: 50.4s\tremaining: 27.4s\n",
            "1943:\ttotal: 50.4s\tremaining: 27.4s\n",
            "1944:\ttotal: 50.4s\tremaining: 27.4s\n",
            "1945:\ttotal: 50.5s\tremaining: 27.3s\n",
            "1946:\ttotal: 50.5s\tremaining: 27.3s\n",
            "1947:\ttotal: 50.5s\tremaining: 27.3s\n",
            "1948:\ttotal: 50.5s\tremaining: 27.3s\n",
            "1949:\ttotal: 50.6s\tremaining: 27.2s\n",
            "1950:\ttotal: 50.6s\tremaining: 27.2s\n",
            "1951:\ttotal: 50.6s\tremaining: 27.2s\n",
            "1952:\ttotal: 50.6s\tremaining: 27.1s\n",
            "1953:\ttotal: 50.6s\tremaining: 27.1s\n",
            "1954:\ttotal: 50.7s\tremaining: 27.1s\n",
            "1955:\ttotal: 50.7s\tremaining: 27.1s\n",
            "1956:\ttotal: 50.7s\tremaining: 27s\n",
            "1957:\ttotal: 50.7s\tremaining: 27s\n",
            "1958:\ttotal: 50.8s\tremaining: 27s\n",
            "1959:\ttotal: 50.8s\tremaining: 26.9s\n",
            "1960:\ttotal: 50.8s\tremaining: 26.9s\n",
            "1961:\ttotal: 50.8s\tremaining: 26.9s\n",
            "1962:\ttotal: 50.8s\tremaining: 26.9s\n",
            "1963:\ttotal: 50.9s\tremaining: 26.8s\n",
            "1964:\ttotal: 50.9s\tremaining: 26.8s\n",
            "1965:\ttotal: 50.9s\tremaining: 26.8s\n",
            "1966:\ttotal: 51s\tremaining: 26.8s\n",
            "1967:\ttotal: 51s\tremaining: 26.7s\n",
            "1968:\ttotal: 51s\tremaining: 26.7s\n",
            "1969:\ttotal: 51s\tremaining: 26.7s\n",
            "1970:\ttotal: 51.1s\tremaining: 26.7s\n",
            "1971:\ttotal: 51.1s\tremaining: 26.6s\n",
            "1972:\ttotal: 51.1s\tremaining: 26.6s\n",
            "1973:\ttotal: 51.1s\tremaining: 26.6s\n",
            "1974:\ttotal: 51.2s\tremaining: 26.5s\n",
            "1975:\ttotal: 51.2s\tremaining: 26.5s\n",
            "1976:\ttotal: 51.2s\tremaining: 26.5s\n",
            "1977:\ttotal: 51.2s\tremaining: 26.5s\n",
            "1978:\ttotal: 51.2s\tremaining: 26.4s\n",
            "1979:\ttotal: 51.3s\tremaining: 26.4s\n",
            "1980:\ttotal: 51.3s\tremaining: 26.4s\n",
            "1981:\ttotal: 51.3s\tremaining: 26.4s\n",
            "1982:\ttotal: 51.3s\tremaining: 26.3s\n",
            "1983:\ttotal: 51.4s\tremaining: 26.3s\n",
            "1984:\ttotal: 51.4s\tremaining: 26.3s\n",
            "1985:\ttotal: 51.4s\tremaining: 26.2s\n",
            "1986:\ttotal: 51.4s\tremaining: 26.2s\n",
            "1987:\ttotal: 51.5s\tremaining: 26.2s\n",
            "1988:\ttotal: 51.5s\tremaining: 26.2s\n",
            "1989:\ttotal: 51.5s\tremaining: 26.1s\n",
            "1990:\ttotal: 51.5s\tremaining: 26.1s\n",
            "1991:\ttotal: 51.5s\tremaining: 26.1s\n",
            "1992:\ttotal: 51.6s\tremaining: 26.1s\n",
            "1993:\ttotal: 51.6s\tremaining: 26s\n",
            "1994:\ttotal: 51.6s\tremaining: 26s\n",
            "1995:\ttotal: 51.6s\tremaining: 26s\n",
            "1996:\ttotal: 51.6s\tremaining: 25.9s\n",
            "1997:\ttotal: 51.7s\tremaining: 25.9s\n",
            "1998:\ttotal: 51.7s\tremaining: 25.9s\n",
            "1999:\ttotal: 51.7s\tremaining: 25.9s\n",
            "2000:\ttotal: 51.7s\tremaining: 25.8s\n",
            "2001:\ttotal: 51.8s\tremaining: 25.8s\n",
            "2002:\ttotal: 51.8s\tremaining: 25.8s\n",
            "2003:\ttotal: 51.8s\tremaining: 25.7s\n",
            "2004:\ttotal: 51.8s\tremaining: 25.7s\n",
            "2005:\ttotal: 51.8s\tremaining: 25.7s\n",
            "2006:\ttotal: 51.9s\tremaining: 25.7s\n",
            "2007:\ttotal: 51.9s\tremaining: 25.6s\n",
            "2008:\ttotal: 51.9s\tremaining: 25.6s\n",
            "2009:\ttotal: 51.9s\tremaining: 25.6s\n",
            "2010:\ttotal: 52s\tremaining: 25.5s\n",
            "2011:\ttotal: 52s\tremaining: 25.5s\n",
            "2012:\ttotal: 52s\tremaining: 25.5s\n",
            "2013:\ttotal: 52s\tremaining: 25.5s\n",
            "2014:\ttotal: 52s\tremaining: 25.4s\n",
            "2015:\ttotal: 52.1s\tremaining: 25.4s\n",
            "2016:\ttotal: 52.1s\tremaining: 25.4s\n",
            "2017:\ttotal: 52.1s\tremaining: 25.4s\n",
            "2018:\ttotal: 52.1s\tremaining: 25.3s\n",
            "2019:\ttotal: 52.1s\tremaining: 25.3s\n",
            "2020:\ttotal: 52.2s\tremaining: 25.3s\n",
            "2021:\ttotal: 52.2s\tremaining: 25.2s\n",
            "2022:\ttotal: 52.2s\tremaining: 25.2s\n",
            "2023:\ttotal: 52.2s\tremaining: 25.2s\n",
            "2024:\ttotal: 52.3s\tremaining: 25.2s\n",
            "2025:\ttotal: 52.3s\tremaining: 25.1s\n",
            "2026:\ttotal: 52.3s\tremaining: 25.1s\n",
            "2027:\ttotal: 52.3s\tremaining: 25.1s\n",
            "2028:\ttotal: 52.3s\tremaining: 25s\n",
            "2029:\ttotal: 52.4s\tremaining: 25s\n",
            "2030:\ttotal: 52.4s\tremaining: 25s\n",
            "2031:\ttotal: 52.4s\tremaining: 25s\n",
            "2032:\ttotal: 52.4s\tremaining: 24.9s\n",
            "2033:\ttotal: 52.4s\tremaining: 24.9s\n",
            "2034:\ttotal: 52.5s\tremaining: 24.9s\n",
            "2035:\ttotal: 52.5s\tremaining: 24.9s\n",
            "2036:\ttotal: 52.5s\tremaining: 24.8s\n",
            "2037:\ttotal: 52.5s\tremaining: 24.8s\n",
            "2038:\ttotal: 52.6s\tremaining: 24.8s\n",
            "2039:\ttotal: 52.6s\tremaining: 24.7s\n",
            "2040:\ttotal: 52.6s\tremaining: 24.7s\n",
            "2041:\ttotal: 52.6s\tremaining: 24.7s\n",
            "2042:\ttotal: 52.6s\tremaining: 24.7s\n",
            "2043:\ttotal: 52.7s\tremaining: 24.6s\n",
            "2044:\ttotal: 52.7s\tremaining: 24.6s\n",
            "2045:\ttotal: 52.7s\tremaining: 24.6s\n",
            "2046:\ttotal: 52.7s\tremaining: 24.5s\n",
            "2047:\ttotal: 52.8s\tremaining: 24.5s\n",
            "2048:\ttotal: 52.8s\tremaining: 24.5s\n",
            "2049:\ttotal: 52.8s\tremaining: 24.5s\n",
            "2050:\ttotal: 52.8s\tremaining: 24.4s\n",
            "2051:\ttotal: 52.9s\tremaining: 24.4s\n",
            "2052:\ttotal: 52.9s\tremaining: 24.4s\n",
            "2053:\ttotal: 52.9s\tremaining: 24.4s\n",
            "2054:\ttotal: 52.9s\tremaining: 24.3s\n",
            "2055:\ttotal: 53s\tremaining: 24.3s\n",
            "2056:\ttotal: 53s\tremaining: 24.3s\n",
            "2057:\ttotal: 53s\tremaining: 24.3s\n",
            "2058:\ttotal: 53s\tremaining: 24.2s\n",
            "2059:\ttotal: 53.1s\tremaining: 24.2s\n",
            "2060:\ttotal: 53.1s\tremaining: 24.2s\n",
            "2061:\ttotal: 53.1s\tremaining: 24.2s\n",
            "2062:\ttotal: 53.1s\tremaining: 24.1s\n",
            "2063:\ttotal: 53.1s\tremaining: 24.1s\n",
            "2064:\ttotal: 53.2s\tremaining: 24.1s\n",
            "2065:\ttotal: 53.2s\tremaining: 24s\n",
            "2066:\ttotal: 53.2s\tremaining: 24s\n",
            "2067:\ttotal: 53.2s\tremaining: 24s\n",
            "2068:\ttotal: 53.3s\tremaining: 24s\n",
            "2069:\ttotal: 53.3s\tremaining: 23.9s\n",
            "2070:\ttotal: 53.3s\tremaining: 23.9s\n",
            "2071:\ttotal: 53.4s\tremaining: 23.9s\n",
            "2072:\ttotal: 53.4s\tremaining: 23.9s\n",
            "2073:\ttotal: 53.4s\tremaining: 23.8s\n",
            "2074:\ttotal: 53.4s\tremaining: 23.8s\n",
            "2075:\ttotal: 53.5s\tremaining: 23.8s\n",
            "2076:\ttotal: 53.5s\tremaining: 23.8s\n",
            "2077:\ttotal: 53.5s\tremaining: 23.8s\n",
            "2078:\ttotal: 53.6s\tremaining: 23.7s\n",
            "2079:\ttotal: 53.6s\tremaining: 23.7s\n",
            "2080:\ttotal: 53.6s\tremaining: 23.7s\n",
            "2081:\ttotal: 53.6s\tremaining: 23.7s\n",
            "2082:\ttotal: 53.7s\tremaining: 23.6s\n",
            "2083:\ttotal: 53.7s\tremaining: 23.6s\n",
            "2084:\ttotal: 53.7s\tremaining: 23.6s\n",
            "2085:\ttotal: 53.7s\tremaining: 23.5s\n",
            "2086:\ttotal: 53.7s\tremaining: 23.5s\n",
            "2087:\ttotal: 53.8s\tremaining: 23.5s\n",
            "2088:\ttotal: 53.8s\tremaining: 23.5s\n",
            "2089:\ttotal: 53.8s\tremaining: 23.4s\n",
            "2090:\ttotal: 53.8s\tremaining: 23.4s\n",
            "2091:\ttotal: 53.9s\tremaining: 23.4s\n",
            "2092:\ttotal: 53.9s\tremaining: 23.4s\n",
            "2093:\ttotal: 53.9s\tremaining: 23.3s\n",
            "2094:\ttotal: 53.9s\tremaining: 23.3s\n",
            "2095:\ttotal: 54s\tremaining: 23.3s\n",
            "2096:\ttotal: 54s\tremaining: 23.2s\n",
            "2097:\ttotal: 54s\tremaining: 23.2s\n",
            "2098:\ttotal: 54s\tremaining: 23.2s\n",
            "2099:\ttotal: 54s\tremaining: 23.2s\n",
            "2100:\ttotal: 54.1s\tremaining: 23.1s\n",
            "2101:\ttotal: 54.1s\tremaining: 23.1s\n",
            "2102:\ttotal: 54.1s\tremaining: 23.1s\n",
            "2103:\ttotal: 54.1s\tremaining: 23.1s\n",
            "2104:\ttotal: 54.2s\tremaining: 23s\n",
            "2105:\ttotal: 54.2s\tremaining: 23s\n",
            "2106:\ttotal: 54.2s\tremaining: 23s\n",
            "2107:\ttotal: 54.2s\tremaining: 22.9s\n",
            "2108:\ttotal: 54.2s\tremaining: 22.9s\n",
            "2109:\ttotal: 54.3s\tremaining: 22.9s\n",
            "2110:\ttotal: 54.3s\tremaining: 22.9s\n",
            "2111:\ttotal: 54.3s\tremaining: 22.8s\n",
            "2112:\ttotal: 54.3s\tremaining: 22.8s\n",
            "2113:\ttotal: 54.4s\tremaining: 22.8s\n",
            "2114:\ttotal: 54.4s\tremaining: 22.8s\n",
            "2115:\ttotal: 54.4s\tremaining: 22.7s\n",
            "2116:\ttotal: 54.4s\tremaining: 22.7s\n",
            "2117:\ttotal: 54.4s\tremaining: 22.7s\n",
            "2118:\ttotal: 54.5s\tremaining: 22.6s\n",
            "2119:\ttotal: 54.5s\tremaining: 22.6s\n",
            "2120:\ttotal: 54.5s\tremaining: 22.6s\n",
            "2121:\ttotal: 54.5s\tremaining: 22.6s\n",
            "2122:\ttotal: 54.5s\tremaining: 22.5s\n",
            "2123:\ttotal: 54.6s\tremaining: 22.5s\n",
            "2124:\ttotal: 54.6s\tremaining: 22.5s\n",
            "2125:\ttotal: 54.6s\tremaining: 22.4s\n",
            "2126:\ttotal: 54.6s\tremaining: 22.4s\n",
            "2127:\ttotal: 54.7s\tremaining: 22.4s\n",
            "2128:\ttotal: 54.7s\tremaining: 22.4s\n",
            "2129:\ttotal: 54.7s\tremaining: 22.4s\n",
            "2130:\ttotal: 54.8s\tremaining: 22.3s\n",
            "2131:\ttotal: 54.8s\tremaining: 22.3s\n",
            "2132:\ttotal: 54.8s\tremaining: 22.3s\n",
            "2133:\ttotal: 54.9s\tremaining: 22.3s\n",
            "2134:\ttotal: 54.9s\tremaining: 22.2s\n",
            "2135:\ttotal: 54.9s\tremaining: 22.2s\n",
            "2136:\ttotal: 54.9s\tremaining: 22.2s\n",
            "2137:\ttotal: 55s\tremaining: 22.2s\n",
            "2138:\ttotal: 55s\tremaining: 22.1s\n",
            "2139:\ttotal: 55s\tremaining: 22.1s\n",
            "2140:\ttotal: 55s\tremaining: 22.1s\n",
            "2141:\ttotal: 55s\tremaining: 22s\n",
            "2142:\ttotal: 55.1s\tremaining: 22s\n",
            "2143:\ttotal: 55.1s\tremaining: 22s\n",
            "2144:\ttotal: 55.1s\tremaining: 22s\n",
            "2145:\ttotal: 55.1s\tremaining: 21.9s\n",
            "2146:\ttotal: 55.2s\tremaining: 21.9s\n",
            "2147:\ttotal: 55.2s\tremaining: 21.9s\n",
            "2148:\ttotal: 55.2s\tremaining: 21.9s\n",
            "2149:\ttotal: 55.2s\tremaining: 21.8s\n",
            "2150:\ttotal: 55.2s\tremaining: 21.8s\n",
            "2151:\ttotal: 55.3s\tremaining: 21.8s\n",
            "2152:\ttotal: 55.3s\tremaining: 21.7s\n",
            "2153:\ttotal: 55.3s\tremaining: 21.7s\n",
            "2154:\ttotal: 55.3s\tremaining: 21.7s\n",
            "2155:\ttotal: 55.4s\tremaining: 21.7s\n",
            "2156:\ttotal: 55.4s\tremaining: 21.6s\n",
            "2157:\ttotal: 55.4s\tremaining: 21.6s\n",
            "2158:\ttotal: 55.4s\tremaining: 21.6s\n",
            "2159:\ttotal: 55.4s\tremaining: 21.6s\n",
            "2160:\ttotal: 55.5s\tremaining: 21.5s\n",
            "2161:\ttotal: 55.5s\tremaining: 21.5s\n",
            "2162:\ttotal: 55.5s\tremaining: 21.5s\n",
            "2163:\ttotal: 55.5s\tremaining: 21.5s\n",
            "2164:\ttotal: 55.6s\tremaining: 21.4s\n",
            "2165:\ttotal: 55.6s\tremaining: 21.4s\n",
            "2166:\ttotal: 55.6s\tremaining: 21.4s\n",
            "2167:\ttotal: 55.6s\tremaining: 21.3s\n",
            "2168:\ttotal: 55.7s\tremaining: 21.3s\n",
            "2169:\ttotal: 55.7s\tremaining: 21.3s\n",
            "2170:\ttotal: 55.7s\tremaining: 21.3s\n",
            "2171:\ttotal: 55.7s\tremaining: 21.2s\n",
            "2172:\ttotal: 55.7s\tremaining: 21.2s\n",
            "2173:\ttotal: 55.8s\tremaining: 21.2s\n",
            "2174:\ttotal: 55.8s\tremaining: 21.2s\n",
            "2175:\ttotal: 55.8s\tremaining: 21.1s\n",
            "2176:\ttotal: 55.9s\tremaining: 21.1s\n",
            "2177:\ttotal: 55.9s\tremaining: 21.1s\n",
            "2178:\ttotal: 55.9s\tremaining: 21.1s\n",
            "2179:\ttotal: 55.9s\tremaining: 21s\n",
            "2180:\ttotal: 55.9s\tremaining: 21s\n",
            "2181:\ttotal: 56s\tremaining: 21s\n",
            "2182:\ttotal: 56s\tremaining: 21s\n",
            "2183:\ttotal: 56s\tremaining: 20.9s\n",
            "2184:\ttotal: 56s\tremaining: 20.9s\n",
            "2185:\ttotal: 56.1s\tremaining: 20.9s\n",
            "2186:\ttotal: 56.1s\tremaining: 20.8s\n",
            "2187:\ttotal: 56.1s\tremaining: 20.8s\n",
            "2188:\ttotal: 56.1s\tremaining: 20.8s\n",
            "2189:\ttotal: 56.1s\tremaining: 20.8s\n",
            "2190:\ttotal: 56.2s\tremaining: 20.7s\n",
            "2191:\ttotal: 56.2s\tremaining: 20.7s\n",
            "2192:\ttotal: 56.2s\tremaining: 20.7s\n",
            "2193:\ttotal: 56.2s\tremaining: 20.7s\n",
            "2194:\ttotal: 56.3s\tremaining: 20.6s\n",
            "2195:\ttotal: 56.3s\tremaining: 20.6s\n",
            "2196:\ttotal: 56.3s\tremaining: 20.6s\n",
            "2197:\ttotal: 56.3s\tremaining: 20.6s\n",
            "2198:\ttotal: 56.3s\tremaining: 20.5s\n",
            "2199:\ttotal: 56.4s\tremaining: 20.5s\n",
            "2200:\ttotal: 56.4s\tremaining: 20.5s\n",
            "2201:\ttotal: 56.4s\tremaining: 20.4s\n",
            "2202:\ttotal: 56.4s\tremaining: 20.4s\n",
            "2203:\ttotal: 56.5s\tremaining: 20.4s\n",
            "2204:\ttotal: 56.5s\tremaining: 20.4s\n",
            "2205:\ttotal: 56.5s\tremaining: 20.3s\n",
            "2206:\ttotal: 56.5s\tremaining: 20.3s\n",
            "2207:\ttotal: 56.5s\tremaining: 20.3s\n",
            "2208:\ttotal: 56.6s\tremaining: 20.3s\n",
            "2209:\ttotal: 56.6s\tremaining: 20.2s\n",
            "2210:\ttotal: 56.6s\tremaining: 20.2s\n",
            "2211:\ttotal: 56.6s\tremaining: 20.2s\n",
            "2212:\ttotal: 56.7s\tremaining: 20.1s\n",
            "2213:\ttotal: 56.7s\tremaining: 20.1s\n",
            "2214:\ttotal: 56.7s\tremaining: 20.1s\n",
            "2215:\ttotal: 56.7s\tremaining: 20.1s\n",
            "2216:\ttotal: 56.8s\tremaining: 20s\n",
            "2217:\ttotal: 56.8s\tremaining: 20s\n",
            "2218:\ttotal: 56.8s\tremaining: 20s\n",
            "2219:\ttotal: 56.8s\tremaining: 20s\n",
            "2220:\ttotal: 56.8s\tremaining: 19.9s\n",
            "2221:\ttotal: 56.9s\tremaining: 19.9s\n",
            "2222:\ttotal: 56.9s\tremaining: 19.9s\n",
            "2223:\ttotal: 56.9s\tremaining: 19.9s\n",
            "2224:\ttotal: 57s\tremaining: 19.8s\n",
            "2225:\ttotal: 57s\tremaining: 19.8s\n",
            "2226:\ttotal: 57s\tremaining: 19.8s\n",
            "2227:\ttotal: 57s\tremaining: 19.8s\n",
            "2228:\ttotal: 57s\tremaining: 19.7s\n",
            "2229:\ttotal: 57.1s\tremaining: 19.7s\n",
            "2230:\ttotal: 57.1s\tremaining: 19.7s\n",
            "2231:\ttotal: 57.1s\tremaining: 19.7s\n",
            "2232:\ttotal: 57.1s\tremaining: 19.6s\n",
            "2233:\ttotal: 57.2s\tremaining: 19.6s\n",
            "2234:\ttotal: 57.2s\tremaining: 19.6s\n",
            "2235:\ttotal: 57.2s\tremaining: 19.5s\n",
            "2236:\ttotal: 57.2s\tremaining: 19.5s\n",
            "2237:\ttotal: 57.3s\tremaining: 19.5s\n",
            "2238:\ttotal: 57.3s\tremaining: 19.5s\n",
            "2239:\ttotal: 57.3s\tremaining: 19.4s\n",
            "2240:\ttotal: 57.3s\tremaining: 19.4s\n",
            "2241:\ttotal: 57.4s\tremaining: 19.4s\n",
            "2242:\ttotal: 57.4s\tremaining: 19.4s\n",
            "2243:\ttotal: 57.4s\tremaining: 19.4s\n",
            "2244:\ttotal: 57.5s\tremaining: 19.3s\n",
            "2245:\ttotal: 57.5s\tremaining: 19.3s\n",
            "2246:\ttotal: 57.5s\tremaining: 19.3s\n",
            "2247:\ttotal: 57.5s\tremaining: 19.2s\n",
            "2248:\ttotal: 57.6s\tremaining: 19.2s\n",
            "2249:\ttotal: 57.6s\tremaining: 19.2s\n",
            "2250:\ttotal: 57.6s\tremaining: 19.2s\n",
            "2251:\ttotal: 57.6s\tremaining: 19.1s\n",
            "2252:\ttotal: 57.7s\tremaining: 19.1s\n",
            "2253:\ttotal: 57.7s\tremaining: 19.1s\n",
            "2254:\ttotal: 57.7s\tremaining: 19.1s\n",
            "2255:\ttotal: 57.7s\tremaining: 19s\n",
            "2256:\ttotal: 57.7s\tremaining: 19s\n",
            "2257:\ttotal: 57.8s\tremaining: 19s\n",
            "2258:\ttotal: 57.8s\tremaining: 19s\n",
            "2259:\ttotal: 57.8s\tremaining: 18.9s\n",
            "2260:\ttotal: 57.8s\tremaining: 18.9s\n",
            "2261:\ttotal: 57.8s\tremaining: 18.9s\n",
            "2262:\ttotal: 57.9s\tremaining: 18.8s\n",
            "2263:\ttotal: 57.9s\tremaining: 18.8s\n",
            "2264:\ttotal: 57.9s\tremaining: 18.8s\n",
            "2265:\ttotal: 57.9s\tremaining: 18.8s\n",
            "2266:\ttotal: 58s\tremaining: 18.7s\n",
            "2267:\ttotal: 58s\tremaining: 18.7s\n",
            "2268:\ttotal: 58s\tremaining: 18.7s\n",
            "2269:\ttotal: 58s\tremaining: 18.7s\n",
            "2270:\ttotal: 58s\tremaining: 18.6s\n",
            "2271:\ttotal: 58.1s\tremaining: 18.6s\n",
            "2272:\ttotal: 58.1s\tremaining: 18.6s\n",
            "2273:\ttotal: 58.1s\tremaining: 18.6s\n",
            "2274:\ttotal: 58.1s\tremaining: 18.5s\n",
            "2275:\ttotal: 58.2s\tremaining: 18.5s\n",
            "2276:\ttotal: 58.2s\tremaining: 18.5s\n",
            "2277:\ttotal: 58.2s\tremaining: 18.4s\n",
            "2278:\ttotal: 58.2s\tremaining: 18.4s\n",
            "2279:\ttotal: 58.2s\tremaining: 18.4s\n",
            "2280:\ttotal: 58.3s\tremaining: 18.4s\n",
            "2281:\ttotal: 58.3s\tremaining: 18.3s\n",
            "2282:\ttotal: 58.3s\tremaining: 18.3s\n",
            "2283:\ttotal: 58.3s\tremaining: 18.3s\n",
            "2284:\ttotal: 58.3s\tremaining: 18.3s\n",
            "2285:\ttotal: 58.4s\tremaining: 18.2s\n",
            "2286:\ttotal: 58.4s\tremaining: 18.2s\n",
            "2287:\ttotal: 58.4s\tremaining: 18.2s\n",
            "2288:\ttotal: 58.4s\tremaining: 18.2s\n",
            "2289:\ttotal: 58.5s\tremaining: 18.1s\n",
            "2290:\ttotal: 58.5s\tremaining: 18.1s\n",
            "2291:\ttotal: 58.5s\tremaining: 18.1s\n",
            "2292:\ttotal: 58.5s\tremaining: 18s\n",
            "2293:\ttotal: 58.5s\tremaining: 18s\n",
            "2294:\ttotal: 58.6s\tremaining: 18s\n",
            "2295:\ttotal: 58.6s\tremaining: 18s\n",
            "2296:\ttotal: 58.6s\tremaining: 17.9s\n",
            "2297:\ttotal: 58.6s\tremaining: 17.9s\n",
            "2298:\ttotal: 58.7s\tremaining: 17.9s\n",
            "2299:\ttotal: 58.7s\tremaining: 17.9s\n",
            "2300:\ttotal: 58.7s\tremaining: 17.8s\n",
            "2301:\ttotal: 58.7s\tremaining: 17.8s\n",
            "2302:\ttotal: 58.7s\tremaining: 17.8s\n",
            "2303:\ttotal: 58.8s\tremaining: 17.8s\n",
            "2304:\ttotal: 58.8s\tremaining: 17.7s\n",
            "2305:\ttotal: 58.8s\tremaining: 17.7s\n",
            "2306:\ttotal: 58.8s\tremaining: 17.7s\n",
            "2307:\ttotal: 58.9s\tremaining: 17.6s\n",
            "2308:\ttotal: 58.9s\tremaining: 17.6s\n",
            "2309:\ttotal: 58.9s\tremaining: 17.6s\n",
            "2310:\ttotal: 58.9s\tremaining: 17.6s\n",
            "2311:\ttotal: 59s\tremaining: 17.5s\n",
            "2312:\ttotal: 59s\tremaining: 17.5s\n",
            "2313:\ttotal: 59s\tremaining: 17.5s\n",
            "2314:\ttotal: 59s\tremaining: 17.5s\n",
            "2315:\ttotal: 59.1s\tremaining: 17.4s\n",
            "2316:\ttotal: 59.1s\tremaining: 17.4s\n",
            "2317:\ttotal: 59.1s\tremaining: 17.4s\n",
            "2318:\ttotal: 59.1s\tremaining: 17.4s\n",
            "2319:\ttotal: 59.2s\tremaining: 17.3s\n",
            "2320:\ttotal: 59.2s\tremaining: 17.3s\n",
            "2321:\ttotal: 59.2s\tremaining: 17.3s\n",
            "2322:\ttotal: 59.2s\tremaining: 17.3s\n",
            "2323:\ttotal: 59.2s\tremaining: 17.2s\n",
            "2324:\ttotal: 59.3s\tremaining: 17.2s\n",
            "2325:\ttotal: 59.3s\tremaining: 17.2s\n",
            "2326:\ttotal: 59.3s\tremaining: 17.2s\n",
            "2327:\ttotal: 59.3s\tremaining: 17.1s\n",
            "2328:\ttotal: 59.4s\tremaining: 17.1s\n",
            "2329:\ttotal: 59.4s\tremaining: 17.1s\n",
            "2330:\ttotal: 59.4s\tremaining: 17.1s\n",
            "2331:\ttotal: 59.4s\tremaining: 17s\n",
            "2332:\ttotal: 59.5s\tremaining: 17s\n",
            "2333:\ttotal: 59.5s\tremaining: 17s\n",
            "2334:\ttotal: 59.5s\tremaining: 16.9s\n",
            "2335:\ttotal: 59.5s\tremaining: 16.9s\n",
            "2336:\ttotal: 59.5s\tremaining: 16.9s\n",
            "2337:\ttotal: 59.6s\tremaining: 16.9s\n",
            "2338:\ttotal: 59.6s\tremaining: 16.8s\n",
            "2339:\ttotal: 59.6s\tremaining: 16.8s\n",
            "2340:\ttotal: 59.6s\tremaining: 16.8s\n",
            "2341:\ttotal: 59.6s\tremaining: 16.8s\n",
            "2342:\ttotal: 59.7s\tremaining: 16.7s\n",
            "2343:\ttotal: 59.7s\tremaining: 16.7s\n",
            "2344:\ttotal: 59.7s\tremaining: 16.7s\n",
            "2345:\ttotal: 59.7s\tremaining: 16.7s\n",
            "2346:\ttotal: 59.8s\tremaining: 16.6s\n",
            "2347:\ttotal: 59.8s\tremaining: 16.6s\n",
            "2348:\ttotal: 59.8s\tremaining: 16.6s\n",
            "2349:\ttotal: 59.8s\tremaining: 16.5s\n",
            "2350:\ttotal: 59.8s\tremaining: 16.5s\n",
            "2351:\ttotal: 59.9s\tremaining: 16.5s\n",
            "2352:\ttotal: 59.9s\tremaining: 16.5s\n",
            "2353:\ttotal: 59.9s\tremaining: 16.4s\n",
            "2354:\ttotal: 59.9s\tremaining: 16.4s\n",
            "2355:\ttotal: 60s\tremaining: 16.4s\n",
            "2356:\ttotal: 60s\tremaining: 16.4s\n",
            "2357:\ttotal: 60s\tremaining: 16.3s\n",
            "2358:\ttotal: 1m\tremaining: 16.3s\n",
            "2359:\ttotal: 1m\tremaining: 16.3s\n",
            "2360:\ttotal: 1m\tremaining: 16.3s\n",
            "2361:\ttotal: 1m\tremaining: 16.2s\n",
            "2362:\ttotal: 1m\tremaining: 16.2s\n",
            "2363:\ttotal: 1m\tremaining: 16.2s\n",
            "2364:\ttotal: 1m\tremaining: 16.2s\n",
            "2365:\ttotal: 1m\tremaining: 16.1s\n",
            "2366:\ttotal: 1m\tremaining: 16.1s\n",
            "2367:\ttotal: 1m\tremaining: 16.1s\n",
            "2368:\ttotal: 1m\tremaining: 16s\n",
            "2369:\ttotal: 1m\tremaining: 16s\n",
            "2370:\ttotal: 1m\tremaining: 16s\n",
            "2371:\ttotal: 1m\tremaining: 16s\n",
            "2372:\ttotal: 1m\tremaining: 15.9s\n",
            "2373:\ttotal: 1m\tremaining: 15.9s\n",
            "2374:\ttotal: 1m\tremaining: 15.9s\n",
            "2375:\ttotal: 1m\tremaining: 15.9s\n",
            "2376:\ttotal: 1m\tremaining: 15.8s\n",
            "2377:\ttotal: 1m\tremaining: 15.8s\n",
            "2378:\ttotal: 1m\tremaining: 15.8s\n",
            "2379:\ttotal: 1m\tremaining: 15.8s\n",
            "2380:\ttotal: 1m\tremaining: 15.7s\n",
            "2381:\ttotal: 1m\tremaining: 15.7s\n",
            "2382:\ttotal: 1m\tremaining: 15.7s\n",
            "2383:\ttotal: 1m\tremaining: 15.7s\n",
            "2384:\ttotal: 1m\tremaining: 15.6s\n",
            "2385:\ttotal: 1m\tremaining: 15.6s\n",
            "2386:\ttotal: 1m\tremaining: 15.6s\n",
            "2387:\ttotal: 1m\tremaining: 15.6s\n",
            "2388:\ttotal: 1m\tremaining: 15.5s\n",
            "2389:\ttotal: 1m\tremaining: 15.5s\n",
            "2390:\ttotal: 1m\tremaining: 15.5s\n",
            "2391:\ttotal: 1m\tremaining: 15.5s\n",
            "2392:\ttotal: 1m\tremaining: 15.4s\n",
            "2393:\ttotal: 1m\tremaining: 15.4s\n",
            "2394:\ttotal: 1m\tremaining: 15.4s\n",
            "2395:\ttotal: 1m\tremaining: 15.3s\n",
            "2396:\ttotal: 1m\tremaining: 15.3s\n",
            "2397:\ttotal: 1m\tremaining: 15.3s\n",
            "2398:\ttotal: 1m\tremaining: 15.3s\n",
            "2399:\ttotal: 1m\tremaining: 15.2s\n",
            "2400:\ttotal: 1m\tremaining: 15.2s\n",
            "2401:\ttotal: 1m 1s\tremaining: 15.2s\n",
            "2402:\ttotal: 1m 1s\tremaining: 15.2s\n",
            "2403:\ttotal: 1m 1s\tremaining: 15.1s\n",
            "2404:\ttotal: 1m 1s\tremaining: 15.1s\n",
            "2405:\ttotal: 1m 1s\tremaining: 15.1s\n",
            "2406:\ttotal: 1m 1s\tremaining: 15.1s\n",
            "2407:\ttotal: 1m 1s\tremaining: 15s\n",
            "2408:\ttotal: 1m 1s\tremaining: 15s\n",
            "2409:\ttotal: 1m 1s\tremaining: 15s\n",
            "2410:\ttotal: 1m 1s\tremaining: 15s\n",
            "2411:\ttotal: 1m 1s\tremaining: 14.9s\n",
            "2412:\ttotal: 1m 1s\tremaining: 14.9s\n",
            "2413:\ttotal: 1m 1s\tremaining: 14.9s\n",
            "2414:\ttotal: 1m 1s\tremaining: 14.8s\n",
            "2415:\ttotal: 1m 1s\tremaining: 14.8s\n",
            "2416:\ttotal: 1m 1s\tremaining: 14.8s\n",
            "2417:\ttotal: 1m 1s\tremaining: 14.8s\n",
            "2418:\ttotal: 1m 1s\tremaining: 14.7s\n",
            "2419:\ttotal: 1m 1s\tremaining: 14.7s\n",
            "2420:\ttotal: 1m 1s\tremaining: 14.7s\n",
            "2421:\ttotal: 1m 1s\tremaining: 14.7s\n",
            "2422:\ttotal: 1m 1s\tremaining: 14.6s\n",
            "2423:\ttotal: 1m 1s\tremaining: 14.6s\n",
            "2424:\ttotal: 1m 1s\tremaining: 14.6s\n",
            "2425:\ttotal: 1m 1s\tremaining: 14.6s\n",
            "2426:\ttotal: 1m 1s\tremaining: 14.5s\n",
            "2427:\ttotal: 1m 1s\tremaining: 14.5s\n",
            "2428:\ttotal: 1m 1s\tremaining: 14.5s\n",
            "2429:\ttotal: 1m 1s\tremaining: 14.5s\n",
            "2430:\ttotal: 1m 1s\tremaining: 14.4s\n",
            "2431:\ttotal: 1m 1s\tremaining: 14.4s\n",
            "2432:\ttotal: 1m 1s\tremaining: 14.4s\n",
            "2433:\ttotal: 1m 1s\tremaining: 14.4s\n",
            "2434:\ttotal: 1m 1s\tremaining: 14.3s\n",
            "2435:\ttotal: 1m 1s\tremaining: 14.3s\n",
            "2436:\ttotal: 1m 1s\tremaining: 14.3s\n",
            "2437:\ttotal: 1m 1s\tremaining: 14.3s\n",
            "2438:\ttotal: 1m 1s\tremaining: 14.2s\n",
            "2439:\ttotal: 1m 1s\tremaining: 14.2s\n",
            "2440:\ttotal: 1m 1s\tremaining: 14.2s\n",
            "2441:\ttotal: 1m 1s\tremaining: 14.1s\n",
            "2442:\ttotal: 1m 1s\tremaining: 14.1s\n",
            "2443:\ttotal: 1m 1s\tremaining: 14.1s\n",
            "2444:\ttotal: 1m 1s\tremaining: 14.1s\n",
            "2445:\ttotal: 1m 1s\tremaining: 14s\n",
            "2446:\ttotal: 1m 2s\tremaining: 14s\n",
            "2447:\ttotal: 1m 2s\tremaining: 14s\n",
            "2448:\ttotal: 1m 2s\tremaining: 14s\n",
            "2449:\ttotal: 1m 2s\tremaining: 13.9s\n",
            "2450:\ttotal: 1m 2s\tremaining: 13.9s\n",
            "2451:\ttotal: 1m 2s\tremaining: 13.9s\n",
            "2452:\ttotal: 1m 2s\tremaining: 13.9s\n",
            "2453:\ttotal: 1m 2s\tremaining: 13.8s\n",
            "2454:\ttotal: 1m 2s\tremaining: 13.8s\n",
            "2455:\ttotal: 1m 2s\tremaining: 13.8s\n",
            "2456:\ttotal: 1m 2s\tremaining: 13.8s\n",
            "2457:\ttotal: 1m 2s\tremaining: 13.7s\n",
            "2458:\ttotal: 1m 2s\tremaining: 13.7s\n",
            "2459:\ttotal: 1m 2s\tremaining: 13.7s\n",
            "2460:\ttotal: 1m 2s\tremaining: 13.7s\n",
            "2461:\ttotal: 1m 2s\tremaining: 13.6s\n",
            "2462:\ttotal: 1m 2s\tremaining: 13.6s\n",
            "2463:\ttotal: 1m 2s\tremaining: 13.6s\n",
            "2464:\ttotal: 1m 2s\tremaining: 13.5s\n",
            "2465:\ttotal: 1m 2s\tremaining: 13.5s\n",
            "2466:\ttotal: 1m 2s\tremaining: 13.5s\n",
            "2467:\ttotal: 1m 2s\tremaining: 13.5s\n",
            "2468:\ttotal: 1m 2s\tremaining: 13.4s\n",
            "2469:\ttotal: 1m 2s\tremaining: 13.4s\n",
            "2470:\ttotal: 1m 2s\tremaining: 13.4s\n",
            "2471:\ttotal: 1m 2s\tremaining: 13.4s\n",
            "2472:\ttotal: 1m 2s\tremaining: 13.3s\n",
            "2473:\ttotal: 1m 2s\tremaining: 13.3s\n",
            "2474:\ttotal: 1m 2s\tremaining: 13.3s\n",
            "2475:\ttotal: 1m 2s\tremaining: 13.3s\n",
            "2476:\ttotal: 1m 2s\tremaining: 13.2s\n",
            "2477:\ttotal: 1m 2s\tremaining: 13.2s\n",
            "2478:\ttotal: 1m 2s\tremaining: 13.2s\n",
            "2479:\ttotal: 1m 2s\tremaining: 13.2s\n",
            "2480:\ttotal: 1m 2s\tremaining: 13.1s\n",
            "2481:\ttotal: 1m 2s\tremaining: 13.1s\n",
            "2482:\ttotal: 1m 2s\tremaining: 13.1s\n",
            "2483:\ttotal: 1m 2s\tremaining: 13.1s\n",
            "2484:\ttotal: 1m 2s\tremaining: 13s\n",
            "2485:\ttotal: 1m 2s\tremaining: 13s\n",
            "2486:\ttotal: 1m 2s\tremaining: 13s\n",
            "2487:\ttotal: 1m 2s\tremaining: 12.9s\n",
            "2488:\ttotal: 1m 2s\tremaining: 12.9s\n",
            "2489:\ttotal: 1m 2s\tremaining: 12.9s\n",
            "2490:\ttotal: 1m 3s\tremaining: 12.9s\n",
            "2491:\ttotal: 1m 3s\tremaining: 12.8s\n",
            "2492:\ttotal: 1m 3s\tremaining: 12.8s\n",
            "2493:\ttotal: 1m 3s\tremaining: 12.8s\n",
            "2494:\ttotal: 1m 3s\tremaining: 12.8s\n",
            "2495:\ttotal: 1m 3s\tremaining: 12.8s\n",
            "2496:\ttotal: 1m 3s\tremaining: 12.7s\n",
            "2497:\ttotal: 1m 3s\tremaining: 12.7s\n",
            "2498:\ttotal: 1m 3s\tremaining: 12.7s\n",
            "2499:\ttotal: 1m 3s\tremaining: 12.7s\n",
            "2500:\ttotal: 1m 3s\tremaining: 12.6s\n",
            "2501:\ttotal: 1m 3s\tremaining: 12.6s\n",
            "2502:\ttotal: 1m 3s\tremaining: 12.6s\n",
            "2503:\ttotal: 1m 3s\tremaining: 12.5s\n",
            "2504:\ttotal: 1m 3s\tremaining: 12.5s\n",
            "2505:\ttotal: 1m 3s\tremaining: 12.5s\n",
            "2506:\ttotal: 1m 3s\tremaining: 12.5s\n",
            "2507:\ttotal: 1m 3s\tremaining: 12.4s\n",
            "2508:\ttotal: 1m 3s\tremaining: 12.4s\n",
            "2509:\ttotal: 1m 3s\tremaining: 12.4s\n",
            "2510:\ttotal: 1m 3s\tremaining: 12.4s\n",
            "2511:\ttotal: 1m 3s\tremaining: 12.3s\n",
            "2512:\ttotal: 1m 3s\tremaining: 12.3s\n",
            "2513:\ttotal: 1m 3s\tremaining: 12.3s\n",
            "2514:\ttotal: 1m 3s\tremaining: 12.3s\n",
            "2515:\ttotal: 1m 3s\tremaining: 12.2s\n",
            "2516:\ttotal: 1m 3s\tremaining: 12.2s\n",
            "2517:\ttotal: 1m 3s\tremaining: 12.2s\n",
            "2518:\ttotal: 1m 3s\tremaining: 12.2s\n",
            "2519:\ttotal: 1m 3s\tremaining: 12.1s\n",
            "2520:\ttotal: 1m 3s\tremaining: 12.1s\n",
            "2521:\ttotal: 1m 3s\tremaining: 12.1s\n",
            "2522:\ttotal: 1m 3s\tremaining: 12.1s\n",
            "2523:\ttotal: 1m 3s\tremaining: 12s\n",
            "2524:\ttotal: 1m 3s\tremaining: 12s\n",
            "2525:\ttotal: 1m 3s\tremaining: 12s\n",
            "2526:\ttotal: 1m 3s\tremaining: 12s\n",
            "2527:\ttotal: 1m 3s\tremaining: 11.9s\n",
            "2528:\ttotal: 1m 3s\tremaining: 11.9s\n",
            "2529:\ttotal: 1m 3s\tremaining: 11.9s\n",
            "2530:\ttotal: 1m 3s\tremaining: 11.9s\n",
            "2531:\ttotal: 1m 3s\tremaining: 11.8s\n",
            "2532:\ttotal: 1m 4s\tremaining: 11.8s\n",
            "2533:\ttotal: 1m 4s\tremaining: 11.8s\n",
            "2534:\ttotal: 1m 4s\tremaining: 11.8s\n",
            "2535:\ttotal: 1m 4s\tremaining: 11.7s\n",
            "2536:\ttotal: 1m 4s\tremaining: 11.7s\n",
            "2537:\ttotal: 1m 4s\tremaining: 11.7s\n",
            "2538:\ttotal: 1m 4s\tremaining: 11.6s\n",
            "2539:\ttotal: 1m 4s\tremaining: 11.6s\n",
            "2540:\ttotal: 1m 4s\tremaining: 11.6s\n",
            "2541:\ttotal: 1m 4s\tremaining: 11.6s\n",
            "2542:\ttotal: 1m 4s\tremaining: 11.5s\n",
            "2543:\ttotal: 1m 4s\tremaining: 11.5s\n",
            "2544:\ttotal: 1m 4s\tremaining: 11.5s\n",
            "2545:\ttotal: 1m 4s\tremaining: 11.5s\n",
            "2546:\ttotal: 1m 4s\tremaining: 11.4s\n",
            "2547:\ttotal: 1m 4s\tremaining: 11.4s\n",
            "2548:\ttotal: 1m 4s\tremaining: 11.4s\n",
            "2549:\ttotal: 1m 4s\tremaining: 11.4s\n",
            "2550:\ttotal: 1m 4s\tremaining: 11.3s\n",
            "2551:\ttotal: 1m 4s\tremaining: 11.3s\n",
            "2552:\ttotal: 1m 4s\tremaining: 11.3s\n",
            "2553:\ttotal: 1m 4s\tremaining: 11.3s\n",
            "2554:\ttotal: 1m 4s\tremaining: 11.2s\n",
            "2555:\ttotal: 1m 4s\tremaining: 11.2s\n",
            "2556:\ttotal: 1m 4s\tremaining: 11.2s\n",
            "2557:\ttotal: 1m 4s\tremaining: 11.2s\n",
            "2558:\ttotal: 1m 4s\tremaining: 11.1s\n",
            "2559:\ttotal: 1m 4s\tremaining: 11.1s\n",
            "2560:\ttotal: 1m 4s\tremaining: 11.1s\n",
            "2561:\ttotal: 1m 4s\tremaining: 11.1s\n",
            "2562:\ttotal: 1m 4s\tremaining: 11s\n",
            "2563:\ttotal: 1m 4s\tremaining: 11s\n",
            "2564:\ttotal: 1m 4s\tremaining: 11s\n",
            "2565:\ttotal: 1m 4s\tremaining: 11s\n",
            "2566:\ttotal: 1m 4s\tremaining: 10.9s\n",
            "2567:\ttotal: 1m 4s\tremaining: 10.9s\n",
            "2568:\ttotal: 1m 4s\tremaining: 10.9s\n",
            "2569:\ttotal: 1m 4s\tremaining: 10.8s\n",
            "2570:\ttotal: 1m 4s\tremaining: 10.8s\n",
            "2571:\ttotal: 1m 4s\tremaining: 10.8s\n",
            "2572:\ttotal: 1m 4s\tremaining: 10.8s\n",
            "2573:\ttotal: 1m 4s\tremaining: 10.7s\n",
            "2574:\ttotal: 1m 4s\tremaining: 10.7s\n",
            "2575:\ttotal: 1m 4s\tremaining: 10.7s\n",
            "2576:\ttotal: 1m 4s\tremaining: 10.7s\n",
            "2577:\ttotal: 1m 5s\tremaining: 10.6s\n",
            "2578:\ttotal: 1m 5s\tremaining: 10.6s\n",
            "2579:\ttotal: 1m 5s\tremaining: 10.6s\n",
            "2580:\ttotal: 1m 5s\tremaining: 10.6s\n",
            "2581:\ttotal: 1m 5s\tremaining: 10.5s\n",
            "2582:\ttotal: 1m 5s\tremaining: 10.5s\n",
            "2583:\ttotal: 1m 5s\tremaining: 10.5s\n",
            "2584:\ttotal: 1m 5s\tremaining: 10.5s\n",
            "2585:\ttotal: 1m 5s\tremaining: 10.4s\n",
            "2586:\ttotal: 1m 5s\tremaining: 10.4s\n",
            "2587:\ttotal: 1m 5s\tremaining: 10.4s\n",
            "2588:\ttotal: 1m 5s\tremaining: 10.4s\n",
            "2589:\ttotal: 1m 5s\tremaining: 10.3s\n",
            "2590:\ttotal: 1m 5s\tremaining: 10.3s\n",
            "2591:\ttotal: 1m 5s\tremaining: 10.3s\n",
            "2592:\ttotal: 1m 5s\tremaining: 10.3s\n",
            "2593:\ttotal: 1m 5s\tremaining: 10.2s\n",
            "2594:\ttotal: 1m 5s\tremaining: 10.2s\n",
            "2595:\ttotal: 1m 5s\tremaining: 10.2s\n",
            "2596:\ttotal: 1m 5s\tremaining: 10.2s\n",
            "2597:\ttotal: 1m 5s\tremaining: 10.1s\n",
            "2598:\ttotal: 1m 5s\tremaining: 10.1s\n",
            "2599:\ttotal: 1m 5s\tremaining: 10.1s\n",
            "2600:\ttotal: 1m 5s\tremaining: 10.1s\n",
            "2601:\ttotal: 1m 5s\tremaining: 10s\n",
            "2602:\ttotal: 1m 5s\tremaining: 10s\n",
            "2603:\ttotal: 1m 5s\tremaining: 9.97s\n",
            "2604:\ttotal: 1m 5s\tremaining: 9.95s\n",
            "2605:\ttotal: 1m 5s\tremaining: 9.92s\n",
            "2606:\ttotal: 1m 5s\tremaining: 9.9s\n",
            "2607:\ttotal: 1m 5s\tremaining: 9.87s\n",
            "2608:\ttotal: 1m 5s\tremaining: 9.85s\n",
            "2609:\ttotal: 1m 5s\tremaining: 9.82s\n",
            "2610:\ttotal: 1m 5s\tremaining: 9.79s\n",
            "2611:\ttotal: 1m 5s\tremaining: 9.77s\n",
            "2612:\ttotal: 1m 5s\tremaining: 9.74s\n",
            "2613:\ttotal: 1m 5s\tremaining: 9.72s\n",
            "2614:\ttotal: 1m 5s\tremaining: 9.69s\n",
            "2615:\ttotal: 1m 5s\tremaining: 9.67s\n",
            "2616:\ttotal: 1m 5s\tremaining: 9.64s\n",
            "2617:\ttotal: 1m 5s\tremaining: 9.62s\n",
            "2618:\ttotal: 1m 5s\tremaining: 9.59s\n",
            "2619:\ttotal: 1m 5s\tremaining: 9.57s\n",
            "2620:\ttotal: 1m 6s\tremaining: 9.54s\n",
            "2621:\ttotal: 1m 6s\tremaining: 9.52s\n",
            "2622:\ttotal: 1m 6s\tremaining: 9.49s\n",
            "2623:\ttotal: 1m 6s\tremaining: 9.47s\n",
            "2624:\ttotal: 1m 6s\tremaining: 9.44s\n",
            "2625:\ttotal: 1m 6s\tremaining: 9.41s\n",
            "2626:\ttotal: 1m 6s\tremaining: 9.39s\n",
            "2627:\ttotal: 1m 6s\tremaining: 9.36s\n",
            "2628:\ttotal: 1m 6s\tremaining: 9.34s\n",
            "2629:\ttotal: 1m 6s\tremaining: 9.31s\n",
            "2630:\ttotal: 1m 6s\tremaining: 9.29s\n",
            "2631:\ttotal: 1m 6s\tremaining: 9.26s\n",
            "2632:\ttotal: 1m 6s\tremaining: 9.24s\n",
            "2633:\ttotal: 1m 6s\tremaining: 9.21s\n",
            "2634:\ttotal: 1m 6s\tremaining: 9.19s\n",
            "2635:\ttotal: 1m 6s\tremaining: 9.16s\n",
            "2636:\ttotal: 1m 6s\tremaining: 9.13s\n",
            "2637:\ttotal: 1m 6s\tremaining: 9.11s\n",
            "2638:\ttotal: 1m 6s\tremaining: 9.08s\n",
            "2639:\ttotal: 1m 6s\tremaining: 9.06s\n",
            "2640:\ttotal: 1m 6s\tremaining: 9.03s\n",
            "2641:\ttotal: 1m 6s\tremaining: 9.01s\n",
            "2642:\ttotal: 1m 6s\tremaining: 8.98s\n",
            "2643:\ttotal: 1m 6s\tremaining: 8.96s\n",
            "2644:\ttotal: 1m 6s\tremaining: 8.93s\n",
            "2645:\ttotal: 1m 6s\tremaining: 8.9s\n",
            "2646:\ttotal: 1m 6s\tremaining: 8.88s\n",
            "2647:\ttotal: 1m 6s\tremaining: 8.85s\n",
            "2648:\ttotal: 1m 6s\tremaining: 8.83s\n",
            "2649:\ttotal: 1m 6s\tremaining: 8.8s\n",
            "2650:\ttotal: 1m 6s\tremaining: 8.78s\n",
            "2651:\ttotal: 1m 6s\tremaining: 8.75s\n",
            "2652:\ttotal: 1m 6s\tremaining: 8.72s\n",
            "2653:\ttotal: 1m 6s\tremaining: 8.7s\n",
            "2654:\ttotal: 1m 6s\tremaining: 8.67s\n",
            "2655:\ttotal: 1m 6s\tremaining: 8.65s\n",
            "2656:\ttotal: 1m 6s\tremaining: 8.62s\n",
            "2657:\ttotal: 1m 6s\tremaining: 8.6s\n",
            "2658:\ttotal: 1m 6s\tremaining: 8.57s\n",
            "2659:\ttotal: 1m 6s\tremaining: 8.54s\n",
            "2660:\ttotal: 1m 6s\tremaining: 8.52s\n",
            "2661:\ttotal: 1m 6s\tremaining: 8.49s\n",
            "2662:\ttotal: 1m 6s\tremaining: 8.47s\n",
            "2663:\ttotal: 1m 6s\tremaining: 8.44s\n",
            "2664:\ttotal: 1m 6s\tremaining: 8.42s\n",
            "2665:\ttotal: 1m 6s\tremaining: 8.39s\n",
            "2666:\ttotal: 1m 7s\tremaining: 8.37s\n",
            "2667:\ttotal: 1m 7s\tremaining: 8.34s\n",
            "2668:\ttotal: 1m 7s\tremaining: 8.32s\n",
            "2669:\ttotal: 1m 7s\tremaining: 8.29s\n",
            "2670:\ttotal: 1m 7s\tremaining: 8.26s\n",
            "2671:\ttotal: 1m 7s\tremaining: 8.24s\n",
            "2672:\ttotal: 1m 7s\tremaining: 8.21s\n",
            "2673:\ttotal: 1m 7s\tremaining: 8.19s\n",
            "2674:\ttotal: 1m 7s\tremaining: 8.16s\n",
            "2675:\ttotal: 1m 7s\tremaining: 8.14s\n",
            "2676:\ttotal: 1m 7s\tremaining: 8.11s\n",
            "2677:\ttotal: 1m 7s\tremaining: 8.09s\n",
            "2678:\ttotal: 1m 7s\tremaining: 8.06s\n",
            "2679:\ttotal: 1m 7s\tremaining: 8.04s\n",
            "2680:\ttotal: 1m 7s\tremaining: 8.01s\n",
            "2681:\ttotal: 1m 7s\tremaining: 7.99s\n",
            "2682:\ttotal: 1m 7s\tremaining: 7.96s\n",
            "2683:\ttotal: 1m 7s\tremaining: 7.93s\n",
            "2684:\ttotal: 1m 7s\tremaining: 7.91s\n",
            "2685:\ttotal: 1m 7s\tremaining: 7.88s\n",
            "2686:\ttotal: 1m 7s\tremaining: 7.86s\n",
            "2687:\ttotal: 1m 7s\tremaining: 7.83s\n",
            "2688:\ttotal: 1m 7s\tremaining: 7.81s\n",
            "2689:\ttotal: 1m 7s\tremaining: 7.78s\n",
            "2690:\ttotal: 1m 7s\tremaining: 7.76s\n",
            "2691:\ttotal: 1m 7s\tremaining: 7.73s\n",
            "2692:\ttotal: 1m 7s\tremaining: 7.71s\n",
            "2693:\ttotal: 1m 7s\tremaining: 7.68s\n",
            "2694:\ttotal: 1m 7s\tremaining: 7.66s\n",
            "2695:\ttotal: 1m 7s\tremaining: 7.63s\n",
            "2696:\ttotal: 1m 7s\tremaining: 7.61s\n",
            "2697:\ttotal: 1m 7s\tremaining: 7.58s\n",
            "2698:\ttotal: 1m 7s\tremaining: 7.56s\n",
            "2699:\ttotal: 1m 7s\tremaining: 7.53s\n",
            "2700:\ttotal: 1m 7s\tremaining: 7.51s\n",
            "2701:\ttotal: 1m 7s\tremaining: 7.48s\n",
            "2702:\ttotal: 1m 7s\tremaining: 7.46s\n",
            "2703:\ttotal: 1m 7s\tremaining: 7.43s\n",
            "2704:\ttotal: 1m 7s\tremaining: 7.41s\n",
            "2705:\ttotal: 1m 7s\tremaining: 7.38s\n",
            "2706:\ttotal: 1m 7s\tremaining: 7.35s\n",
            "2707:\ttotal: 1m 7s\tremaining: 7.33s\n",
            "2708:\ttotal: 1m 7s\tremaining: 7.3s\n",
            "2709:\ttotal: 1m 8s\tremaining: 7.28s\n",
            "2710:\ttotal: 1m 8s\tremaining: 7.25s\n",
            "2711:\ttotal: 1m 8s\tremaining: 7.23s\n",
            "2712:\ttotal: 1m 8s\tremaining: 7.2s\n",
            "2713:\ttotal: 1m 8s\tremaining: 7.18s\n",
            "2714:\ttotal: 1m 8s\tremaining: 7.15s\n",
            "2715:\ttotal: 1m 8s\tremaining: 7.13s\n",
            "2716:\ttotal: 1m 8s\tremaining: 7.1s\n",
            "2717:\ttotal: 1m 8s\tremaining: 7.08s\n",
            "2718:\ttotal: 1m 8s\tremaining: 7.05s\n",
            "2719:\ttotal: 1m 8s\tremaining: 7.03s\n",
            "2720:\ttotal: 1m 8s\tremaining: 7s\n",
            "2721:\ttotal: 1m 8s\tremaining: 6.98s\n",
            "2722:\ttotal: 1m 8s\tremaining: 6.95s\n",
            "2723:\ttotal: 1m 8s\tremaining: 6.92s\n",
            "2724:\ttotal: 1m 8s\tremaining: 6.9s\n",
            "2725:\ttotal: 1m 8s\tremaining: 6.87s\n",
            "2726:\ttotal: 1m 8s\tremaining: 6.85s\n",
            "2727:\ttotal: 1m 8s\tremaining: 6.82s\n",
            "2728:\ttotal: 1m 8s\tremaining: 6.8s\n",
            "2729:\ttotal: 1m 8s\tremaining: 6.77s\n",
            "2730:\ttotal: 1m 8s\tremaining: 6.75s\n",
            "2731:\ttotal: 1m 8s\tremaining: 6.72s\n",
            "2732:\ttotal: 1m 8s\tremaining: 6.7s\n",
            "2733:\ttotal: 1m 8s\tremaining: 6.67s\n",
            "2734:\ttotal: 1m 8s\tremaining: 6.65s\n",
            "2735:\ttotal: 1m 8s\tremaining: 6.62s\n",
            "2736:\ttotal: 1m 8s\tremaining: 6.59s\n",
            "2737:\ttotal: 1m 8s\tremaining: 6.57s\n",
            "2738:\ttotal: 1m 8s\tremaining: 6.54s\n",
            "2739:\ttotal: 1m 8s\tremaining: 6.52s\n",
            "2740:\ttotal: 1m 8s\tremaining: 6.49s\n",
            "2741:\ttotal: 1m 8s\tremaining: 6.47s\n",
            "2742:\ttotal: 1m 8s\tremaining: 6.44s\n",
            "2743:\ttotal: 1m 8s\tremaining: 6.42s\n",
            "2744:\ttotal: 1m 8s\tremaining: 6.39s\n",
            "2745:\ttotal: 1m 8s\tremaining: 6.37s\n",
            "2746:\ttotal: 1m 8s\tremaining: 6.34s\n",
            "2747:\ttotal: 1m 8s\tremaining: 6.32s\n",
            "2748:\ttotal: 1m 8s\tremaining: 6.29s\n",
            "2749:\ttotal: 1m 8s\tremaining: 6.27s\n",
            "2750:\ttotal: 1m 8s\tremaining: 6.24s\n",
            "2751:\ttotal: 1m 8s\tremaining: 6.22s\n",
            "2752:\ttotal: 1m 9s\tremaining: 6.19s\n",
            "2753:\ttotal: 1m 9s\tremaining: 6.17s\n",
            "2754:\ttotal: 1m 9s\tremaining: 6.14s\n",
            "2755:\ttotal: 1m 9s\tremaining: 6.12s\n",
            "2756:\ttotal: 1m 9s\tremaining: 6.09s\n",
            "2757:\ttotal: 1m 9s\tremaining: 6.07s\n",
            "2758:\ttotal: 1m 9s\tremaining: 6.04s\n",
            "2759:\ttotal: 1m 9s\tremaining: 6.01s\n",
            "2760:\ttotal: 1m 9s\tremaining: 5.99s\n",
            "2761:\ttotal: 1m 9s\tremaining: 5.96s\n",
            "2762:\ttotal: 1m 9s\tremaining: 5.94s\n",
            "2763:\ttotal: 1m 9s\tremaining: 5.91s\n",
            "2764:\ttotal: 1m 9s\tremaining: 5.89s\n",
            "2765:\ttotal: 1m 9s\tremaining: 5.86s\n",
            "2766:\ttotal: 1m 9s\tremaining: 5.84s\n",
            "2767:\ttotal: 1m 9s\tremaining: 5.81s\n",
            "2768:\ttotal: 1m 9s\tremaining: 5.79s\n",
            "2769:\ttotal: 1m 9s\tremaining: 5.76s\n",
            "2770:\ttotal: 1m 9s\tremaining: 5.74s\n",
            "2771:\ttotal: 1m 9s\tremaining: 5.71s\n",
            "2772:\ttotal: 1m 9s\tremaining: 5.68s\n",
            "2773:\ttotal: 1m 9s\tremaining: 5.66s\n",
            "2774:\ttotal: 1m 9s\tremaining: 5.63s\n",
            "2775:\ttotal: 1m 9s\tremaining: 5.61s\n",
            "2776:\ttotal: 1m 9s\tremaining: 5.58s\n",
            "2777:\ttotal: 1m 9s\tremaining: 5.56s\n",
            "2778:\ttotal: 1m 9s\tremaining: 5.53s\n",
            "2779:\ttotal: 1m 9s\tremaining: 5.51s\n",
            "2780:\ttotal: 1m 9s\tremaining: 5.48s\n",
            "2781:\ttotal: 1m 9s\tremaining: 5.46s\n",
            "2782:\ttotal: 1m 9s\tremaining: 5.43s\n",
            "2783:\ttotal: 1m 9s\tremaining: 5.41s\n",
            "2784:\ttotal: 1m 9s\tremaining: 5.38s\n",
            "2785:\ttotal: 1m 9s\tremaining: 5.36s\n",
            "2786:\ttotal: 1m 9s\tremaining: 5.33s\n",
            "2787:\ttotal: 1m 9s\tremaining: 5.3s\n",
            "2788:\ttotal: 1m 9s\tremaining: 5.28s\n",
            "2789:\ttotal: 1m 9s\tremaining: 5.25s\n",
            "2790:\ttotal: 1m 9s\tremaining: 5.23s\n",
            "2791:\ttotal: 1m 9s\tremaining: 5.21s\n",
            "2792:\ttotal: 1m 9s\tremaining: 5.18s\n",
            "2793:\ttotal: 1m 9s\tremaining: 5.16s\n",
            "2794:\ttotal: 1m 9s\tremaining: 5.13s\n",
            "2795:\ttotal: 1m 9s\tremaining: 5.11s\n",
            "2796:\ttotal: 1m 9s\tremaining: 5.08s\n",
            "2797:\ttotal: 1m 10s\tremaining: 5.05s\n",
            "2798:\ttotal: 1m 10s\tremaining: 5.03s\n",
            "2799:\ttotal: 1m 10s\tremaining: 5s\n",
            "2800:\ttotal: 1m 10s\tremaining: 4.98s\n",
            "2801:\ttotal: 1m 10s\tremaining: 4.95s\n",
            "2802:\ttotal: 1m 10s\tremaining: 4.93s\n",
            "2803:\ttotal: 1m 10s\tremaining: 4.9s\n",
            "2804:\ttotal: 1m 10s\tremaining: 4.88s\n",
            "2805:\ttotal: 1m 10s\tremaining: 4.85s\n",
            "2806:\ttotal: 1m 10s\tremaining: 4.83s\n",
            "2807:\ttotal: 1m 10s\tremaining: 4.8s\n",
            "2808:\ttotal: 1m 10s\tremaining: 4.78s\n",
            "2809:\ttotal: 1m 10s\tremaining: 4.75s\n",
            "2810:\ttotal: 1m 10s\tremaining: 4.73s\n",
            "2811:\ttotal: 1m 10s\tremaining: 4.7s\n",
            "2812:\ttotal: 1m 10s\tremaining: 4.68s\n",
            "2813:\ttotal: 1m 10s\tremaining: 4.65s\n",
            "2814:\ttotal: 1m 10s\tremaining: 4.63s\n",
            "2815:\ttotal: 1m 10s\tremaining: 4.6s\n",
            "2816:\ttotal: 1m 10s\tremaining: 4.58s\n",
            "2817:\ttotal: 1m 10s\tremaining: 4.55s\n",
            "2818:\ttotal: 1m 10s\tremaining: 4.53s\n",
            "2819:\ttotal: 1m 10s\tremaining: 4.5s\n",
            "2820:\ttotal: 1m 10s\tremaining: 4.47s\n",
            "2821:\ttotal: 1m 10s\tremaining: 4.45s\n",
            "2822:\ttotal: 1m 10s\tremaining: 4.42s\n",
            "2823:\ttotal: 1m 10s\tremaining: 4.4s\n",
            "2824:\ttotal: 1m 10s\tremaining: 4.37s\n",
            "2825:\ttotal: 1m 10s\tremaining: 4.35s\n",
            "2826:\ttotal: 1m 10s\tremaining: 4.32s\n",
            "2827:\ttotal: 1m 10s\tremaining: 4.3s\n",
            "2828:\ttotal: 1m 10s\tremaining: 4.27s\n",
            "2829:\ttotal: 1m 10s\tremaining: 4.25s\n",
            "2830:\ttotal: 1m 10s\tremaining: 4.22s\n",
            "2831:\ttotal: 1m 10s\tremaining: 4.2s\n",
            "2832:\ttotal: 1m 10s\tremaining: 4.17s\n",
            "2833:\ttotal: 1m 10s\tremaining: 4.15s\n",
            "2834:\ttotal: 1m 10s\tremaining: 4.12s\n",
            "2835:\ttotal: 1m 10s\tremaining: 4.1s\n",
            "2836:\ttotal: 1m 10s\tremaining: 4.07s\n",
            "2837:\ttotal: 1m 10s\tremaining: 4.05s\n",
            "2838:\ttotal: 1m 10s\tremaining: 4.02s\n",
            "2839:\ttotal: 1m 10s\tremaining: 4s\n",
            "2840:\ttotal: 1m 10s\tremaining: 3.97s\n",
            "2841:\ttotal: 1m 10s\tremaining: 3.95s\n",
            "2842:\ttotal: 1m 11s\tremaining: 3.92s\n",
            "2843:\ttotal: 1m 11s\tremaining: 3.9s\n",
            "2844:\ttotal: 1m 11s\tremaining: 3.87s\n",
            "2845:\ttotal: 1m 11s\tremaining: 3.85s\n",
            "2846:\ttotal: 1m 11s\tremaining: 3.82s\n",
            "2847:\ttotal: 1m 11s\tremaining: 3.8s\n",
            "2848:\ttotal: 1m 11s\tremaining: 3.77s\n",
            "2849:\ttotal: 1m 11s\tremaining: 3.75s\n",
            "2850:\ttotal: 1m 11s\tremaining: 3.72s\n",
            "2851:\ttotal: 1m 11s\tremaining: 3.69s\n",
            "2852:\ttotal: 1m 11s\tremaining: 3.67s\n",
            "2853:\ttotal: 1m 11s\tremaining: 3.65s\n",
            "2854:\ttotal: 1m 11s\tremaining: 3.62s\n",
            "2855:\ttotal: 1m 11s\tremaining: 3.6s\n",
            "2856:\ttotal: 1m 11s\tremaining: 3.57s\n",
            "2857:\ttotal: 1m 11s\tremaining: 3.54s\n",
            "2858:\ttotal: 1m 11s\tremaining: 3.52s\n",
            "2859:\ttotal: 1m 11s\tremaining: 3.49s\n",
            "2860:\ttotal: 1m 11s\tremaining: 3.47s\n",
            "2861:\ttotal: 1m 11s\tremaining: 3.44s\n",
            "2862:\ttotal: 1m 11s\tremaining: 3.42s\n",
            "2863:\ttotal: 1m 11s\tremaining: 3.39s\n",
            "2864:\ttotal: 1m 11s\tremaining: 3.37s\n",
            "2865:\ttotal: 1m 11s\tremaining: 3.34s\n",
            "2866:\ttotal: 1m 11s\tremaining: 3.32s\n",
            "2867:\ttotal: 1m 11s\tremaining: 3.29s\n",
            "2868:\ttotal: 1m 11s\tremaining: 3.27s\n",
            "2869:\ttotal: 1m 11s\tremaining: 3.24s\n",
            "2870:\ttotal: 1m 11s\tremaining: 3.22s\n",
            "2871:\ttotal: 1m 11s\tremaining: 3.19s\n",
            "2872:\ttotal: 1m 11s\tremaining: 3.17s\n",
            "2873:\ttotal: 1m 11s\tremaining: 3.14s\n",
            "2874:\ttotal: 1m 11s\tremaining: 3.12s\n",
            "2875:\ttotal: 1m 11s\tremaining: 3.09s\n",
            "2876:\ttotal: 1m 11s\tremaining: 3.07s\n",
            "2877:\ttotal: 1m 11s\tremaining: 3.04s\n",
            "2878:\ttotal: 1m 11s\tremaining: 3.02s\n",
            "2879:\ttotal: 1m 11s\tremaining: 2.99s\n",
            "2880:\ttotal: 1m 11s\tremaining: 2.97s\n",
            "2881:\ttotal: 1m 11s\tremaining: 2.94s\n",
            "2882:\ttotal: 1m 11s\tremaining: 2.92s\n",
            "2883:\ttotal: 1m 11s\tremaining: 2.89s\n",
            "2884:\ttotal: 1m 11s\tremaining: 2.87s\n",
            "2885:\ttotal: 1m 11s\tremaining: 2.84s\n",
            "2886:\ttotal: 1m 11s\tremaining: 2.82s\n",
            "2887:\ttotal: 1m 12s\tremaining: 2.79s\n",
            "2888:\ttotal: 1m 12s\tremaining: 2.77s\n",
            "2889:\ttotal: 1m 12s\tremaining: 2.74s\n",
            "2890:\ttotal: 1m 12s\tremaining: 2.72s\n",
            "2891:\ttotal: 1m 12s\tremaining: 2.69s\n",
            "2892:\ttotal: 1m 12s\tremaining: 2.67s\n",
            "2893:\ttotal: 1m 12s\tremaining: 2.64s\n",
            "2894:\ttotal: 1m 12s\tremaining: 2.62s\n",
            "2895:\ttotal: 1m 12s\tremaining: 2.59s\n",
            "2896:\ttotal: 1m 12s\tremaining: 2.57s\n",
            "2897:\ttotal: 1m 12s\tremaining: 2.54s\n",
            "2898:\ttotal: 1m 12s\tremaining: 2.52s\n",
            "2899:\ttotal: 1m 12s\tremaining: 2.49s\n",
            "2900:\ttotal: 1m 12s\tremaining: 2.47s\n",
            "2901:\ttotal: 1m 12s\tremaining: 2.44s\n",
            "2902:\ttotal: 1m 12s\tremaining: 2.42s\n",
            "2903:\ttotal: 1m 12s\tremaining: 2.39s\n",
            "2904:\ttotal: 1m 12s\tremaining: 2.37s\n",
            "2905:\ttotal: 1m 12s\tremaining: 2.34s\n",
            "2906:\ttotal: 1m 12s\tremaining: 2.32s\n",
            "2907:\ttotal: 1m 12s\tremaining: 2.29s\n",
            "2908:\ttotal: 1m 12s\tremaining: 2.27s\n",
            "2909:\ttotal: 1m 12s\tremaining: 2.24s\n",
            "2910:\ttotal: 1m 12s\tremaining: 2.22s\n",
            "2911:\ttotal: 1m 12s\tremaining: 2.19s\n",
            "2912:\ttotal: 1m 12s\tremaining: 2.17s\n",
            "2913:\ttotal: 1m 12s\tremaining: 2.14s\n",
            "2914:\ttotal: 1m 12s\tremaining: 2.12s\n",
            "2915:\ttotal: 1m 12s\tremaining: 2.09s\n",
            "2916:\ttotal: 1m 12s\tremaining: 2.07s\n",
            "2917:\ttotal: 1m 12s\tremaining: 2.04s\n",
            "2918:\ttotal: 1m 12s\tremaining: 2.02s\n",
            "2919:\ttotal: 1m 12s\tremaining: 1.99s\n",
            "2920:\ttotal: 1m 12s\tremaining: 1.97s\n",
            "2921:\ttotal: 1m 12s\tremaining: 1.94s\n",
            "2922:\ttotal: 1m 12s\tremaining: 1.92s\n",
            "2923:\ttotal: 1m 12s\tremaining: 1.89s\n",
            "2924:\ttotal: 1m 12s\tremaining: 1.87s\n",
            "2925:\ttotal: 1m 12s\tremaining: 1.84s\n",
            "2926:\ttotal: 1m 12s\tremaining: 1.82s\n",
            "2927:\ttotal: 1m 12s\tremaining: 1.79s\n",
            "2928:\ttotal: 1m 12s\tremaining: 1.77s\n",
            "2929:\ttotal: 1m 12s\tremaining: 1.74s\n",
            "2930:\ttotal: 1m 12s\tremaining: 1.72s\n",
            "2931:\ttotal: 1m 13s\tremaining: 1.69s\n",
            "2932:\ttotal: 1m 13s\tremaining: 1.67s\n",
            "2933:\ttotal: 1m 13s\tremaining: 1.64s\n",
            "2934:\ttotal: 1m 13s\tremaining: 1.62s\n",
            "2935:\ttotal: 1m 13s\tremaining: 1.59s\n",
            "2936:\ttotal: 1m 13s\tremaining: 1.57s\n",
            "2937:\ttotal: 1m 13s\tremaining: 1.54s\n",
            "2938:\ttotal: 1m 13s\tremaining: 1.52s\n",
            "2939:\ttotal: 1m 13s\tremaining: 1.49s\n",
            "2940:\ttotal: 1m 13s\tremaining: 1.47s\n",
            "2941:\ttotal: 1m 13s\tremaining: 1.44s\n",
            "2942:\ttotal: 1m 13s\tremaining: 1.42s\n",
            "2943:\ttotal: 1m 13s\tremaining: 1.39s\n",
            "2944:\ttotal: 1m 13s\tremaining: 1.37s\n",
            "2945:\ttotal: 1m 13s\tremaining: 1.34s\n",
            "2946:\ttotal: 1m 13s\tremaining: 1.32s\n",
            "2947:\ttotal: 1m 13s\tremaining: 1.29s\n",
            "2948:\ttotal: 1m 13s\tremaining: 1.27s\n",
            "2949:\ttotal: 1m 13s\tremaining: 1.24s\n",
            "2950:\ttotal: 1m 13s\tremaining: 1.22s\n",
            "2951:\ttotal: 1m 13s\tremaining: 1.19s\n",
            "2952:\ttotal: 1m 13s\tremaining: 1.17s\n",
            "2953:\ttotal: 1m 13s\tremaining: 1.14s\n",
            "2954:\ttotal: 1m 13s\tremaining: 1.12s\n",
            "2955:\ttotal: 1m 13s\tremaining: 1.09s\n",
            "2956:\ttotal: 1m 13s\tremaining: 1.07s\n",
            "2957:\ttotal: 1m 13s\tremaining: 1.04s\n",
            "2958:\ttotal: 1m 13s\tremaining: 1.02s\n",
            "2959:\ttotal: 1m 13s\tremaining: 995ms\n",
            "2960:\ttotal: 1m 13s\tremaining: 970ms\n",
            "2961:\ttotal: 1m 13s\tremaining: 945ms\n",
            "2962:\ttotal: 1m 13s\tremaining: 920ms\n",
            "2963:\ttotal: 1m 13s\tremaining: 896ms\n",
            "2964:\ttotal: 1m 13s\tremaining: 871ms\n",
            "2965:\ttotal: 1m 13s\tremaining: 846ms\n",
            "2966:\ttotal: 1m 13s\tremaining: 821ms\n",
            "2967:\ttotal: 1m 13s\tremaining: 796ms\n",
            "2968:\ttotal: 1m 13s\tremaining: 771ms\n",
            "2969:\ttotal: 1m 13s\tremaining: 746ms\n",
            "2970:\ttotal: 1m 13s\tremaining: 721ms\n",
            "2971:\ttotal: 1m 13s\tremaining: 696ms\n",
            "2972:\ttotal: 1m 13s\tremaining: 671ms\n",
            "2973:\ttotal: 1m 13s\tremaining: 647ms\n",
            "2974:\ttotal: 1m 13s\tremaining: 622ms\n",
            "2975:\ttotal: 1m 13s\tremaining: 597ms\n",
            "2976:\ttotal: 1m 14s\tremaining: 572ms\n",
            "2977:\ttotal: 1m 14s\tremaining: 547ms\n",
            "2978:\ttotal: 1m 14s\tremaining: 522ms\n",
            "2979:\ttotal: 1m 14s\tremaining: 497ms\n",
            "2980:\ttotal: 1m 14s\tremaining: 472ms\n",
            "2981:\ttotal: 1m 14s\tremaining: 447ms\n",
            "2982:\ttotal: 1m 14s\tremaining: 423ms\n",
            "2983:\ttotal: 1m 14s\tremaining: 398ms\n",
            "2984:\ttotal: 1m 14s\tremaining: 373ms\n",
            "2985:\ttotal: 1m 14s\tremaining: 348ms\n",
            "2986:\ttotal: 1m 14s\tremaining: 323ms\n",
            "2987:\ttotal: 1m 14s\tremaining: 298ms\n",
            "2988:\ttotal: 1m 14s\tremaining: 273ms\n",
            "2989:\ttotal: 1m 14s\tremaining: 249ms\n",
            "2990:\ttotal: 1m 14s\tremaining: 224ms\n",
            "2991:\ttotal: 1m 14s\tremaining: 199ms\n",
            "2992:\ttotal: 1m 14s\tremaining: 174ms\n",
            "2993:\ttotal: 1m 14s\tremaining: 149ms\n",
            "2994:\ttotal: 1m 14s\tremaining: 124ms\n",
            "2995:\ttotal: 1m 14s\tremaining: 99.4ms\n",
            "2996:\ttotal: 1m 14s\tremaining: 74.5ms\n",
            "2997:\ttotal: 1m 14s\tremaining: 49.7ms\n",
            "2998:\ttotal: 1m 14s\tremaining: 24.8ms\n",
            "2999:\ttotal: 1m 14s\tremaining: 0us\n"
          ]
        },
        {
          "data": {
            "text/plain": [
              "<catboost.core.CatBoostClassifier at 0x14584e41250>"
            ]
          },
          "execution_count": 41,
          "metadata": {},
          "output_type": "execute_result"
        }
      ],
      "source": [
        "CB = CatBoostClassifier(iterations=3000, eval_metric = \"AUC\")\n",
        "CB.fit(X_train, y_train)"
      ]
    },
    {
      "cell_type": "code",
      "execution_count": 42,
      "metadata": {
        "colab": {
          "base_uri": "https://localhost:8080/"
        },
        "id": "JYtJp7s4WPc2",
        "outputId": "28ebd965-2331-4659-9b5f-3f7ed32b29bf"
      },
      "outputs": [
        {
          "data": {
            "text/html": [
              "<style>#sk-container-id-5 {color: black;background-color: white;}#sk-container-id-5 pre{padding: 0;}#sk-container-id-5 div.sk-toggleable {background-color: white;}#sk-container-id-5 label.sk-toggleable__label {cursor: pointer;display: block;width: 100%;margin-bottom: 0;padding: 0.3em;box-sizing: border-box;text-align: center;}#sk-container-id-5 label.sk-toggleable__label-arrow:before {content: \"▸\";float: left;margin-right: 0.25em;color: #696969;}#sk-container-id-5 label.sk-toggleable__label-arrow:hover:before {color: black;}#sk-container-id-5 div.sk-estimator:hover label.sk-toggleable__label-arrow:before {color: black;}#sk-container-id-5 div.sk-toggleable__content {max-height: 0;max-width: 0;overflow: hidden;text-align: left;background-color: #f0f8ff;}#sk-container-id-5 div.sk-toggleable__content pre {margin: 0.2em;color: black;border-radius: 0.25em;background-color: #f0f8ff;}#sk-container-id-5 input.sk-toggleable__control:checked~div.sk-toggleable__content {max-height: 200px;max-width: 100%;overflow: auto;}#sk-container-id-5 input.sk-toggleable__control:checked~label.sk-toggleable__label-arrow:before {content: \"▾\";}#sk-container-id-5 div.sk-estimator input.sk-toggleable__control:checked~label.sk-toggleable__label {background-color: #d4ebff;}#sk-container-id-5 div.sk-label input.sk-toggleable__control:checked~label.sk-toggleable__label {background-color: #d4ebff;}#sk-container-id-5 input.sk-hidden--visually {border: 0;clip: rect(1px 1px 1px 1px);clip: rect(1px, 1px, 1px, 1px);height: 1px;margin: -1px;overflow: hidden;padding: 0;position: absolute;width: 1px;}#sk-container-id-5 div.sk-estimator {font-family: monospace;background-color: #f0f8ff;border: 1px dotted black;border-radius: 0.25em;box-sizing: border-box;margin-bottom: 0.5em;}#sk-container-id-5 div.sk-estimator:hover {background-color: #d4ebff;}#sk-container-id-5 div.sk-parallel-item::after {content: \"\";width: 100%;border-bottom: 1px solid gray;flex-grow: 1;}#sk-container-id-5 div.sk-label:hover label.sk-toggleable__label {background-color: #d4ebff;}#sk-container-id-5 div.sk-serial::before {content: \"\";position: absolute;border-left: 1px solid gray;box-sizing: border-box;top: 0;bottom: 0;left: 50%;z-index: 0;}#sk-container-id-5 div.sk-serial {display: flex;flex-direction: column;align-items: center;background-color: white;padding-right: 0.2em;padding-left: 0.2em;position: relative;}#sk-container-id-5 div.sk-item {position: relative;z-index: 1;}#sk-container-id-5 div.sk-parallel {display: flex;align-items: stretch;justify-content: center;background-color: white;position: relative;}#sk-container-id-5 div.sk-item::before, #sk-container-id-5 div.sk-parallel-item::before {content: \"\";position: absolute;border-left: 1px solid gray;box-sizing: border-box;top: 0;bottom: 0;left: 50%;z-index: -1;}#sk-container-id-5 div.sk-parallel-item {display: flex;flex-direction: column;z-index: 1;position: relative;background-color: white;}#sk-container-id-5 div.sk-parallel-item:first-child::after {align-self: flex-end;width: 50%;}#sk-container-id-5 div.sk-parallel-item:last-child::after {align-self: flex-start;width: 50%;}#sk-container-id-5 div.sk-parallel-item:only-child::after {width: 0;}#sk-container-id-5 div.sk-dashed-wrapped {border: 1px dashed gray;margin: 0 0.4em 0.5em 0.4em;box-sizing: border-box;padding-bottom: 0.4em;background-color: white;}#sk-container-id-5 div.sk-label label {font-family: monospace;font-weight: bold;display: inline-block;line-height: 1.2em;}#sk-container-id-5 div.sk-label-container {text-align: center;}#sk-container-id-5 div.sk-container {/* jupyter's `normalize.less` sets `[hidden] { display: none; }` but bootstrap.min.css set `[hidden] { display: none !important; }` so we also need the `!important` here to be able to override the default hidden behavior on the sphinx rendered scikit-learn.org. See: https://github.com/scikit-learn/scikit-learn/issues/21755 */display: inline-block !important;position: relative;}#sk-container-id-5 div.sk-text-repr-fallback {display: none;}</style><div id=\"sk-container-id-5\" class=\"sk-top-container\"><div class=\"sk-text-repr-fallback\"><pre>GaussianNB()</pre><b>In a Jupyter environment, please rerun this cell to show the HTML representation or trust the notebook. <br />On GitHub, the HTML representation is unable to render, please try loading this page with nbviewer.org.</b></div><div class=\"sk-container\" hidden><div class=\"sk-item\"><div class=\"sk-estimator sk-toggleable\"><input class=\"sk-toggleable__control sk-hidden--visually\" id=\"sk-estimator-id-5\" type=\"checkbox\" checked><label for=\"sk-estimator-id-5\" class=\"sk-toggleable__label sk-toggleable__label-arrow\">GaussianNB</label><div class=\"sk-toggleable__content\"><pre>GaussianNB()</pre></div></div></div></div></div>"
            ],
            "text/plain": [
              "GaussianNB()"
            ]
          },
          "execution_count": 42,
          "metadata": {},
          "output_type": "execute_result"
        }
      ],
      "source": [
        "GNB = GaussianNB()\n",
        "GNB.fit(X_train, y_train)"
      ]
    },
    {
      "cell_type": "code",
      "execution_count": 43,
      "metadata": {
        "colab": {
          "base_uri": "https://localhost:8080/"
        },
        "id": "qb3Pn_5mWRex",
        "outputId": "b854757d-1245-484b-db13-2a4230981734"
      },
      "outputs": [
        {
          "ename": "ValueError",
          "evalue": "Invalid classes inferred from unique values of `y`.  Expected: [ 0  1  2  3  4  5  6  7  8  9 10 11 12 13 14 15 16 17 18 19 20 21], got ['apple' 'banana' 'blackgram' 'chickpea' 'coconut' 'coffee' 'cotton'\n 'grapes' 'jute' 'kidneybeans' 'lentil' 'maize' 'mango' 'mothbeans'\n 'mungbean' 'muskmelon' 'orange' 'papaya' 'pigeonpeas' 'pomegranate'\n 'rice' 'watermelon']",
          "output_type": "error",
          "traceback": [
            "\u001b[1;31m---------------------------------------------------------------------------\u001b[0m",
            "\u001b[1;31mValueError\u001b[0m                                Traceback (most recent call last)",
            "\u001b[1;32mc:\\Users\\Chetan\\Downloads\\crop_prediction (1).ipynb Cell 54'\u001b[0m in \u001b[0;36m<cell line: 2>\u001b[1;34m()\u001b[0m\n\u001b[0;32m      <a href='vscode-notebook-cell:/c%3A/Users/Chetan/Downloads/crop_prediction%20%281%29.ipynb#ch0000053?line=0'>1</a>\u001b[0m XGB_C \u001b[39m=\u001b[39m xgb\u001b[39m.\u001b[39mXGBClassifier()\n\u001b[1;32m----> <a href='vscode-notebook-cell:/c%3A/Users/Chetan/Downloads/crop_prediction%20%281%29.ipynb#ch0000053?line=1'>2</a>\u001b[0m XGB_C\u001b[39m.\u001b[39;49mfit(X_train, y_train)\n",
            "File \u001b[1;32mC:\\python\\lib\\site-packages\\xgboost\\core.py:575\u001b[0m, in \u001b[0;36m_deprecate_positional_args.<locals>.inner_f\u001b[1;34m(*args, **kwargs)\u001b[0m\n\u001b[0;32m    <a href='file:///c%3A/python/lib/site-packages/xgboost/core.py?line=572'>573</a>\u001b[0m \u001b[39mfor\u001b[39;00m k, arg \u001b[39min\u001b[39;00m \u001b[39mzip\u001b[39m(sig\u001b[39m.\u001b[39mparameters, args):\n\u001b[0;32m    <a href='file:///c%3A/python/lib/site-packages/xgboost/core.py?line=573'>574</a>\u001b[0m     kwargs[k] \u001b[39m=\u001b[39m arg\n\u001b[1;32m--> <a href='file:///c%3A/python/lib/site-packages/xgboost/core.py?line=574'>575</a>\u001b[0m \u001b[39mreturn\u001b[39;00m f(\u001b[39m*\u001b[39m\u001b[39m*\u001b[39mkwargs)\n",
            "File \u001b[1;32mC:\\python\\lib\\site-packages\\xgboost\\sklearn.py:1357\u001b[0m, in \u001b[0;36mXGBClassifier.fit\u001b[1;34m(self, X, y, sample_weight, base_margin, eval_set, eval_metric, early_stopping_rounds, verbose, xgb_model, sample_weight_eval_set, base_margin_eval_set, feature_weights, callbacks)\u001b[0m\n\u001b[0;32m   <a href='file:///c%3A/python/lib/site-packages/xgboost/sklearn.py?line=1351'>1352</a>\u001b[0m     expected_classes \u001b[39m=\u001b[39m np\u001b[39m.\u001b[39marange(\u001b[39mself\u001b[39m\u001b[39m.\u001b[39mn_classes_)\n\u001b[0;32m   <a href='file:///c%3A/python/lib/site-packages/xgboost/sklearn.py?line=1352'>1353</a>\u001b[0m \u001b[39mif\u001b[39;00m (\n\u001b[0;32m   <a href='file:///c%3A/python/lib/site-packages/xgboost/sklearn.py?line=1353'>1354</a>\u001b[0m     \u001b[39mself\u001b[39m\u001b[39m.\u001b[39mclasses_\u001b[39m.\u001b[39mshape \u001b[39m!=\u001b[39m expected_classes\u001b[39m.\u001b[39mshape\n\u001b[0;32m   <a href='file:///c%3A/python/lib/site-packages/xgboost/sklearn.py?line=1354'>1355</a>\u001b[0m     \u001b[39mor\u001b[39;00m \u001b[39mnot\u001b[39;00m (\u001b[39mself\u001b[39m\u001b[39m.\u001b[39mclasses_ \u001b[39m==\u001b[39m expected_classes)\u001b[39m.\u001b[39mall()\n\u001b[0;32m   <a href='file:///c%3A/python/lib/site-packages/xgboost/sklearn.py?line=1355'>1356</a>\u001b[0m ):\n\u001b[1;32m-> <a href='file:///c%3A/python/lib/site-packages/xgboost/sklearn.py?line=1356'>1357</a>\u001b[0m     \u001b[39mraise\u001b[39;00m \u001b[39mValueError\u001b[39;00m(\n\u001b[0;32m   <a href='file:///c%3A/python/lib/site-packages/xgboost/sklearn.py?line=1357'>1358</a>\u001b[0m         \u001b[39mf\u001b[39m\u001b[39m\"\u001b[39m\u001b[39mInvalid classes inferred from unique values of `y`.  \u001b[39m\u001b[39m\"\u001b[39m\n\u001b[0;32m   <a href='file:///c%3A/python/lib/site-packages/xgboost/sklearn.py?line=1358'>1359</a>\u001b[0m         \u001b[39mf\u001b[39m\u001b[39m\"\u001b[39m\u001b[39mExpected: \u001b[39m\u001b[39m{\u001b[39;00mexpected_classes\u001b[39m}\u001b[39;00m\u001b[39m, got \u001b[39m\u001b[39m{\u001b[39;00m\u001b[39mself\u001b[39m\u001b[39m.\u001b[39mclasses_\u001b[39m}\u001b[39;00m\u001b[39m\"\u001b[39m\n\u001b[0;32m   <a href='file:///c%3A/python/lib/site-packages/xgboost/sklearn.py?line=1359'>1360</a>\u001b[0m     )\n\u001b[0;32m   <a href='file:///c%3A/python/lib/site-packages/xgboost/sklearn.py?line=1361'>1362</a>\u001b[0m params \u001b[39m=\u001b[39m \u001b[39mself\u001b[39m\u001b[39m.\u001b[39mget_xgb_params()\n\u001b[0;32m   <a href='file:///c%3A/python/lib/site-packages/xgboost/sklearn.py?line=1363'>1364</a>\u001b[0m \u001b[39mif\u001b[39;00m callable(\u001b[39mself\u001b[39m\u001b[39m.\u001b[39mobjective):\n",
            "\u001b[1;31mValueError\u001b[0m: Invalid classes inferred from unique values of `y`.  Expected: [ 0  1  2  3  4  5  6  7  8  9 10 11 12 13 14 15 16 17 18 19 20 21], got ['apple' 'banana' 'blackgram' 'chickpea' 'coconut' 'coffee' 'cotton'\n 'grapes' 'jute' 'kidneybeans' 'lentil' 'maize' 'mango' 'mothbeans'\n 'mungbean' 'muskmelon' 'orange' 'papaya' 'pigeonpeas' 'pomegranate'\n 'rice' 'watermelon']"
          ]
        }
      ],
      "source": [
        "#XGB_C = xgb.XGBClassifier()\n",
        "#XGB_C.fit(X_train, y_train)"
      ]
    },
    {
      "cell_type": "code",
      "execution_count": 68,
      "metadata": {
        "colab": {
          "base_uri": "https://localhost:8080/"
        },
        "id": "3kGiQ80HWRhS",
        "outputId": "fd5ba244-ac83-4420-9fd6-4ab6f6e3036c"
      },
      "outputs": [],
      "source": [
        "RF=RandomForestClassifier()\n",
        "RF.fit(X_train,y_train)\n",
        "\n",
        "pickle.dump(RF, open(\"model.pkl\",\"wb\"))"
      ]
    },
    {
      "cell_type": "code",
      "execution_count": 45,
      "metadata": {
        "colab": {
          "base_uri": "https://localhost:8080/"
        },
        "id": "0pWc-FIcWRj3",
        "outputId": "ef510b3e-462b-44dd-89a1-b12cd90201a4"
      },
      "outputs": [
        {
          "name": "stdout",
          "output_type": "stream",
          "text": [
            "SVM Accuracy ==>:  0.10681818181818181\n",
            "              precision    recall  f1-score   support\n",
            "\n",
            "       apple       1.00      0.23      0.38        13\n",
            "      banana       1.00      0.24      0.38        17\n",
            "   blackgram       1.00      0.19      0.32        16\n",
            "    chickpea       1.00      0.05      0.09        21\n",
            "     coconut       1.00      0.05      0.09        21\n",
            "      coffee       0.00      0.00      0.00        22\n",
            "      cotton       1.00      0.05      0.10        20\n",
            "      grapes       1.00      0.06      0.11        18\n",
            "        jute       1.00      0.07      0.13        28\n",
            " kidneybeans       0.03      1.00      0.07        14\n",
            "      lentil       0.00      0.00      0.00        23\n",
            "       maize       0.00      0.00      0.00        21\n",
            "       mango       0.00      0.00      0.00        26\n",
            "   mothbeans       0.00      0.00      0.00        19\n",
            "    mungbean       1.00      0.12      0.22        24\n",
            "   muskmelon       1.00      0.30      0.47        23\n",
            "      orange       1.00      0.03      0.07        29\n",
            "      papaya       1.00      0.05      0.10        19\n",
            "  pigeonpeas       0.00      0.00      0.00        18\n",
            " pomegranate       1.00      0.12      0.21        17\n",
            "        rice       0.50      0.06      0.11        16\n",
            "  watermelon       1.00      0.13      0.24        15\n",
            "\n",
            "    accuracy                           0.11       440\n",
            "   macro avg       0.66      0.13      0.14       440\n",
            "weighted avg       0.66      0.11      0.13       440\n",
            "\n"
          ]
        },
        {
          "name": "stderr",
          "output_type": "stream",
          "text": [
            "C:\\python\\lib\\site-packages\\sklearn\\metrics\\_classification.py:1334: UndefinedMetricWarning: Precision and F-score are ill-defined and being set to 0.0 in labels with no predicted samples. Use `zero_division` parameter to control this behavior.\n",
            "  _warn_prf(average, modifier, msg_start, len(result))\n",
            "C:\\python\\lib\\site-packages\\sklearn\\metrics\\_classification.py:1334: UndefinedMetricWarning: Precision and F-score are ill-defined and being set to 0.0 in labels with no predicted samples. Use `zero_division` parameter to control this behavior.\n",
            "  _warn_prf(average, modifier, msg_start, len(result))\n",
            "C:\\python\\lib\\site-packages\\sklearn\\metrics\\_classification.py:1334: UndefinedMetricWarning: Precision and F-score are ill-defined and being set to 0.0 in labels with no predicted samples. Use `zero_division` parameter to control this behavior.\n",
            "  _warn_prf(average, modifier, msg_start, len(result))\n"
          ]
        }
      ],
      "source": [
        "PRED0 = SVM.predict(X_test)\n",
        "x = metrics.accuracy_score(y_test,PRED0)\n",
        "AP.append(x)\n",
        "MN.append('SVM')\n",
        "print(\"SVM Accuracy ==>: \", x)\n",
        "print(classification_report(y_test,PRED0))"
      ]
    },
    {
      "cell_type": "code",
      "execution_count": 46,
      "metadata": {
        "colab": {
          "base_uri": "https://localhost:8080/"
        },
        "id": "66FHuRd6WRnP",
        "outputId": "167adf57-acea-41e7-f4e4-7ea7672f416b"
      },
      "outputs": [
        {
          "name": "stdout",
          "output_type": "stream",
          "text": [
            "DT Accuracy ==> 0.9\n",
            "              precision    recall  f1-score   support\n",
            "\n",
            "       apple       1.00      1.00      1.00        13\n",
            "      banana       1.00      1.00      1.00        17\n",
            "   blackgram       0.59      1.00      0.74        16\n",
            "    chickpea       1.00      1.00      1.00        21\n",
            "     coconut       0.91      1.00      0.95        21\n",
            "      coffee       1.00      1.00      1.00        22\n",
            "      cotton       1.00      1.00      1.00        20\n",
            "      grapes       1.00      1.00      1.00        18\n",
            "        jute       0.74      0.93      0.83        28\n",
            " kidneybeans       0.00      0.00      0.00        14\n",
            "      lentil       0.68      1.00      0.81        23\n",
            "       maize       1.00      1.00      1.00        21\n",
            "       mango       1.00      1.00      1.00        26\n",
            "   mothbeans       0.00      0.00      0.00        19\n",
            "    mungbean       1.00      1.00      1.00        24\n",
            "   muskmelon       1.00      1.00      1.00        23\n",
            "      orange       1.00      1.00      1.00        29\n",
            "      papaya       1.00      0.84      0.91        19\n",
            "  pigeonpeas       0.62      1.00      0.77        18\n",
            " pomegranate       1.00      1.00      1.00        17\n",
            "        rice       1.00      0.62      0.77        16\n",
            "  watermelon       1.00      1.00      1.00        15\n",
            "\n",
            "    accuracy                           0.90       440\n",
            "   macro avg       0.84      0.88      0.85       440\n",
            "weighted avg       0.86      0.90      0.87       440\n",
            "\n"
          ]
        },
        {
          "name": "stderr",
          "output_type": "stream",
          "text": [
            "C:\\python\\lib\\site-packages\\sklearn\\metrics\\_classification.py:1334: UndefinedMetricWarning: Precision and F-score are ill-defined and being set to 0.0 in labels with no predicted samples. Use `zero_division` parameter to control this behavior.\n",
            "  _warn_prf(average, modifier, msg_start, len(result))\n",
            "C:\\python\\lib\\site-packages\\sklearn\\metrics\\_classification.py:1334: UndefinedMetricWarning: Precision and F-score are ill-defined and being set to 0.0 in labels with no predicted samples. Use `zero_division` parameter to control this behavior.\n",
            "  _warn_prf(average, modifier, msg_start, len(result))\n",
            "C:\\python\\lib\\site-packages\\sklearn\\metrics\\_classification.py:1334: UndefinedMetricWarning: Precision and F-score are ill-defined and being set to 0.0 in labels with no predicted samples. Use `zero_division` parameter to control this behavior.\n",
            "  _warn_prf(average, modifier, msg_start, len(result))\n"
          ]
        }
      ],
      "source": [
        "PRED1 = DT.predict(X_test)\n",
        "x = metrics.accuracy_score(y_test,PRED1)\n",
        "AP.append(x)\n",
        "MN.append('DT')\n",
        "print(\"DT Accuracy ==>\", x)\n",
        "print(classification_report(y_test,PRED1))"
      ]
    },
    {
      "cell_type": "code",
      "execution_count": 47,
      "metadata": {
        "colab": {
          "base_uri": "https://localhost:8080/"
        },
        "id": "K3IEzP6OWcfq",
        "outputId": "420cb768-34f2-4dbb-99b6-55ae5af5884e"
      },
      "outputs": [
        {
          "name": "stdout",
          "output_type": "stream",
          "text": [
            "LR Accuracy ==>:  0.9522727272727273\n",
            "              precision    recall  f1-score   support\n",
            "\n",
            "       apple       1.00      1.00      1.00        13\n",
            "      banana       1.00      1.00      1.00        17\n",
            "   blackgram       0.86      0.75      0.80        16\n",
            "    chickpea       1.00      1.00      1.00        21\n",
            "     coconut       1.00      1.00      1.00        21\n",
            "      coffee       1.00      1.00      1.00        22\n",
            "      cotton       0.86      0.90      0.88        20\n",
            "      grapes       1.00      1.00      1.00        18\n",
            "        jute       0.84      0.93      0.88        28\n",
            " kidneybeans       1.00      1.00      1.00        14\n",
            "      lentil       0.88      1.00      0.94        23\n",
            "       maize       0.90      0.86      0.88        21\n",
            "       mango       0.96      1.00      0.98        26\n",
            "   mothbeans       0.84      0.84      0.84        19\n",
            "    mungbean       1.00      0.96      0.98        24\n",
            "   muskmelon       1.00      1.00      1.00        23\n",
            "      orange       1.00      1.00      1.00        29\n",
            "      papaya       1.00      0.95      0.97        19\n",
            "  pigeonpeas       1.00      1.00      1.00        18\n",
            " pomegranate       1.00      1.00      1.00        17\n",
            "        rice       0.85      0.69      0.76        16\n",
            "  watermelon       1.00      1.00      1.00        15\n",
            "\n",
            "    accuracy                           0.95       440\n",
            "   macro avg       0.95      0.95      0.95       440\n",
            "weighted avg       0.95      0.95      0.95       440\n",
            "\n"
          ]
        }
      ],
      "source": [
        "PRED2 = LR.predict(X_test)\n",
        "x = metrics.accuracy_score(y_test,PRED2)\n",
        "AP.append(x)\n",
        "MN.append('LR')\n",
        "print(\"LR Accuracy ==>: \", x)\n",
        "print(classification_report(y_test,PRED2))"
      ]
    },
    {
      "cell_type": "code",
      "execution_count": 48,
      "metadata": {
        "colab": {
          "base_uri": "https://localhost:8080/"
        },
        "id": "NjHvV351Wch8",
        "outputId": "558843e8-1a16-4746-84f7-84e49ec6d4c6"
      },
      "outputs": [
        {
          "name": "stdout",
          "output_type": "stream",
          "text": [
            "KNN Accuracy ==>:  0.9704545454545455\n",
            "              precision    recall  f1-score   support\n",
            "\n",
            "       apple       1.00      1.00      1.00        13\n",
            "      banana       1.00      1.00      1.00        17\n",
            "   blackgram       0.94      1.00      0.97        16\n",
            "    chickpea       1.00      1.00      1.00        21\n",
            "     coconut       1.00      1.00      1.00        21\n",
            "      coffee       1.00      1.00      1.00        22\n",
            "      cotton       0.91      1.00      0.95        20\n",
            "      grapes       1.00      1.00      1.00        18\n",
            "        jute       0.86      0.86      0.86        28\n",
            " kidneybeans       0.93      1.00      0.97        14\n",
            "      lentil       0.96      1.00      0.98        23\n",
            "       maize       1.00      0.90      0.95        21\n",
            "       mango       1.00      1.00      1.00        26\n",
            "   mothbeans       1.00      0.89      0.94        19\n",
            "    mungbean       1.00      1.00      1.00        24\n",
            "   muskmelon       1.00      1.00      1.00        23\n",
            "      orange       1.00      1.00      1.00        29\n",
            "      papaya       1.00      1.00      1.00        19\n",
            "  pigeonpeas       1.00      0.94      0.97        18\n",
            " pomegranate       1.00      1.00      1.00        17\n",
            "        rice       0.75      0.75      0.75        16\n",
            "  watermelon       1.00      1.00      1.00        15\n",
            "\n",
            "    accuracy                           0.97       440\n",
            "   macro avg       0.97      0.97      0.97       440\n",
            "weighted avg       0.97      0.97      0.97       440\n",
            "\n"
          ]
        }
      ],
      "source": [
        "PRED3 = KNN.predict(X_test)\n",
        "x = metrics.accuracy_score(y_test,PRED3)\n",
        "AP.append(x)\n",
        "MN.append('KNN')\n",
        "print(\"KNN Accuracy ==>: \", x)\n",
        "print(classification_report(y_test,PRED3))"
      ]
    },
    {
      "cell_type": "code",
      "execution_count": 49,
      "metadata": {
        "colab": {
          "base_uri": "https://localhost:8080/"
        },
        "id": "Oyxi2LPzWclt",
        "outputId": "7f177a1f-0628-4749-d75a-2146a30b59bc"
      },
      "outputs": [
        {
          "name": "stdout",
          "output_type": "stream",
          "text": [
            "CB Accuracy ==> 0.990909090909091\n",
            "              precision    recall  f1-score   support\n",
            "\n",
            "       apple       1.00      1.00      1.00        13\n",
            "      banana       1.00      1.00      1.00        17\n",
            "   blackgram       0.94      1.00      0.97        16\n",
            "    chickpea       1.00      1.00      1.00        21\n",
            "     coconut       1.00      1.00      1.00        21\n",
            "      coffee       1.00      1.00      1.00        22\n",
            "      cotton       1.00      1.00      1.00        20\n",
            "      grapes       1.00      1.00      1.00        18\n",
            "        jute       1.00      0.89      0.94        28\n",
            " kidneybeans       1.00      1.00      1.00        14\n",
            "      lentil       1.00      1.00      1.00        23\n",
            "       maize       1.00      1.00      1.00        21\n",
            "       mango       1.00      1.00      1.00        26\n",
            "   mothbeans       1.00      0.95      0.97        19\n",
            "    mungbean       1.00      1.00      1.00        24\n",
            "   muskmelon       1.00      1.00      1.00        23\n",
            "      orange       1.00      1.00      1.00        29\n",
            "      papaya       1.00      1.00      1.00        19\n",
            "  pigeonpeas       1.00      1.00      1.00        18\n",
            " pomegranate       1.00      1.00      1.00        17\n",
            "        rice       0.84      1.00      0.91        16\n",
            "  watermelon       1.00      1.00      1.00        15\n",
            "\n",
            "    accuracy                           0.99       440\n",
            "   macro avg       0.99      0.99      0.99       440\n",
            "weighted avg       0.99      0.99      0.99       440\n",
            "\n"
          ]
        }
      ],
      "source": [
        "PRED4 = CB.predict(X_test)\n",
        "x = metrics.accuracy_score(y_test,PRED4)\n",
        "AP.append(x)\n",
        "MN.append('CB')\n",
        "print(\"CB Accuracy ==>\", x)\n",
        "print(classification_report(y_test,PRED4))"
      ]
    },
    {
      "cell_type": "code",
      "execution_count": 50,
      "metadata": {
        "colab": {
          "base_uri": "https://localhost:8080/"
        },
        "id": "vZJHga0bWqe2",
        "outputId": "a668e615-79a4-4153-abf9-86235c0132c3"
      },
      "outputs": [
        {
          "name": "stdout",
          "output_type": "stream",
          "text": [
            "GNB Accuracy ==>:  0.990909090909091\n",
            "              precision    recall  f1-score   support\n",
            "\n",
            "       apple       1.00      1.00      1.00        13\n",
            "      banana       1.00      1.00      1.00        17\n",
            "   blackgram       1.00      1.00      1.00        16\n",
            "    chickpea       1.00      1.00      1.00        21\n",
            "     coconut       1.00      1.00      1.00        21\n",
            "      coffee       1.00      1.00      1.00        22\n",
            "      cotton       1.00      1.00      1.00        20\n",
            "      grapes       1.00      1.00      1.00        18\n",
            "        jute       0.88      1.00      0.93        28\n",
            " kidneybeans       1.00      1.00      1.00        14\n",
            "      lentil       1.00      1.00      1.00        23\n",
            "       maize       1.00      1.00      1.00        21\n",
            "       mango       1.00      1.00      1.00        26\n",
            "   mothbeans       1.00      1.00      1.00        19\n",
            "    mungbean       1.00      1.00      1.00        24\n",
            "   muskmelon       1.00      1.00      1.00        23\n",
            "      orange       1.00      1.00      1.00        29\n",
            "      papaya       1.00      1.00      1.00        19\n",
            "  pigeonpeas       1.00      1.00      1.00        18\n",
            " pomegranate       1.00      1.00      1.00        17\n",
            "        rice       1.00      0.75      0.86        16\n",
            "  watermelon       1.00      1.00      1.00        15\n",
            "\n",
            "    accuracy                           0.99       440\n",
            "   macro avg       0.99      0.99      0.99       440\n",
            "weighted avg       0.99      0.99      0.99       440\n",
            "\n"
          ]
        }
      ],
      "source": [
        "PRED5 = GNB.predict(X_test)\n",
        "x = metrics.accuracy_score(y_test,PRED5)\n",
        "AP.append(x)\n",
        "MN.append('GNB')\n",
        "print(\"GNB Accuracy ==>: \", x)\n",
        "print(classification_report(y_test,PRED5))"
      ]
    },
    {
      "cell_type": "code",
      "execution_count": 51,
      "metadata": {
        "colab": {
          "base_uri": "https://localhost:8080/"
        },
        "id": "eZT-SDzuWqid",
        "outputId": "332871ed-011d-4878-d59a-a272bec98758"
      },
      "outputs": [
        {
          "ename": "NotFittedError",
          "evalue": "need to call fit or load_model beforehand",
          "output_type": "error",
          "traceback": [
            "\u001b[1;31m---------------------------------------------------------------------------\u001b[0m",
            "\u001b[1;31mNotFittedError\u001b[0m                            Traceback (most recent call last)",
            "\u001b[1;32mc:\\Users\\Chetan\\Downloads\\crop_prediction (1).ipynb Cell 62'\u001b[0m in \u001b[0;36m<cell line: 1>\u001b[1;34m()\u001b[0m\n\u001b[1;32m----> <a href='vscode-notebook-cell:/c%3A/Users/Chetan/Downloads/crop_prediction%20%281%29.ipynb#ch0000061?line=0'>1</a>\u001b[0m PRED6 \u001b[39m=\u001b[39m XGB_C\u001b[39m.\u001b[39;49mpredict(X_test)\n\u001b[0;32m      <a href='vscode-notebook-cell:/c%3A/Users/Chetan/Downloads/crop_prediction%20%281%29.ipynb#ch0000061?line=1'>2</a>\u001b[0m x \u001b[39m=\u001b[39m metrics\u001b[39m.\u001b[39maccuracy_score(y_test,PRED6)\n\u001b[0;32m      <a href='vscode-notebook-cell:/c%3A/Users/Chetan/Downloads/crop_prediction%20%281%29.ipynb#ch0000061?line=2'>3</a>\u001b[0m AP\u001b[39m.\u001b[39mappend(x)\n",
            "File \u001b[1;32mC:\\python\\lib\\site-packages\\xgboost\\sklearn.py:1434\u001b[0m, in \u001b[0;36mXGBClassifier.predict\u001b[1;34m(self, X, output_margin, ntree_limit, validate_features, base_margin, iteration_range)\u001b[0m\n\u001b[0;32m   <a href='file:///c%3A/python/lib/site-packages/xgboost/sklearn.py?line=1424'>1425</a>\u001b[0m \u001b[39mdef\u001b[39;00m \u001b[39mpredict\u001b[39m(\n\u001b[0;32m   <a href='file:///c%3A/python/lib/site-packages/xgboost/sklearn.py?line=1425'>1426</a>\u001b[0m     \u001b[39mself\u001b[39m,\n\u001b[0;32m   <a href='file:///c%3A/python/lib/site-packages/xgboost/sklearn.py?line=1426'>1427</a>\u001b[0m     X: ArrayLike,\n\u001b[1;32m   (...)\u001b[0m\n\u001b[0;32m   <a href='file:///c%3A/python/lib/site-packages/xgboost/sklearn.py?line=1431'>1432</a>\u001b[0m     iteration_range: Optional[Tuple[\u001b[39mint\u001b[39m, \u001b[39mint\u001b[39m]] \u001b[39m=\u001b[39m \u001b[39mNone\u001b[39;00m,\n\u001b[0;32m   <a href='file:///c%3A/python/lib/site-packages/xgboost/sklearn.py?line=1432'>1433</a>\u001b[0m ) \u001b[39m-\u001b[39m\u001b[39m>\u001b[39m np\u001b[39m.\u001b[39mndarray:\n\u001b[1;32m-> <a href='file:///c%3A/python/lib/site-packages/xgboost/sklearn.py?line=1433'>1434</a>\u001b[0m     class_probs \u001b[39m=\u001b[39m \u001b[39msuper\u001b[39;49m()\u001b[39m.\u001b[39;49mpredict(\n\u001b[0;32m   <a href='file:///c%3A/python/lib/site-packages/xgboost/sklearn.py?line=1434'>1435</a>\u001b[0m         X\u001b[39m=\u001b[39;49mX,\n\u001b[0;32m   <a href='file:///c%3A/python/lib/site-packages/xgboost/sklearn.py?line=1435'>1436</a>\u001b[0m         output_margin\u001b[39m=\u001b[39;49moutput_margin,\n\u001b[0;32m   <a href='file:///c%3A/python/lib/site-packages/xgboost/sklearn.py?line=1436'>1437</a>\u001b[0m         ntree_limit\u001b[39m=\u001b[39;49mntree_limit,\n\u001b[0;32m   <a href='file:///c%3A/python/lib/site-packages/xgboost/sklearn.py?line=1437'>1438</a>\u001b[0m         validate_features\u001b[39m=\u001b[39;49mvalidate_features,\n\u001b[0;32m   <a href='file:///c%3A/python/lib/site-packages/xgboost/sklearn.py?line=1438'>1439</a>\u001b[0m         base_margin\u001b[39m=\u001b[39;49mbase_margin,\n\u001b[0;32m   <a href='file:///c%3A/python/lib/site-packages/xgboost/sklearn.py?line=1439'>1440</a>\u001b[0m         iteration_range\u001b[39m=\u001b[39;49miteration_range,\n\u001b[0;32m   <a href='file:///c%3A/python/lib/site-packages/xgboost/sklearn.py?line=1440'>1441</a>\u001b[0m     )\n\u001b[0;32m   <a href='file:///c%3A/python/lib/site-packages/xgboost/sklearn.py?line=1441'>1442</a>\u001b[0m     \u001b[39mif\u001b[39;00m output_margin:\n\u001b[0;32m   <a href='file:///c%3A/python/lib/site-packages/xgboost/sklearn.py?line=1442'>1443</a>\u001b[0m         \u001b[39m# If output_margin is active, simply return the scores\u001b[39;00m\n\u001b[0;32m   <a href='file:///c%3A/python/lib/site-packages/xgboost/sklearn.py?line=1443'>1444</a>\u001b[0m         \u001b[39mreturn\u001b[39;00m class_probs\n",
            "File \u001b[1;32mC:\\python\\lib\\site-packages\\xgboost\\sklearn.py:1044\u001b[0m, in \u001b[0;36mXGBModel.predict\u001b[1;34m(self, X, output_margin, ntree_limit, validate_features, base_margin, iteration_range)\u001b[0m\n\u001b[0;32m   <a href='file:///c%3A/python/lib/site-packages/xgboost/sklearn.py?line=1000'>1001</a>\u001b[0m \u001b[39mdef\u001b[39;00m \u001b[39mpredict\u001b[39m(\n\u001b[0;32m   <a href='file:///c%3A/python/lib/site-packages/xgboost/sklearn.py?line=1001'>1002</a>\u001b[0m     \u001b[39mself\u001b[39m,\n\u001b[0;32m   <a href='file:///c%3A/python/lib/site-packages/xgboost/sklearn.py?line=1002'>1003</a>\u001b[0m     X: ArrayLike,\n\u001b[1;32m   (...)\u001b[0m\n\u001b[0;32m   <a href='file:///c%3A/python/lib/site-packages/xgboost/sklearn.py?line=1007'>1008</a>\u001b[0m     iteration_range: Optional[Tuple[\u001b[39mint\u001b[39m, \u001b[39mint\u001b[39m]] \u001b[39m=\u001b[39m \u001b[39mNone\u001b[39;00m,\n\u001b[0;32m   <a href='file:///c%3A/python/lib/site-packages/xgboost/sklearn.py?line=1008'>1009</a>\u001b[0m ) \u001b[39m-\u001b[39m\u001b[39m>\u001b[39m np\u001b[39m.\u001b[39mndarray:\n\u001b[0;32m   <a href='file:///c%3A/python/lib/site-packages/xgboost/sklearn.py?line=1009'>1010</a>\u001b[0m     \u001b[39m\"\"\"Predict with `X`.  If the model is trained with early stopping, then `best_iteration`\u001b[39;00m\n\u001b[0;32m   <a href='file:///c%3A/python/lib/site-packages/xgboost/sklearn.py?line=1010'>1011</a>\u001b[0m \u001b[39m    is used automatically.  For tree models, when data is on GPU, like cupy array or\u001b[39;00m\n\u001b[0;32m   <a href='file:///c%3A/python/lib/site-packages/xgboost/sklearn.py?line=1011'>1012</a>\u001b[0m \u001b[39m    cuDF dataframe and `predictor` is not specified, the prediction is run on GPU\u001b[39;00m\n\u001b[1;32m   (...)\u001b[0m\n\u001b[0;32m   <a href='file:///c%3A/python/lib/site-packages/xgboost/sklearn.py?line=1040'>1041</a>\u001b[0m \n\u001b[0;32m   <a href='file:///c%3A/python/lib/site-packages/xgboost/sklearn.py?line=1041'>1042</a>\u001b[0m \u001b[39m    \"\"\"\u001b[39;00m\n\u001b[0;32m   <a href='file:///c%3A/python/lib/site-packages/xgboost/sklearn.py?line=1042'>1043</a>\u001b[0m     iteration_range \u001b[39m=\u001b[39m _convert_ntree_limit(\n\u001b[1;32m-> <a href='file:///c%3A/python/lib/site-packages/xgboost/sklearn.py?line=1043'>1044</a>\u001b[0m         \u001b[39mself\u001b[39;49m\u001b[39m.\u001b[39;49mget_booster(), ntree_limit, iteration_range\n\u001b[0;32m   <a href='file:///c%3A/python/lib/site-packages/xgboost/sklearn.py?line=1044'>1045</a>\u001b[0m     )\n\u001b[0;32m   <a href='file:///c%3A/python/lib/site-packages/xgboost/sklearn.py?line=1045'>1046</a>\u001b[0m     iteration_range \u001b[39m=\u001b[39m \u001b[39mself\u001b[39m\u001b[39m.\u001b[39m_get_iteration_range(iteration_range)\n\u001b[0;32m   <a href='file:///c%3A/python/lib/site-packages/xgboost/sklearn.py?line=1046'>1047</a>\u001b[0m     \u001b[39mif\u001b[39;00m \u001b[39mself\u001b[39m\u001b[39m.\u001b[39m_can_use_inplace_predict():\n",
            "File \u001b[1;32mC:\\python\\lib\\site-packages\\xgboost\\sklearn.py:590\u001b[0m, in \u001b[0;36mXGBModel.get_booster\u001b[1;34m(self)\u001b[0m\n\u001b[0;32m    <a href='file:///c%3A/python/lib/site-packages/xgboost/sklearn.py?line=587'>588</a>\u001b[0m \u001b[39mif\u001b[39;00m \u001b[39mnot\u001b[39;00m \u001b[39mself\u001b[39m\u001b[39m.\u001b[39m__sklearn_is_fitted__():\n\u001b[0;32m    <a href='file:///c%3A/python/lib/site-packages/xgboost/sklearn.py?line=588'>589</a>\u001b[0m     \u001b[39mfrom\u001b[39;00m \u001b[39msklearn\u001b[39;00m\u001b[39m.\u001b[39;00m\u001b[39mexceptions\u001b[39;00m \u001b[39mimport\u001b[39;00m NotFittedError\n\u001b[1;32m--> <a href='file:///c%3A/python/lib/site-packages/xgboost/sklearn.py?line=589'>590</a>\u001b[0m     \u001b[39mraise\u001b[39;00m NotFittedError(\u001b[39m'\u001b[39m\u001b[39mneed to call fit or load_model beforehand\u001b[39m\u001b[39m'\u001b[39m)\n\u001b[0;32m    <a href='file:///c%3A/python/lib/site-packages/xgboost/sklearn.py?line=590'>591</a>\u001b[0m \u001b[39mreturn\u001b[39;00m \u001b[39mself\u001b[39m\u001b[39m.\u001b[39m_Booster\n",
            "\u001b[1;31mNotFittedError\u001b[0m: need to call fit or load_model beforehand"
          ]
        }
      ],
      "source": [
        "#PRED6 = XGB_C.predict(X_test)\n",
        "#x = metrics.accuracy_score(y_test,PRED6)\n",
        "#AP.append(x)\n",
        "#MN.append('XGB_C')\n",
        "#print(\"XGB_C Accuracy ==>: \", x)\n",
        "#print(classification_report(y_test,PRED6))"
      ]
    },
    {
      "cell_type": "code",
      "execution_count": 52,
      "metadata": {
        "colab": {
          "base_uri": "https://localhost:8080/"
        },
        "id": "62Nd6R5iW3AJ",
        "outputId": "bfe22493-f05a-41a9-f5a9-13b5f47f79e1"
      },
      "outputs": [
        {
          "name": "stdout",
          "output_type": "stream",
          "text": [
            "RF Accuracy ==>:  0.9931818181818182\n",
            "              precision    recall  f1-score   support\n",
            "\n",
            "       apple       1.00      1.00      1.00        13\n",
            "      banana       1.00      1.00      1.00        17\n",
            "   blackgram       1.00      1.00      1.00        16\n",
            "    chickpea       1.00      1.00      1.00        21\n",
            "     coconut       1.00      1.00      1.00        21\n",
            "      coffee       1.00      1.00      1.00        22\n",
            "      cotton       1.00      1.00      1.00        20\n",
            "      grapes       1.00      1.00      1.00        18\n",
            "        jute       0.90      1.00      0.95        28\n",
            " kidneybeans       1.00      1.00      1.00        14\n",
            "      lentil       1.00      1.00      1.00        23\n",
            "       maize       1.00      1.00      1.00        21\n",
            "       mango       1.00      1.00      1.00        26\n",
            "   mothbeans       1.00      1.00      1.00        19\n",
            "    mungbean       1.00      1.00      1.00        24\n",
            "   muskmelon       1.00      1.00      1.00        23\n",
            "      orange       1.00      1.00      1.00        29\n",
            "      papaya       1.00      1.00      1.00        19\n",
            "  pigeonpeas       1.00      1.00      1.00        18\n",
            " pomegranate       1.00      1.00      1.00        17\n",
            "        rice       1.00      0.81      0.90        16\n",
            "  watermelon       1.00      1.00      1.00        15\n",
            "\n",
            "    accuracy                           0.99       440\n",
            "   macro avg       1.00      0.99      0.99       440\n",
            "weighted avg       0.99      0.99      0.99       440\n",
            "\n"
          ]
        }
      ],
      "source": [
        "PRED7 = RF.predict(X_test)\n",
        "x = metrics.accuracy_score(y_test,PRED7)\n",
        "AP.append(x)\n",
        "MN.append('RF')\n",
        "print(\"RF Accuracy ==>: \", x)\n",
        "print(classification_report(y_test,PRED7))"
      ]
    },
    {
      "cell_type": "code",
      "execution_count": 53,
      "metadata": {
        "colab": {
          "base_uri": "https://localhost:8080/"
        },
        "id": "H7dnLAUBW3Ch",
        "outputId": "c075009d-004b-453f-bdb9-52148a0b0732"
      },
      "outputs": [
        {
          "data": {
            "text/plain": [
              "array([0.27727273, 0.28863636, 0.29090909, 0.275     , 0.26818182])"
            ]
          },
          "execution_count": 53,
          "metadata": {},
          "output_type": "execute_result"
        }
      ],
      "source": [
        "O = cross_val_score(SVM,a,Target,cv=5)\n",
        "O"
      ]
    },
    {
      "cell_type": "code",
      "execution_count": 54,
      "metadata": {
        "colab": {
          "base_uri": "https://localhost:8080/"
        },
        "id": "oih_dCojW3GE",
        "outputId": "bcc32b60-9419-45ac-e119-2d074483ce64"
      },
      "outputs": [
        {
          "data": {
            "text/plain": [
              "array([0.93636364, 0.90909091, 0.91818182, 0.87045455, 0.93636364])"
            ]
          },
          "execution_count": 54,
          "metadata": {},
          "output_type": "execute_result"
        }
      ],
      "source": [
        "O = cross_val_score(DT,a,Target,cv=5)\n",
        "O"
      ]
    },
    {
      "cell_type": "code",
      "execution_count": 66,
      "metadata": {
        "colab": {
          "base_uri": "https://localhost:8080/"
        },
        "id": "FV9oopxlW_0s",
        "outputId": "c0517331-cee3-4958-f885-e53442e63ae9"
      },
      "outputs": [
        {
          "name": "stderr",
          "output_type": "stream",
          "text": [
            "C:\\python\\lib\\site-packages\\sklearn\\linear_model\\_logistic.py:444: ConvergenceWarning: lbfgs failed to converge (status=1):\n",
            "STOP: TOTAL NO. of ITERATIONS REACHED LIMIT.\n",
            "\n",
            "Increase the number of iterations (max_iter) or scale the data as shown in:\n",
            "    https://scikit-learn.org/stable/modules/preprocessing.html\n",
            "Please also refer to the documentation for alternative solver options:\n",
            "    https://scikit-learn.org/stable/modules/linear_model.html#logistic-regression\n",
            "  n_iter_i = _check_optimize_result(\n",
            "C:\\python\\lib\\site-packages\\sklearn\\linear_model\\_logistic.py:444: ConvergenceWarning: lbfgs failed to converge (status=1):\n",
            "STOP: TOTAL NO. of ITERATIONS REACHED LIMIT.\n",
            "\n",
            "Increase the number of iterations (max_iter) or scale the data as shown in:\n",
            "    https://scikit-learn.org/stable/modules/preprocessing.html\n",
            "Please also refer to the documentation for alternative solver options:\n",
            "    https://scikit-learn.org/stable/modules/linear_model.html#logistic-regression\n",
            "  n_iter_i = _check_optimize_result(\n",
            "C:\\python\\lib\\site-packages\\sklearn\\linear_model\\_logistic.py:444: ConvergenceWarning: lbfgs failed to converge (status=1):\n",
            "STOP: TOTAL NO. of ITERATIONS REACHED LIMIT.\n",
            "\n",
            "Increase the number of iterations (max_iter) or scale the data as shown in:\n",
            "    https://scikit-learn.org/stable/modules/preprocessing.html\n",
            "Please also refer to the documentation for alternative solver options:\n",
            "    https://scikit-learn.org/stable/modules/linear_model.html#logistic-regression\n",
            "  n_iter_i = _check_optimize_result(\n",
            "C:\\python\\lib\\site-packages\\sklearn\\linear_model\\_logistic.py:444: ConvergenceWarning: lbfgs failed to converge (status=1):\n",
            "STOP: TOTAL NO. of ITERATIONS REACHED LIMIT.\n",
            "\n",
            "Increase the number of iterations (max_iter) or scale the data as shown in:\n",
            "    https://scikit-learn.org/stable/modules/preprocessing.html\n",
            "Please also refer to the documentation for alternative solver options:\n",
            "    https://scikit-learn.org/stable/modules/linear_model.html#logistic-regression\n",
            "  n_iter_i = _check_optimize_result(\n",
            "C:\\python\\lib\\site-packages\\sklearn\\linear_model\\_logistic.py:444: ConvergenceWarning: lbfgs failed to converge (status=1):\n",
            "STOP: TOTAL NO. of ITERATIONS REACHED LIMIT.\n",
            "\n",
            "Increase the number of iterations (max_iter) or scale the data as shown in:\n",
            "    https://scikit-learn.org/stable/modules/preprocessing.html\n",
            "Please also refer to the documentation for alternative solver options:\n",
            "    https://scikit-learn.org/stable/modules/linear_model.html#logistic-regression\n",
            "  n_iter_i = _check_optimize_result(\n"
          ]
        },
        {
          "data": {
            "text/plain": [
              "array([0.95      , 0.96590909, 0.94772727, 0.96818182, 0.94318182])"
            ]
          },
          "execution_count": 66,
          "metadata": {},
          "output_type": "execute_result"
        }
      ],
      "source": [
        "O = cross_val_score(LR,a,Target,cv=5)\n",
        "O"
      ]
    },
    {
      "cell_type": "code",
      "execution_count": 56,
      "metadata": {
        "colab": {
          "base_uri": "https://localhost:8080/"
        },
        "id": "WTjiU_cBXAuj",
        "outputId": "b25b7774-0dfa-4210-8143-a9747a50dc24"
      },
      "outputs": [
        {
          "data": {
            "text/plain": [
              "array([0.97954545, 0.975     , 0.98181818, 0.99090909, 0.98181818])"
            ]
          },
          "execution_count": 56,
          "metadata": {},
          "output_type": "execute_result"
        }
      ],
      "source": [
        "O = cross_val_score(KNN,a,Target,cv=5)\n",
        "O"
      ]
    },
    {
      "cell_type": "code",
      "execution_count": 57,
      "metadata": {
        "colab": {
          "base_uri": "https://localhost:8080/"
        },
        "id": "ItTRqfWeXJd5",
        "outputId": "903207ef-8e27-40b4-a1d5-ff3a5da1e6de"
      },
      "outputs": [
        {
          "data": {
            "text/plain": [
              "array([0.99772727, 0.99545455, 0.99545455, 0.99545455, 0.99090909])"
            ]
          },
          "execution_count": 57,
          "metadata": {},
          "output_type": "execute_result"
        }
      ],
      "source": [
        "O = cross_val_score(GNB,a,Target,cv=5)\n",
        "O"
      ]
    },
    {
      "cell_type": "code",
      "execution_count": null,
      "metadata": {
        "colab": {
          "base_uri": "https://localhost:8080/"
        },
        "id": "fZZq9D8JXJha",
        "outputId": "81c2324d-6a45-4f8f-cecd-2e1bf33efcdd"
      },
      "outputs": [
        {
          "data": {
            "text/plain": [
              "array([0.98636364, 0.99318182, 0.99545455, 0.99090909, 0.98409091])"
            ]
          },
          "execution_count": 70,
          "metadata": {},
          "output_type": "execute_result"
        }
      ],
      "source": [
        "O = cross_val_score(XGB_C,a,Target,cv=5)\n",
        "O"
      ]
    },
    {
      "cell_type": "code",
      "execution_count": 58,
      "metadata": {
        "colab": {
          "base_uri": "https://localhost:8080/"
        },
        "id": "5zyaM-hiXPE7",
        "outputId": "d5d4d7c6-915d-4780-91f6-0e1da52c0a89"
      },
      "outputs": [
        {
          "data": {
            "text/plain": [
              "array([0.99772727, 0.99318182, 0.99545455, 0.99545455, 0.98636364])"
            ]
          },
          "execution_count": 58,
          "metadata": {},
          "output_type": "execute_result"
        }
      ],
      "source": [
        "O = cross_val_score(RF,a,Target,cv=5)\n",
        "O"
      ]
    },
    {
      "cell_type": "code",
      "execution_count": 59,
      "metadata": {
        "colab": {
          "base_uri": "https://localhost:8080/",
          "height": 497
        },
        "id": "v2PSf9_oXPIc",
        "outputId": "659f70cc-f4d3-4eb0-e1dd-8ab716086a75"
      },
      "outputs": [
        {
          "data": {
            "text/plain": [
              "<AxesSubplot:title={'center':'Compare Accuracy of all Algorithms'}, xlabel='Accuracy', ylabel='Algorithms'>"
            ]
          },
          "execution_count": 59,
          "metadata": {},
          "output_type": "execute_result"
        },
        {
          "data": {
            "image/png": "[encoded data removed]",
            "text/plain": [
              "<Figure size 1000x500 with 1 Axes>"
            ]
          },
          "metadata": {},
          "output_type": "display_data"
        }
      ],
      "source": [
        "plt.figure(figsize=[10,5],dpi = 100)\n",
        "plt.title('Compare Accuracy of all Algorithms')\n",
        "plt.xlabel('Accuracy')\n",
        "plt.ylabel('Algorithms')\n",
        "sns.barplot(x = AP,y = MN,palette='dark')"
      ]
    },
    {
      "cell_type": "code",
      "execution_count": 60,
      "metadata": {
        "colab": {
          "base_uri": "https://localhost:8080/"
        },
        "id": "JLJwMqY6XY6T",
        "outputId": "ddbb896a-9486-4606-f052-4449ab775f23"
      },
      "outputs": [
        {
          "name": "stdout",
          "output_type": "stream",
          "text": [
            "SVM ==> 0.10681818181818181\n",
            "DT ==> 0.9\n",
            "LR ==> 0.9522727272727273\n",
            "KNN ==> 0.9704545454545455\n",
            "CB ==> 0.990909090909091\n",
            "GNB ==> 0.990909090909091\n",
            "RF ==> 0.9931818181818182\n"
          ]
        }
      ],
      "source": [
        "AOM = dict(zip(MN, AP))\n",
        "for i, j in AOM.items():\n",
        "    print (i,'==>',j)"
      ]
    },
    {
      "cell_type": "code",
      "execution_count": 61,
      "metadata": {
        "id": "LE0LVgHxXY9o"
      },
      "outputs": [],
      "source": [
        "q = np.array([[ 22, 67, 78 , 17.1 , 14.42 , 6.2 , 72.3 ]])"
      ]
    },
    {
      "cell_type": "code",
      "execution_count": 62,
      "metadata": {
        "colab": {
          "base_uri": "https://localhost:8080/"
        },
        "id": "VzxKczPyXZkU",
        "outputId": "a0223f1d-6d4b-47c7-ab57-95e96cba54c8"
      },
      "outputs": [
        {
          "name": "stdout",
          "output_type": "stream",
          "text": [
            "['chickpea']\n"
          ]
        },
        {
          "name": "stderr",
          "output_type": "stream",
          "text": [
            "C:\\python\\lib\\site-packages\\sklearn\\base.py:450: UserWarning: X does not have valid feature names, but RandomForestClassifier was fitted with feature names\n",
            "  warnings.warn(\n"
          ]
        }
      ],
      "source": [
        "PRED00 = RF.predict(q)\n",
        "print(PRED00)"
      ]
    },
    {
      "cell_type": "code",
      "execution_count": null,
      "metadata": {
        "id": "l1Kb9zVFX8-G"
      },
      "outputs": [],
      "source": [
        "w = np.array([[22,67,78,17.1,14.42,6.2,72.3]])"
      ]
    },
    {
      "cell_type": "code",
      "execution_count": 64,
      "metadata": {
        "colab": {
          "base_uri": "https://localhost:8080/",
          "height": 130
        },
        "id": "PJsN1JjpX9Ba",
        "outputId": "dbf46961-1bbf-4cd9-e5e8-ac1eda2b8508"
      },
      "outputs": [
        {
          "ename": "SyntaxError",
          "evalue": "invalid syntax (4110023508.py, line 1)",
          "output_type": "error",
          "traceback": [
            "\u001b[1;36m  Input \u001b[1;32mIn [64]\u001b[1;36m\u001b[0m\n\u001b[1;33m    PERD000 = RF.predict(w).\u001b[0m\n\u001b[1;37m                            ^\u001b[0m\n\u001b[1;31mSyntaxError\u001b[0m\u001b[1;31m:\u001b[0m invalid syntax\n"
          ]
        }
      ],
      "source": [
        "#PERD000 = RF.predict(w)."
      ]
    },
    {
      "cell_type": "code",
      "execution_count": 65,
      "metadata": {
        "colab": {
          "base_uri": "https://localhost:8080/"
        },
        "id": "o3gcHVuVYXAq",
        "outputId": "79240f62-d0c0-44e6-f53d-c07b95a4db01"
      },
      "outputs": [
        {
          "ename": "NameError",
          "evalue": "name 'PERD000' is not defined",
          "output_type": "error",
          "traceback": [
            "\u001b[1;31m---------------------------------------------------------------------------\u001b[0m",
            "\u001b[1;31mNameError\u001b[0m                                 Traceback (most recent call last)",
            "\u001b[1;32mc:\\Users\\Chetan\\Downloads\\crop_prediction (1).ipynb Cell 77'\u001b[0m in \u001b[0;36m<cell line: 1>\u001b[1;34m()\u001b[0m\n\u001b[1;32m----> <a href='vscode-notebook-cell:/c%3A/Users/Chetan/Downloads/crop_prediction%20%281%29.ipynb#ch0000076?line=0'>1</a>\u001b[0m \u001b[39mprint\u001b[39m(PERD000)\n",
            "\u001b[1;31mNameError\u001b[0m: name 'PERD000' is not defined"
          ]
        }
      ],
      "source": [
        "#print(PERD000)"
      ]
    }
  ],
  "metadata": {
    "colab": {
      "collapsed_sections": [],
      "provenance": []
    },
    "kernelspec": {
      "display_name": "Python 3",
      "name": "python3"
    },
    "language_info": {
      "codemirror_mode": {
        "name": "ipython",
        "version": 3
      },
      "file_extension": ".py",
      "mimetype": "text/x-python",
      "name": "python",
      "nbconvert_exporter": "python",
      "pygments_lexer": "ipython3",
      "version": "3.9.7"
    }
  },
  "nbformat": 4,
  "nbformat_minor": 0
}
